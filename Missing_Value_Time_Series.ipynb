{
  "nbformat": 4,
  "nbformat_minor": 0,
  "metadata": {
    "accelerator": "TPU",
    "colab": {
      "name": "Missing Value Time Series.ipynb",
      "provenance": [],
      "collapsed_sections": [
        "apw_64bsSnOy",
        "ckq25sOEUKo1",
        "OBOCLJo8UOdf",
        "qT5w12iyURnk",
        "mqJdpc-eWidO"
      ],
      "authorship_tag": "ABX9TyPhgaB0LMUSf7N+t310wSmm",
      "include_colab_link": true
    },
    "kernelspec": {
      "display_name": "Python 3",
      "name": "python3"
    }
  },
  "cells": [
    {
      "cell_type": "markdown",
      "metadata": {
        "id": "view-in-github",
        "colab_type": "text"
      },
      "source": [
        "<a href=\"https://colab.research.google.com/github/utkarsh0702/Projects/blob/master/Missing_Value_Time_Series.ipynb\" target=\"_parent\"><img src=\"https://colab.research.google.com/assets/colab-badge.svg\" alt=\"Open In Colab\"/></a>"
      ]
    },
    {
      "cell_type": "code",
      "metadata": {
        "id": "w7O6bzHvzibS"
      },
      "source": [
        "import tensorflow as tf\r\n",
        "from tensorflow import keras\r\n",
        "import matplotlib as mpl\r\n",
        "import matplotlib.pyplot as plt\r\n",
        "import numpy as np\r\n",
        "import pandas as pd\r\n",
        "from sklearn.metrics import mean_squared_error\r\n",
        "from sklearn.preprocessing import MinMaxScaler\r\n",
        "\r\n",
        "mpl.rcParams['figure.figsize'] = (10,8)\r\n",
        "mpl.rcParams['axes.grid'] = False"
      ],
      "execution_count": null,
      "outputs": []
    },
    {
      "cell_type": "code",
      "metadata": {
        "colab": {
          "base_uri": "https://localhost:8080/",
          "height": 643
        },
        "id": "QYObrzrAzpsX",
        "outputId": "59bcb151-a912-4970-cf20-5de1c765f913"
      },
      "source": [
        "result = pd.read_csv('new_train.csv', parse_dates=['Date'])\r\n",
        "result['Date'] = pd.to_datetime(result['Date'], errors='coerce')\r\n",
        "result"
      ],
      "execution_count": null,
      "outputs": [
        {
          "output_type": "execute_result",
          "data": {
            "text/html": [
              "<div>\n",
              "<style scoped>\n",
              "    .dataframe tbody tr th:only-of-type {\n",
              "        vertical-align: middle;\n",
              "    }\n",
              "\n",
              "    .dataframe tbody tr th {\n",
              "        vertical-align: top;\n",
              "    }\n",
              "\n",
              "    .dataframe thead th {\n",
              "        text-align: right;\n",
              "    }\n",
              "</style>\n",
              "<table border=\"1\" class=\"dataframe\">\n",
              "  <thead>\n",
              "    <tr style=\"text-align: right;\">\n",
              "      <th></th>\n",
              "      <th>Date</th>\n",
              "      <th>Open-Stock-1</th>\n",
              "      <th>High-Stock-1</th>\n",
              "      <th>Low-Stock-1</th>\n",
              "      <th>Close-Stock-1</th>\n",
              "      <th>VWAP-Stock-1</th>\n",
              "      <th>Volume-Stock-1</th>\n",
              "      <th>Turnover-Stock-1</th>\n",
              "      <th>Open-Stock-2</th>\n",
              "      <th>High-Stock-2</th>\n",
              "      <th>Low-Stock-2</th>\n",
              "      <th>Close-Stock-2</th>\n",
              "      <th>VWAP-Stock-2</th>\n",
              "      <th>Volume-Stock-2</th>\n",
              "      <th>Turnover-Stock-2</th>\n",
              "      <th>Open-Stock-3</th>\n",
              "      <th>High-Stock-3</th>\n",
              "      <th>Low-Stock-3</th>\n",
              "      <th>Close-Stock-3</th>\n",
              "      <th>VWAP-Stock-3</th>\n",
              "      <th>Volume-Stock-3</th>\n",
              "      <th>Turnover-Stock-3</th>\n",
              "      <th>Open-Stock-4</th>\n",
              "      <th>High-Stock-4</th>\n",
              "      <th>Low-Stock-4</th>\n",
              "      <th>Close-Stock-4</th>\n",
              "      <th>VWAP-Stock-4</th>\n",
              "      <th>Volume-Stock-4</th>\n",
              "      <th>Turnover-Stock-4</th>\n",
              "      <th>Open-Stock-5</th>\n",
              "      <th>High-Stock-5</th>\n",
              "      <th>Low-Stock-5</th>\n",
              "      <th>Close-Stock-5</th>\n",
              "      <th>VWAP-Stock-5</th>\n",
              "      <th>Volume-Stock-5</th>\n",
              "      <th>Turnover-Stock-5</th>\n",
              "    </tr>\n",
              "  </thead>\n",
              "  <tbody>\n",
              "    <tr>\n",
              "      <th>0</th>\n",
              "      <td>2010-06-01</td>\n",
              "      <td>1889.70</td>\n",
              "      <td>1890.00</td>\n",
              "      <td>1838.00</td>\n",
              "      <td>1855.10</td>\n",
              "      <td>1855.75</td>\n",
              "      <td>568273</td>\n",
              "      <td>105457457545000</td>\n",
              "      <td>285.40</td>\n",
              "      <td>285.95</td>\n",
              "      <td>281.50</td>\n",
              "      <td>283.00</td>\n",
              "      <td>283.72</td>\n",
              "      <td>3191773</td>\n",
              "      <td>90557243170000</td>\n",
              "      <td>2095.00</td>\n",
              "      <td>2097.80</td>\n",
              "      <td>2045.00</td>\n",
              "      <td>2077.25</td>\n",
              "      <td>2088.95</td>\n",
              "      <td>70547</td>\n",
              "      <td>14736933230000</td>\n",
              "      <td>851.65</td>\n",
              "      <td>864.80</td>\n",
              "      <td>833.10</td>\n",
              "      <td>837.95</td>\n",
              "      <td>844.44</td>\n",
              "      <td>3878011</td>\n",
              "      <td>327474904340000</td>\n",
              "      <td>1235.0</td>\n",
              "      <td>1238.00</td>\n",
              "      <td>1177.00</td>\n",
              "      <td>1181.70</td>\n",
              "      <td>1197.29</td>\n",
              "      <td>1786082</td>\n",
              "      <td>213845404410000</td>\n",
              "    </tr>\n",
              "    <tr>\n",
              "      <th>1</th>\n",
              "      <td>2010-06-02</td>\n",
              "      <td>1848.00</td>\n",
              "      <td>1862.75</td>\n",
              "      <td>1828.00</td>\n",
              "      <td>1853.05</td>\n",
              "      <td>1842.82</td>\n",
              "      <td>945167</td>\n",
              "      <td>174177161135000</td>\n",
              "      <td>284.00</td>\n",
              "      <td>284.80</td>\n",
              "      <td>279.25</td>\n",
              "      <td>281.30</td>\n",
              "      <td>281.05</td>\n",
              "      <td>2704797</td>\n",
              "      <td>76017076445000</td>\n",
              "      <td>2061.45</td>\n",
              "      <td>2098.00</td>\n",
              "      <td>2023.00</td>\n",
              "      <td>2079.85</td>\n",
              "      <td>2059.52</td>\n",
              "      <td>55547</td>\n",
              "      <td>11440017990000</td>\n",
              "      <td>844.70</td>\n",
              "      <td>849.90</td>\n",
              "      <td>823.00</td>\n",
              "      <td>842.30</td>\n",
              "      <td>838.31</td>\n",
              "      <td>3320996</td>\n",
              "      <td>278403743240000</td>\n",
              "      <td>1195.0</td>\n",
              "      <td>1206.95</td>\n",
              "      <td>1168.50</td>\n",
              "      <td>1201.15</td>\n",
              "      <td>1189.87</td>\n",
              "      <td>1307410</td>\n",
              "      <td>155564994855000</td>\n",
              "    </tr>\n",
              "    <tr>\n",
              "      <th>2</th>\n",
              "      <td>2010-06-03</td>\n",
              "      <td>1864.10</td>\n",
              "      <td>1910.00</td>\n",
              "      <td>1864.10</td>\n",
              "      <td>1905.60</td>\n",
              "      <td>1893.91</td>\n",
              "      <td>679689</td>\n",
              "      <td>128727119355000</td>\n",
              "      <td>283.00</td>\n",
              "      <td>286.85</td>\n",
              "      <td>282.50</td>\n",
              "      <td>285.50</td>\n",
              "      <td>285.34</td>\n",
              "      <td>2489752</td>\n",
              "      <td>71043460510000</td>\n",
              "      <td>2131.50</td>\n",
              "      <td>2131.50</td>\n",
              "      <td>2091.05</td>\n",
              "      <td>2114.90</td>\n",
              "      <td>2107.84</td>\n",
              "      <td>55130</td>\n",
              "      <td>11620529360000</td>\n",
              "      <td>851.40</td>\n",
              "      <td>859.05</td>\n",
              "      <td>848.20</td>\n",
              "      <td>854.10</td>\n",
              "      <td>853.51</td>\n",
              "      <td>2494522</td>\n",
              "      <td>212910342645000</td>\n",
              "      <td>1211.0</td>\n",
              "      <td>1248.00</td>\n",
              "      <td>1211.00</td>\n",
              "      <td>1242.30</td>\n",
              "      <td>1231.63</td>\n",
              "      <td>1482919</td>\n",
              "      <td>182640434320000</td>\n",
              "    </tr>\n",
              "    <tr>\n",
              "      <th>3</th>\n",
              "      <td>2010-06-04</td>\n",
              "      <td>1906.00</td>\n",
              "      <td>1909.80</td>\n",
              "      <td>1880.10</td>\n",
              "      <td>1885.70</td>\n",
              "      <td>1889.21</td>\n",
              "      <td>509435</td>\n",
              "      <td>96242800140000</td>\n",
              "      <td>288.85</td>\n",
              "      <td>291.80</td>\n",
              "      <td>277.00</td>\n",
              "      <td>290.85</td>\n",
              "      <td>289.81</td>\n",
              "      <td>3188813</td>\n",
              "      <td>92414802585000</td>\n",
              "      <td>2114.90</td>\n",
              "      <td>2156.00</td>\n",
              "      <td>2095.50</td>\n",
              "      <td>2146.75</td>\n",
              "      <td>2145.36</td>\n",
              "      <td>29302</td>\n",
              "      <td>6286330280000</td>\n",
              "      <td>854.10</td>\n",
              "      <td>868.60</td>\n",
              "      <td>854.10</td>\n",
              "      <td>865.85</td>\n",
              "      <td>862.85</td>\n",
              "      <td>2963920</td>\n",
              "      <td>255740999120000</td>\n",
              "      <td>1240.0</td>\n",
              "      <td>1258.00</td>\n",
              "      <td>1240.00</td>\n",
              "      <td>1245.45</td>\n",
              "      <td>1249.72</td>\n",
              "      <td>1454459</td>\n",
              "      <td>181767075850000</td>\n",
              "    </tr>\n",
              "    <tr>\n",
              "      <th>4</th>\n",
              "      <td>2010-06-07</td>\n",
              "      <td>1867.00</td>\n",
              "      <td>1894.85</td>\n",
              "      <td>1808.35</td>\n",
              "      <td>1876.65</td>\n",
              "      <td>1873.32</td>\n",
              "      <td>961913</td>\n",
              "      <td>180196832650000</td>\n",
              "      <td>285.00</td>\n",
              "      <td>289.10</td>\n",
              "      <td>285.00</td>\n",
              "      <td>287.70</td>\n",
              "      <td>287.01</td>\n",
              "      <td>2198836</td>\n",
              "      <td>63109395135000</td>\n",
              "      <td>2132.35</td>\n",
              "      <td>2209.00</td>\n",
              "      <td>2112.00</td>\n",
              "      <td>2185.25</td>\n",
              "      <td>2180.52</td>\n",
              "      <td>78919</td>\n",
              "      <td>17208425860000</td>\n",
              "      <td>712.00</td>\n",
              "      <td>850.00</td>\n",
              "      <td>712.00</td>\n",
              "      <td>841.95</td>\n",
              "      <td>839.89</td>\n",
              "      <td>3471483</td>\n",
              "      <td>291567400640000</td>\n",
              "      <td>1218.6</td>\n",
              "      <td>1225.00</td>\n",
              "      <td>1196.00</td>\n",
              "      <td>1214.80</td>\n",
              "      <td>1209.27</td>\n",
              "      <td>1424594</td>\n",
              "      <td>172272511430000</td>\n",
              "    </tr>\n",
              "    <tr>\n",
              "      <th>...</th>\n",
              "      <td>...</td>\n",
              "      <td>...</td>\n",
              "      <td>...</td>\n",
              "      <td>...</td>\n",
              "      <td>...</td>\n",
              "      <td>...</td>\n",
              "      <td>...</td>\n",
              "      <td>...</td>\n",
              "      <td>...</td>\n",
              "      <td>...</td>\n",
              "      <td>...</td>\n",
              "      <td>...</td>\n",
              "      <td>...</td>\n",
              "      <td>...</td>\n",
              "      <td>...</td>\n",
              "      <td>...</td>\n",
              "      <td>...</td>\n",
              "      <td>...</td>\n",
              "      <td>...</td>\n",
              "      <td>...</td>\n",
              "      <td>...</td>\n",
              "      <td>...</td>\n",
              "      <td>...</td>\n",
              "      <td>...</td>\n",
              "      <td>...</td>\n",
              "      <td>...</td>\n",
              "      <td>...</td>\n",
              "      <td>...</td>\n",
              "      <td>...</td>\n",
              "      <td>...</td>\n",
              "      <td>...</td>\n",
              "      <td>...</td>\n",
              "      <td>...</td>\n",
              "      <td>...</td>\n",
              "      <td>...</td>\n",
              "      <td>...</td>\n",
              "    </tr>\n",
              "    <tr>\n",
              "      <th>294</th>\n",
              "      <td>2011-07-28</td>\n",
              "      <td>499.50</td>\n",
              "      <td>499.50</td>\n",
              "      <td>484.60</td>\n",
              "      <td>487.30</td>\n",
              "      <td>489.79</td>\n",
              "      <td>5354489</td>\n",
              "      <td>262255417380000</td>\n",
              "      <td>198.35</td>\n",
              "      <td>207.00</td>\n",
              "      <td>198.35</td>\n",
              "      <td>206.25</td>\n",
              "      <td>204.68</td>\n",
              "      <td>16270594</td>\n",
              "      <td>333026806690000</td>\n",
              "      <td>3105.85</td>\n",
              "      <td>3143.00</td>\n",
              "      <td>3105.85</td>\n",
              "      <td>3120.85</td>\n",
              "      <td>3121.98</td>\n",
              "      <td>155200</td>\n",
              "      <td>48453078985000</td>\n",
              "      <td>1012.10</td>\n",
              "      <td>1035.50</td>\n",
              "      <td>1010.00</td>\n",
              "      <td>1017.45</td>\n",
              "      <td>1021.77</td>\n",
              "      <td>3823471</td>\n",
              "      <td>390670692820000</td>\n",
              "      <td>1285.0</td>\n",
              "      <td>1307.95</td>\n",
              "      <td>1285.00</td>\n",
              "      <td>1301.50</td>\n",
              "      <td>1297.00</td>\n",
              "      <td>1353005</td>\n",
              "      <td>175484999030000</td>\n",
              "    </tr>\n",
              "    <tr>\n",
              "      <th>295</th>\n",
              "      <td>2011-07-29</td>\n",
              "      <td>489.90</td>\n",
              "      <td>489.90</td>\n",
              "      <td>481.10</td>\n",
              "      <td>486.80</td>\n",
              "      <td>485.65</td>\n",
              "      <td>2997667</td>\n",
              "      <td>145582296035000</td>\n",
              "      <td>205.50</td>\n",
              "      <td>211.25</td>\n",
              "      <td>205.25</td>\n",
              "      <td>208.35</td>\n",
              "      <td>208.89</td>\n",
              "      <td>13288551</td>\n",
              "      <td>277587677435000</td>\n",
              "      <td>3122.40</td>\n",
              "      <td>3140.05</td>\n",
              "      <td>3115.00</td>\n",
              "      <td>3134.00</td>\n",
              "      <td>3129.24</td>\n",
              "      <td>28578</td>\n",
              "      <td>8942753035000</td>\n",
              "      <td>1011.00</td>\n",
              "      <td>1051.00</td>\n",
              "      <td>1003.60</td>\n",
              "      <td>1036.75</td>\n",
              "      <td>1032.52</td>\n",
              "      <td>6537105</td>\n",
              "      <td>674969821765000</td>\n",
              "      <td>1300.0</td>\n",
              "      <td>1342.00</td>\n",
              "      <td>1292.40</td>\n",
              "      <td>1337.50</td>\n",
              "      <td>1325.46</td>\n",
              "      <td>1850972</td>\n",
              "      <td>245338665665000</td>\n",
              "    </tr>\n",
              "    <tr>\n",
              "      <th>296</th>\n",
              "      <td>2011-08-01</td>\n",
              "      <td>493.45</td>\n",
              "      <td>495.95</td>\n",
              "      <td>484.50</td>\n",
              "      <td>488.00</td>\n",
              "      <td>489.14</td>\n",
              "      <td>2202354</td>\n",
              "      <td>107726909450000</td>\n",
              "      <td>210.00</td>\n",
              "      <td>211.25</td>\n",
              "      <td>208.10</td>\n",
              "      <td>208.90</td>\n",
              "      <td>209.13</td>\n",
              "      <td>7104094</td>\n",
              "      <td>148570564060000</td>\n",
              "      <td>3141.95</td>\n",
              "      <td>3163.00</td>\n",
              "      <td>3053.50</td>\n",
              "      <td>3067.85</td>\n",
              "      <td>3100.07</td>\n",
              "      <td>36332</td>\n",
              "      <td>11263166685000</td>\n",
              "      <td>1052.80</td>\n",
              "      <td>1059.70</td>\n",
              "      <td>1038.70</td>\n",
              "      <td>1045.35</td>\n",
              "      <td>1049.87</td>\n",
              "      <td>2088359</td>\n",
              "      <td>219249912200000</td>\n",
              "      <td>1349.0</td>\n",
              "      <td>1367.55</td>\n",
              "      <td>1346.50</td>\n",
              "      <td>1353.00</td>\n",
              "      <td>1357.02</td>\n",
              "      <td>1226610</td>\n",
              "      <td>166453494180000</td>\n",
              "    </tr>\n",
              "    <tr>\n",
              "      <th>297</th>\n",
              "      <td>2011-08-02</td>\n",
              "      <td>487.90</td>\n",
              "      <td>487.90</td>\n",
              "      <td>480.00</td>\n",
              "      <td>482.85</td>\n",
              "      <td>483.30</td>\n",
              "      <td>1982494</td>\n",
              "      <td>95814144795000</td>\n",
              "      <td>207.70</td>\n",
              "      <td>208.35</td>\n",
              "      <td>202.85</td>\n",
              "      <td>204.75</td>\n",
              "      <td>205.13</td>\n",
              "      <td>7645467</td>\n",
              "      <td>156835059215000</td>\n",
              "      <td>3067.85</td>\n",
              "      <td>3069.00</td>\n",
              "      <td>3001.10</td>\n",
              "      <td>3052.15</td>\n",
              "      <td>3047.39</td>\n",
              "      <td>177189</td>\n",
              "      <td>53996461955000</td>\n",
              "      <td>1039.90</td>\n",
              "      <td>1041.35</td>\n",
              "      <td>1018.10</td>\n",
              "      <td>1021.70</td>\n",
              "      <td>1025.73</td>\n",
              "      <td>2925557</td>\n",
              "      <td>300083555650000</td>\n",
              "      <td>1345.0</td>\n",
              "      <td>1347.95</td>\n",
              "      <td>1326.10</td>\n",
              "      <td>1342.80</td>\n",
              "      <td>1334.07</td>\n",
              "      <td>970086</td>\n",
              "      <td>129416608470000</td>\n",
              "    </tr>\n",
              "    <tr>\n",
              "      <th>298</th>\n",
              "      <td>2011-08-03</td>\n",
              "      <td>478.70</td>\n",
              "      <td>489.40</td>\n",
              "      <td>476.00</td>\n",
              "      <td>482.05</td>\n",
              "      <td>481.89</td>\n",
              "      <td>2082567</td>\n",
              "      <td>100357122620000</td>\n",
              "      <td>203.35</td>\n",
              "      <td>208.20</td>\n",
              "      <td>202.65</td>\n",
              "      <td>206.85</td>\n",
              "      <td>206.29</td>\n",
              "      <td>6657936</td>\n",
              "      <td>137346955990000</td>\n",
              "      <td>3015.00</td>\n",
              "      <td>3068.60</td>\n",
              "      <td>3010.00</td>\n",
              "      <td>3023.20</td>\n",
              "      <td>3036.85</td>\n",
              "      <td>66841</td>\n",
              "      <td>20298603665000</td>\n",
              "      <td>1012.45</td>\n",
              "      <td>1012.45</td>\n",
              "      <td>990.35</td>\n",
              "      <td>1001.95</td>\n",
              "      <td>1000.21</td>\n",
              "      <td>3859436</td>\n",
              "      <td>386025319390000</td>\n",
              "      <td>1330.7</td>\n",
              "      <td>1330.70</td>\n",
              "      <td>1292.75</td>\n",
              "      <td>1301.15</td>\n",
              "      <td>1302.46</td>\n",
              "      <td>1833923</td>\n",
              "      <td>238860994315000</td>\n",
              "    </tr>\n",
              "  </tbody>\n",
              "</table>\n",
              "<p>299 rows × 36 columns</p>\n",
              "</div>"
            ],
            "text/plain": [
              "          Date  Open-Stock-1  ...  Volume-Stock-5  Turnover-Stock-5\n",
              "0   2010-06-01       1889.70  ...         1786082   213845404410000\n",
              "1   2010-06-02       1848.00  ...         1307410   155564994855000\n",
              "2   2010-06-03       1864.10  ...         1482919   182640434320000\n",
              "3   2010-06-04       1906.00  ...         1454459   181767075850000\n",
              "4   2010-06-07       1867.00  ...         1424594   172272511430000\n",
              "..         ...           ...  ...             ...               ...\n",
              "294 2011-07-28        499.50  ...         1353005   175484999030000\n",
              "295 2011-07-29        489.90  ...         1850972   245338665665000\n",
              "296 2011-08-01        493.45  ...         1226610   166453494180000\n",
              "297 2011-08-02        487.90  ...          970086   129416608470000\n",
              "298 2011-08-03        478.70  ...         1833923   238860994315000\n",
              "\n",
              "[299 rows x 36 columns]"
            ]
          },
          "metadata": {
            "tags": []
          },
          "execution_count": 2
        }
      ]
    },
    {
      "cell_type": "code",
      "metadata": {
        "colab": {
          "base_uri": "https://localhost:8080/",
          "height": 813
        },
        "id": "f60dWptMXsg_",
        "outputId": "545465af-8c87-4459-83ed-3beeda11ef9f"
      },
      "source": [
        "test = pd.read_csv('new_test.csv', parse_dates=['Date'])\r\n",
        "test['Date'] = pd.to_datetime(test['Date'], errors='coerce')\r\n",
        "test"
      ],
      "execution_count": null,
      "outputs": [
        {
          "output_type": "execute_result",
          "data": {
            "text/html": [
              "<div>\n",
              "<style scoped>\n",
              "    .dataframe tbody tr th:only-of-type {\n",
              "        vertical-align: middle;\n",
              "    }\n",
              "\n",
              "    .dataframe tbody tr th {\n",
              "        vertical-align: top;\n",
              "    }\n",
              "\n",
              "    .dataframe thead th {\n",
              "        text-align: right;\n",
              "    }\n",
              "</style>\n",
              "<table border=\"1\" class=\"dataframe\">\n",
              "  <thead>\n",
              "    <tr style=\"text-align: right;\">\n",
              "      <th></th>\n",
              "      <th>Date</th>\n",
              "      <th>Open-Stock-1</th>\n",
              "      <th>High-Stock-1</th>\n",
              "      <th>Low-Stock-1</th>\n",
              "      <th>VWAP-Stock-1</th>\n",
              "      <th>Volume-Stock-1</th>\n",
              "      <th>Turnover-Stock-1</th>\n",
              "      <th>Open-Stock-2</th>\n",
              "      <th>High-Stock-2</th>\n",
              "      <th>Low-Stock-2</th>\n",
              "      <th>VWAP-Stock-2</th>\n",
              "      <th>Volume-Stock-2</th>\n",
              "      <th>Turnover-Stock-2</th>\n",
              "      <th>Open-Stock-3</th>\n",
              "      <th>High-Stock-3</th>\n",
              "      <th>Low-Stock-3</th>\n",
              "      <th>VWAP-Stock-3</th>\n",
              "      <th>Volume-Stock-3</th>\n",
              "      <th>Turnover-Stock-3</th>\n",
              "      <th>Open-Stock-4</th>\n",
              "      <th>High-Stock-4</th>\n",
              "      <th>Low-Stock-4</th>\n",
              "      <th>VWAP-Stock-4</th>\n",
              "      <th>Volume-Stock-4</th>\n",
              "      <th>Turnover-Stock-4</th>\n",
              "      <th>Open-Stock-5</th>\n",
              "      <th>High-Stock-5</th>\n",
              "      <th>Low-Stock-5</th>\n",
              "      <th>VWAP-Stock-5</th>\n",
              "      <th>Volume-Stock-5</th>\n",
              "      <th>Turnover-Stock-5</th>\n",
              "    </tr>\n",
              "  </thead>\n",
              "  <tbody>\n",
              "    <tr>\n",
              "      <th>0</th>\n",
              "      <td>2011-08-04</td>\n",
              "      <td>484.1</td>\n",
              "      <td>488.90</td>\n",
              "      <td>475.00</td>\n",
              "      <td>481.00</td>\n",
              "      <td>1829606</td>\n",
              "      <td>88003633160000</td>\n",
              "      <td>204.90</td>\n",
              "      <td>206.75</td>\n",
              "      <td>199.20</td>\n",
              "      <td>202.98</td>\n",
              "      <td>10501999</td>\n",
              "      <td>213174133870000</td>\n",
              "      <td>3011.15</td>\n",
              "      <td>3119.95</td>\n",
              "      <td>3011.15</td>\n",
              "      <td>3078.97</td>\n",
              "      <td>53783</td>\n",
              "      <td>16559616060000</td>\n",
              "      <td>1008.50</td>\n",
              "      <td>1015.0</td>\n",
              "      <td>990.00</td>\n",
              "      <td>1003.31</td>\n",
              "      <td>2716435</td>\n",
              "      <td>272542181190000</td>\n",
              "      <td>1303.60</td>\n",
              "      <td>1312.8</td>\n",
              "      <td>1281.00</td>\n",
              "      <td>1297.04</td>\n",
              "      <td>1569675</td>\n",
              "      <td>203593328285000</td>\n",
              "    </tr>\n",
              "    <tr>\n",
              "      <th>1</th>\n",
              "      <td>2011-08-05</td>\n",
              "      <td>465.0</td>\n",
              "      <td>475.80</td>\n",
              "      <td>457.10</td>\n",
              "      <td>469.56</td>\n",
              "      <td>3156094</td>\n",
              "      <td>148196817355000</td>\n",
              "      <td>195.00</td>\n",
              "      <td>198.00</td>\n",
              "      <td>190.50</td>\n",
              "      <td>194.86</td>\n",
              "      <td>13424736</td>\n",
              "      <td>261588793565000</td>\n",
              "      <td>3091.65</td>\n",
              "      <td>3095.00</td>\n",
              "      <td>3012.00</td>\n",
              "      <td>3061.60</td>\n",
              "      <td>129372</td>\n",
              "      <td>39608524605000</td>\n",
              "      <td>970.00</td>\n",
              "      <td>979.7</td>\n",
              "      <td>950.00</td>\n",
              "      <td>961.50</td>\n",
              "      <td>4644498</td>\n",
              "      <td>446567961345000</td>\n",
              "      <td>1245.00</td>\n",
              "      <td>1252.5</td>\n",
              "      <td>1200.00</td>\n",
              "      <td>1229.09</td>\n",
              "      <td>3125692</td>\n",
              "      <td>384176649890000</td>\n",
              "    </tr>\n",
              "    <tr>\n",
              "      <th>2</th>\n",
              "      <td>2011-08-08</td>\n",
              "      <td>463.0</td>\n",
              "      <td>480.00</td>\n",
              "      <td>458.05</td>\n",
              "      <td>465.04</td>\n",
              "      <td>4308373</td>\n",
              "      <td>200357861965000</td>\n",
              "      <td>193.90</td>\n",
              "      <td>197.80</td>\n",
              "      <td>189.65</td>\n",
              "      <td>194.89</td>\n",
              "      <td>9002509</td>\n",
              "      <td>175445729750000</td>\n",
              "      <td>3015.05</td>\n",
              "      <td>3109.00</td>\n",
              "      <td>3010.00</td>\n",
              "      <td>3069.09</td>\n",
              "      <td>46725</td>\n",
              "      <td>14340318455000</td>\n",
              "      <td>940.05</td>\n",
              "      <td>975.0</td>\n",
              "      <td>933.40</td>\n",
              "      <td>953.24</td>\n",
              "      <td>3450619</td>\n",
              "      <td>328925252905000</td>\n",
              "      <td>1205.20</td>\n",
              "      <td>1265.8</td>\n",
              "      <td>1200.55</td>\n",
              "      <td>1232.93</td>\n",
              "      <td>1660178</td>\n",
              "      <td>204687918340000</td>\n",
              "    </tr>\n",
              "    <tr>\n",
              "      <th>3</th>\n",
              "      <td>2011-08-09</td>\n",
              "      <td>450.0</td>\n",
              "      <td>473.55</td>\n",
              "      <td>449.85</td>\n",
              "      <td>460.88</td>\n",
              "      <td>4490924</td>\n",
              "      <td>206978212685000</td>\n",
              "      <td>190.25</td>\n",
              "      <td>202.10</td>\n",
              "      <td>190.10</td>\n",
              "      <td>197.61</td>\n",
              "      <td>19202643</td>\n",
              "      <td>379464261110000</td>\n",
              "      <td>3070.00</td>\n",
              "      <td>3164.00</td>\n",
              "      <td>2988.00</td>\n",
              "      <td>3113.84</td>\n",
              "      <td>88749</td>\n",
              "      <td>27635029505000</td>\n",
              "      <td>915.00</td>\n",
              "      <td>967.6</td>\n",
              "      <td>910.45</td>\n",
              "      <td>938.80</td>\n",
              "      <td>5346085</td>\n",
              "      <td>501890604795000</td>\n",
              "      <td>1190.50</td>\n",
              "      <td>1238.3</td>\n",
              "      <td>1180.90</td>\n",
              "      <td>1206.06</td>\n",
              "      <td>3618186</td>\n",
              "      <td>436376441205000</td>\n",
              "    </tr>\n",
              "    <tr>\n",
              "      <th>4</th>\n",
              "      <td>2011-08-10</td>\n",
              "      <td>494.8</td>\n",
              "      <td>494.80</td>\n",
              "      <td>473.40</td>\n",
              "      <td>478.06</td>\n",
              "      <td>3267226</td>\n",
              "      <td>156192368225000</td>\n",
              "      <td>202.00</td>\n",
              "      <td>202.85</td>\n",
              "      <td>196.00</td>\n",
              "      <td>199.07</td>\n",
              "      <td>9274996</td>\n",
              "      <td>184640866420000</td>\n",
              "      <td>3125.00</td>\n",
              "      <td>3195.00</td>\n",
              "      <td>3125.00</td>\n",
              "      <td>3170.39</td>\n",
              "      <td>52720</td>\n",
              "      <td>16714302965000</td>\n",
              "      <td>963.95</td>\n",
              "      <td>971.2</td>\n",
              "      <td>957.70</td>\n",
              "      <td>964.75</td>\n",
              "      <td>3379659</td>\n",
              "      <td>326053305165000</td>\n",
              "      <td>1242.00</td>\n",
              "      <td>1253.7</td>\n",
              "      <td>1225.30</td>\n",
              "      <td>1242.10</td>\n",
              "      <td>1903396</td>\n",
              "      <td>236421421150000</td>\n",
              "    </tr>\n",
              "    <tr>\n",
              "      <th>...</th>\n",
              "      <td>...</td>\n",
              "      <td>...</td>\n",
              "      <td>...</td>\n",
              "      <td>...</td>\n",
              "      <td>...</td>\n",
              "      <td>...</td>\n",
              "      <td>...</td>\n",
              "      <td>...</td>\n",
              "      <td>...</td>\n",
              "      <td>...</td>\n",
              "      <td>...</td>\n",
              "      <td>...</td>\n",
              "      <td>...</td>\n",
              "      <td>...</td>\n",
              "      <td>...</td>\n",
              "      <td>...</td>\n",
              "      <td>...</td>\n",
              "      <td>...</td>\n",
              "      <td>...</td>\n",
              "      <td>...</td>\n",
              "      <td>...</td>\n",
              "      <td>...</td>\n",
              "      <td>...</td>\n",
              "      <td>...</td>\n",
              "      <td>...</td>\n",
              "      <td>...</td>\n",
              "      <td>...</td>\n",
              "      <td>...</td>\n",
              "      <td>...</td>\n",
              "      <td>...</td>\n",
              "      <td>...</td>\n",
              "    </tr>\n",
              "    <tr>\n",
              "      <th>92</th>\n",
              "      <td>2011-12-22</td>\n",
              "      <td>431.5</td>\n",
              "      <td>444.80</td>\n",
              "      <td>428.80</td>\n",
              "      <td>436.74</td>\n",
              "      <td>3394017</td>\n",
              "      <td>148230026405000</td>\n",
              "      <td>200.90</td>\n",
              "      <td>204.00</td>\n",
              "      <td>200.50</td>\n",
              "      <td>203.30</td>\n",
              "      <td>6294512</td>\n",
              "      <td>127965452355000</td>\n",
              "      <td>2720.00</td>\n",
              "      <td>2775.00</td>\n",
              "      <td>2652.00</td>\n",
              "      <td>2713.39</td>\n",
              "      <td>24071</td>\n",
              "      <td>6531398525000</td>\n",
              "      <td>690.00</td>\n",
              "      <td>741.0</td>\n",
              "      <td>683.60</td>\n",
              "      <td>708.17</td>\n",
              "      <td>8809539</td>\n",
              "      <td>623863856910000</td>\n",
              "      <td>842.25</td>\n",
              "      <td>878.3</td>\n",
              "      <td>840.40</td>\n",
              "      <td>862.30</td>\n",
              "      <td>3090876</td>\n",
              "      <td>266526167930000</td>\n",
              "    </tr>\n",
              "    <tr>\n",
              "      <th>93</th>\n",
              "      <td>2011-12-23</td>\n",
              "      <td>444.2</td>\n",
              "      <td>446.50</td>\n",
              "      <td>436.00</td>\n",
              "      <td>441.43</td>\n",
              "      <td>1713825</td>\n",
              "      <td>75653641865000</td>\n",
              "      <td>204.40</td>\n",
              "      <td>205.00</td>\n",
              "      <td>202.25</td>\n",
              "      <td>203.68</td>\n",
              "      <td>5517744</td>\n",
              "      <td>112387434385000</td>\n",
              "      <td>2760.25</td>\n",
              "      <td>2769.20</td>\n",
              "      <td>2640.95</td>\n",
              "      <td>2693.93</td>\n",
              "      <td>54094</td>\n",
              "      <td>14572535770000</td>\n",
              "      <td>728.40</td>\n",
              "      <td>734.4</td>\n",
              "      <td>714.30</td>\n",
              "      <td>724.00</td>\n",
              "      <td>5543359</td>\n",
              "      <td>401337831485000</td>\n",
              "      <td>885.00</td>\n",
              "      <td>896.0</td>\n",
              "      <td>865.65</td>\n",
              "      <td>881.28</td>\n",
              "      <td>2932357</td>\n",
              "      <td>258423344725000</td>\n",
              "    </tr>\n",
              "    <tr>\n",
              "      <th>94</th>\n",
              "      <td>2011-12-26</td>\n",
              "      <td>439.0</td>\n",
              "      <td>445.40</td>\n",
              "      <td>437.05</td>\n",
              "      <td>442.87</td>\n",
              "      <td>1141190</td>\n",
              "      <td>50539686080000</td>\n",
              "      <td>203.40</td>\n",
              "      <td>205.85</td>\n",
              "      <td>202.80</td>\n",
              "      <td>204.96</td>\n",
              "      <td>3847514</td>\n",
              "      <td>78858145570000</td>\n",
              "      <td>2647.15</td>\n",
              "      <td>2695.00</td>\n",
              "      <td>2641.05</td>\n",
              "      <td>2665.46</td>\n",
              "      <td>28086</td>\n",
              "      <td>7486220875000</td>\n",
              "      <td>721.00</td>\n",
              "      <td>734.7</td>\n",
              "      <td>719.05</td>\n",
              "      <td>729.09</td>\n",
              "      <td>2573228</td>\n",
              "      <td>187610694795000</td>\n",
              "      <td>880.00</td>\n",
              "      <td>891.0</td>\n",
              "      <td>867.00</td>\n",
              "      <td>877.12</td>\n",
              "      <td>1706610</td>\n",
              "      <td>149689505180000</td>\n",
              "    </tr>\n",
              "    <tr>\n",
              "      <th>95</th>\n",
              "      <td>2011-12-27</td>\n",
              "      <td>440.3</td>\n",
              "      <td>443.60</td>\n",
              "      <td>435.70</td>\n",
              "      <td>439.39</td>\n",
              "      <td>1573559</td>\n",
              "      <td>69140882195000</td>\n",
              "      <td>204.90</td>\n",
              "      <td>206.00</td>\n",
              "      <td>202.30</td>\n",
              "      <td>204.65</td>\n",
              "      <td>4659202</td>\n",
              "      <td>95349316255000</td>\n",
              "      <td>2655.05</td>\n",
              "      <td>2692.00</td>\n",
              "      <td>2655.05</td>\n",
              "      <td>2671.18</td>\n",
              "      <td>77746</td>\n",
              "      <td>20767317225000</td>\n",
              "      <td>727.10</td>\n",
              "      <td>734.0</td>\n",
              "      <td>721.35</td>\n",
              "      <td>726.56</td>\n",
              "      <td>3280754</td>\n",
              "      <td>238367227070000</td>\n",
              "      <td>872.40</td>\n",
              "      <td>872.8</td>\n",
              "      <td>839.80</td>\n",
              "      <td>853.02</td>\n",
              "      <td>1742237</td>\n",
              "      <td>148616550585000</td>\n",
              "    </tr>\n",
              "    <tr>\n",
              "      <th>96</th>\n",
              "      <td>2011-12-28</td>\n",
              "      <td>442.5</td>\n",
              "      <td>443.00</td>\n",
              "      <td>433.05</td>\n",
              "      <td>437.33</td>\n",
              "      <td>1917085</td>\n",
              "      <td>83839111070000</td>\n",
              "      <td>205.60</td>\n",
              "      <td>205.70</td>\n",
              "      <td>201.50</td>\n",
              "      <td>202.68</td>\n",
              "      <td>3133062</td>\n",
              "      <td>63502209435000</td>\n",
              "      <td>2670.00</td>\n",
              "      <td>2718.10</td>\n",
              "      <td>2550.00</td>\n",
              "      <td>2629.55</td>\n",
              "      <td>89134</td>\n",
              "      <td>23438206575000</td>\n",
              "      <td>720.70</td>\n",
              "      <td>720.8</td>\n",
              "      <td>694.35</td>\n",
              "      <td>703.75</td>\n",
              "      <td>3731427</td>\n",
              "      <td>262597315370000</td>\n",
              "      <td>841.00</td>\n",
              "      <td>841.0</td>\n",
              "      <td>820.10</td>\n",
              "      <td>828.46</td>\n",
              "      <td>1947165</td>\n",
              "      <td>161314741655000</td>\n",
              "    </tr>\n",
              "  </tbody>\n",
              "</table>\n",
              "<p>97 rows × 31 columns</p>\n",
              "</div>"
            ],
            "text/plain": [
              "         Date  Open-Stock-1  ...  Volume-Stock-5  Turnover-Stock-5\n",
              "0  2011-08-04         484.1  ...         1569675   203593328285000\n",
              "1  2011-08-05         465.0  ...         3125692   384176649890000\n",
              "2  2011-08-08         463.0  ...         1660178   204687918340000\n",
              "3  2011-08-09         450.0  ...         3618186   436376441205000\n",
              "4  2011-08-10         494.8  ...         1903396   236421421150000\n",
              "..        ...           ...  ...             ...               ...\n",
              "92 2011-12-22         431.5  ...         3090876   266526167930000\n",
              "93 2011-12-23         444.2  ...         2932357   258423344725000\n",
              "94 2011-12-26         439.0  ...         1706610   149689505180000\n",
              "95 2011-12-27         440.3  ...         1742237   148616550585000\n",
              "96 2011-12-28         442.5  ...         1947165   161314741655000\n",
              "\n",
              "[97 rows x 31 columns]"
            ]
          },
          "metadata": {
            "tags": []
          },
          "execution_count": 3
        }
      ]
    },
    {
      "cell_type": "markdown",
      "metadata": {
        "id": "kaGjxDHySOUw"
      },
      "source": [
        "# Stock 1"
      ]
    },
    {
      "cell_type": "code",
      "metadata": {
        "colab": {
          "base_uri": "https://localhost:8080/",
          "height": 204
        },
        "id": "bz_G3a8u0Sxm",
        "outputId": "9e5cfc36-a017-49fd-fbec-709f416b70fd"
      },
      "source": [
        "df1= result.loc[:,['Date','Close-Stock-1']]\r\n",
        "df1.head()"
      ],
      "execution_count": null,
      "outputs": [
        {
          "output_type": "execute_result",
          "data": {
            "text/html": [
              "<div>\n",
              "<style scoped>\n",
              "    .dataframe tbody tr th:only-of-type {\n",
              "        vertical-align: middle;\n",
              "    }\n",
              "\n",
              "    .dataframe tbody tr th {\n",
              "        vertical-align: top;\n",
              "    }\n",
              "\n",
              "    .dataframe thead th {\n",
              "        text-align: right;\n",
              "    }\n",
              "</style>\n",
              "<table border=\"1\" class=\"dataframe\">\n",
              "  <thead>\n",
              "    <tr style=\"text-align: right;\">\n",
              "      <th></th>\n",
              "      <th>Date</th>\n",
              "      <th>Close-Stock-1</th>\n",
              "    </tr>\n",
              "  </thead>\n",
              "  <tbody>\n",
              "    <tr>\n",
              "      <th>0</th>\n",
              "      <td>2010-06-01</td>\n",
              "      <td>1855.10</td>\n",
              "    </tr>\n",
              "    <tr>\n",
              "      <th>1</th>\n",
              "      <td>2010-06-02</td>\n",
              "      <td>1853.05</td>\n",
              "    </tr>\n",
              "    <tr>\n",
              "      <th>2</th>\n",
              "      <td>2010-06-03</td>\n",
              "      <td>1905.60</td>\n",
              "    </tr>\n",
              "    <tr>\n",
              "      <th>3</th>\n",
              "      <td>2010-06-04</td>\n",
              "      <td>1885.70</td>\n",
              "    </tr>\n",
              "    <tr>\n",
              "      <th>4</th>\n",
              "      <td>2010-06-07</td>\n",
              "      <td>1876.65</td>\n",
              "    </tr>\n",
              "  </tbody>\n",
              "</table>\n",
              "</div>"
            ],
            "text/plain": [
              "        Date  Close-Stock-1\n",
              "0 2010-06-01        1855.10\n",
              "1 2010-06-02        1853.05\n",
              "2 2010-06-03        1905.60\n",
              "3 2010-06-04        1885.70\n",
              "4 2010-06-07        1876.65"
            ]
          },
          "metadata": {
            "tags": []
          },
          "execution_count": 116
        }
      ]
    },
    {
      "cell_type": "code",
      "metadata": {
        "id": "PcUap0dq0xaF"
      },
      "source": [
        "idx = pd.date_range(df1.Date.min(), df1.Date.max())\r\n",
        "df1.set_index('Date', inplace=True)"
      ],
      "execution_count": null,
      "outputs": []
    },
    {
      "cell_type": "markdown",
      "metadata": {
        "id": "5Vgt8cru8ukQ"
      },
      "source": [
        "**Cubic Spline interpolation**"
      ]
    },
    {
      "cell_type": "code",
      "metadata": {
        "colab": {
          "base_uri": "https://localhost:8080/",
          "height": 450
        },
        "id": "lrnbPKRB1bOg",
        "outputId": "7aa7d2bc-f6ee-4c39-efbc-3fe0bf913d5e"
      },
      "source": [
        "df1 = df1.reindex(idx)\r\n",
        "df1.index.name = 'Date'\r\n",
        "# df1= df1.replace({0:np.NaN})\r\n",
        "df1= df1.interpolate(method='spline', order=3, s=0.)\r\n",
        "df1 = df1.round(2)\r\n",
        "df1"
      ],
      "execution_count": null,
      "outputs": [
        {
          "output_type": "execute_result",
          "data": {
            "text/html": [
              "<div>\n",
              "<style scoped>\n",
              "    .dataframe tbody tr th:only-of-type {\n",
              "        vertical-align: middle;\n",
              "    }\n",
              "\n",
              "    .dataframe tbody tr th {\n",
              "        vertical-align: top;\n",
              "    }\n",
              "\n",
              "    .dataframe thead th {\n",
              "        text-align: right;\n",
              "    }\n",
              "</style>\n",
              "<table border=\"1\" class=\"dataframe\">\n",
              "  <thead>\n",
              "    <tr style=\"text-align: right;\">\n",
              "      <th></th>\n",
              "      <th>Close-Stock-1</th>\n",
              "    </tr>\n",
              "    <tr>\n",
              "      <th>Date</th>\n",
              "      <th></th>\n",
              "    </tr>\n",
              "  </thead>\n",
              "  <tbody>\n",
              "    <tr>\n",
              "      <th>2010-06-01</th>\n",
              "      <td>1855.10</td>\n",
              "    </tr>\n",
              "    <tr>\n",
              "      <th>2010-06-02</th>\n",
              "      <td>1853.05</td>\n",
              "    </tr>\n",
              "    <tr>\n",
              "      <th>2010-06-03</th>\n",
              "      <td>1905.60</td>\n",
              "    </tr>\n",
              "    <tr>\n",
              "      <th>2010-06-04</th>\n",
              "      <td>1885.70</td>\n",
              "    </tr>\n",
              "    <tr>\n",
              "      <th>2010-06-05</th>\n",
              "      <td>1873.50</td>\n",
              "    </tr>\n",
              "    <tr>\n",
              "      <th>...</th>\n",
              "      <td>...</td>\n",
              "    </tr>\n",
              "    <tr>\n",
              "      <th>2011-07-30</th>\n",
              "      <td>490.04</td>\n",
              "    </tr>\n",
              "    <tr>\n",
              "      <th>2011-07-31</th>\n",
              "      <td>490.67</td>\n",
              "    </tr>\n",
              "    <tr>\n",
              "      <th>2011-08-01</th>\n",
              "      <td>488.00</td>\n",
              "    </tr>\n",
              "    <tr>\n",
              "      <th>2011-08-02</th>\n",
              "      <td>482.85</td>\n",
              "    </tr>\n",
              "    <tr>\n",
              "      <th>2011-08-03</th>\n",
              "      <td>482.05</td>\n",
              "    </tr>\n",
              "  </tbody>\n",
              "</table>\n",
              "<p>429 rows × 1 columns</p>\n",
              "</div>"
            ],
            "text/plain": [
              "            Close-Stock-1\n",
              "Date                     \n",
              "2010-06-01        1855.10\n",
              "2010-06-02        1853.05\n",
              "2010-06-03        1905.60\n",
              "2010-06-04        1885.70\n",
              "2010-06-05        1873.50\n",
              "...                   ...\n",
              "2011-07-30         490.04\n",
              "2011-07-31         490.67\n",
              "2011-08-01         488.00\n",
              "2011-08-02         482.85\n",
              "2011-08-03         482.05\n",
              "\n",
              "[429 rows x 1 columns]"
            ]
          },
          "metadata": {
            "tags": []
          },
          "execution_count": 118
        }
      ]
    },
    {
      "cell_type": "code",
      "metadata": {
        "colab": {
          "base_uri": "https://localhost:8080/"
        },
        "id": "08DA6TFq80ER",
        "outputId": "00fbcb13-6c83-4d1e-d3c8-0039fa447e0c"
      },
      "source": [
        "array = df1.to_numpy().reshape(-1,1)\r\n",
        "array.shape"
      ],
      "execution_count": null,
      "outputs": [
        {
          "output_type": "execute_result",
          "data": {
            "text/plain": [
              "(429, 1)"
            ]
          },
          "metadata": {
            "tags": []
          },
          "execution_count": 119
        }
      ]
    },
    {
      "cell_type": "code",
      "metadata": {
        "id": "CwGvysTI80BI"
      },
      "source": [
        "#taking mean and standered deviation\r\n",
        "array_mean = array.mean()\r\n",
        "array_std = array.std()\r\n",
        "#normalizing the data\r\n",
        "array = (array-array_mean)/array_std"
      ],
      "execution_count": null,
      "outputs": []
    },
    {
      "cell_type": "code",
      "metadata": {
        "id": "Q21eq9xu8z-c"
      },
      "source": [
        "def univariate_data(dataset, start_index, end_index, history_size, target_size):\r\n",
        "  data = []\r\n",
        "  labels = []\r\n",
        "\r\n",
        "  start_index = start_index + history_size\r\n",
        "  if end_index is None:\r\n",
        "    end_index = len(dataset) - target_size\r\n",
        "\r\n",
        "  for i in range(start_index, end_index):\r\n",
        "    indices = range(i-history_size, i)\r\n",
        "    # Reshape data from (history_size,) to (history_size, 1)\r\n",
        "    data.append(np.reshape(dataset[indices], (history_size, 1)))\r\n",
        "    labels.append(dataset[i+target_size])\r\n",
        "  return np.array(data), np.array(labels)"
      ],
      "execution_count": null,
      "outputs": []
    },
    {
      "cell_type": "code",
      "metadata": {
        "id": "1BqwaKoyCvOf"
      },
      "source": [
        "univariate_past_history = 12\r\n",
        "univariate_future_target = 0\r\n",
        "\r\n",
        "x, y = univariate_data(array, 0, None, univariate_past_history, univariate_future_target)"
      ],
      "execution_count": null,
      "outputs": []
    },
    {
      "cell_type": "code",
      "metadata": {
        "colab": {
          "base_uri": "https://localhost:8080/"
        },
        "id": "95H4K7njC2_6",
        "outputId": "b9677aed-805c-40c7-eba2-587cc7261e78"
      },
      "source": [
        "print('X Shape:',x.shape)\r\n",
        "print('Y Shape:',y.shape)"
      ],
      "execution_count": null,
      "outputs": [
        {
          "output_type": "stream",
          "text": [
            "X Shape: (417, 12, 1)\n",
            "Y Shape: (417, 1)\n"
          ],
          "name": "stdout"
        }
      ]
    },
    {
      "cell_type": "markdown",
      "metadata": {
        "id": "J3pC73ssEUrt"
      },
      "source": [
        "**Learning Rate Scheduling**"
      ]
    },
    {
      "cell_type": "code",
      "metadata": {
        "colab": {
          "base_uri": "https://localhost:8080/"
        },
        "id": "y9q-U5cel-fx",
        "outputId": "8d4b4131-6040-4e09-8090-154bbd58567e"
      },
      "source": [
        "tf.keras.backend.clear_session()\n",
        "\n",
        "#creating model\n",
        "model= tf.keras.models.Sequential([\n",
        "                                  tf.keras.layers.Lambda(lambda x: tf.expand_dims(x,axis=-1), input_shape=[None]),\n",
        "                                   tf.keras.layers.Bidirectional(tf.keras.layers.LSTM(48, activation='relu', dropout=0.25, recurrent_dropout=0.2, return_sequences=True)),\n",
        "                                   tf.keras.layers.Bidirectional(tf.keras.layers.LSTM(24, activation='relu', dropout=0.25, recurrent_dropout=0.3, return_sequences=True)),\n",
        "                                   tf.keras.layers.Bidirectional(tf.keras.layers.LSTM(12, activation='relu', return_sequences=True, activity_regularizer=keras.regularizers.l2())), \n",
        "                                   tf.keras.layers.Bidirectional(tf.keras.layers.LSTM(6, activation='relu', return_sequences=True,  activity_regularizer=keras.regularizers.l2())), \n",
        "                                   tf.keras.layers.LSTM(6, activation='relu'), \n",
        "                                   tf.keras.layers.Dropout(0.4),  \n",
        "                                   tf.keras.layers.Dense(1)\n",
        "                                   ])\n",
        "lr_schedular= tf.keras.callbacks.LearningRateScheduler(lambda x: 1e-6*10**(x/20))\n",
        "\n",
        "adam= tf.keras.optimizers.Adam(lr=1e-6)\n",
        "model.compile(optimizer= adam, loss= 'mse')\n",
        "#Smodel.build(input_shape)\n",
        "model.summary()"
      ],
      "execution_count": null,
      "outputs": [
        {
          "output_type": "stream",
          "text": [
            "Model: \"sequential\"\n",
            "_________________________________________________________________\n",
            "Layer (type)                 Output Shape              Param #   \n",
            "=================================================================\n",
            "lambda (Lambda)              (None, None, 1)           0         \n",
            "_________________________________________________________________\n",
            "bidirectional (Bidirectional (None, None, 96)          19200     \n",
            "_________________________________________________________________\n",
            "bidirectional_1 (Bidirection (None, None, 48)          23232     \n",
            "_________________________________________________________________\n",
            "bidirectional_2 (Bidirection (None, None, 24)          5856      \n",
            "_________________________________________________________________\n",
            "bidirectional_3 (Bidirection (None, None, 12)          1488      \n",
            "_________________________________________________________________\n",
            "lstm_4 (LSTM)                (None, 6)                 456       \n",
            "_________________________________________________________________\n",
            "dropout (Dropout)            (None, 6)                 0         \n",
            "_________________________________________________________________\n",
            "dense (Dense)                (None, 1)                 7         \n",
            "=================================================================\n",
            "Total params: 50,239\n",
            "Trainable params: 50,239\n",
            "Non-trainable params: 0\n",
            "_________________________________________________________________\n"
          ],
          "name": "stdout"
        }
      ]
    },
    {
      "cell_type": "code",
      "metadata": {
        "id": "z6gS39czryuN"
      },
      "source": [
        "history= model.fit(x, y, epochs= 125, callbacks= [lr_schedular], verbose=0)"
      ],
      "execution_count": null,
      "outputs": []
    },
    {
      "cell_type": "code",
      "metadata": {
        "colab": {
          "base_uri": "https://localhost:8080/"
        },
        "id": "bS-7c9X3tZyH",
        "outputId": "682346cc-8520-4cad-8f86-3d2499604d39"
      },
      "source": [
        "loss= min(history.history['loss'])\n",
        "losses= history.history['loss']\n",
        "index=losses.index(loss)\n",
        "lrs= history.history['lr']\n",
        "count=0\n",
        "for i in lrs:\n",
        "  if count==index:\n",
        "    lr=i\n",
        "    break\n",
        "  count+=1\n",
        "print(lr)\n",
        "print(loss)"
      ],
      "execution_count": null,
      "outputs": [
        {
          "output_type": "stream",
          "text": [
            "0.014125375\n",
            "0.22692227363586426\n"
          ],
          "name": "stdout"
        }
      ]
    },
    {
      "cell_type": "code",
      "metadata": {
        "colab": {
          "base_uri": "https://localhost:8080/",
          "height": 487
        },
        "id": "isv_udIA0dcJ",
        "outputId": "910a4534-c1cf-4179-88e2-28f2599d3c1c"
      },
      "source": [
        "lrs= 1e-8*(10**(np.arange(125)/20))\n",
        "plt.semilogx(lrs, history.history[\"loss\"], label='Loss')\n",
        "plt.legend(loc='best')\n",
        "plt.grid(True)"
      ],
      "execution_count": null,
      "outputs": [
        {
          "output_type": "display_data",
          "data": {
            "image/png": "[encoded data removed]",
            "text/plain": [
              "<Figure size 720x576 with 1 Axes>"
            ]
          },
          "metadata": {
            "tags": [],
            "needs_background": "light"
          }
        }
      ]
    },
    {
      "cell_type": "markdown",
      "metadata": {
        "id": "tzxh_TCjEcgq"
      },
      "source": [
        "**Model Training**"
      ]
    },
    {
      "cell_type": "code",
      "metadata": {
        "colab": {
          "base_uri": "https://localhost:8080/"
        },
        "id": "x9Ilgsly0lRz",
        "outputId": "fc52b100-0df2-467c-ecb3-1d32299b9bf4"
      },
      "source": [
        "tf.keras.backend.clear_session()\n",
        "\n",
        "#creating model\n",
        "model= tf.keras.models.Sequential([\n",
        "                                  tf.keras.layers.Lambda(lambda x: tf.expand_dims(x,axis=-1), input_shape=[None]),\n",
        "                                   tf.keras.layers.Bidirectional(tf.keras.layers.LSTM(48, activation='relu', dropout=0.25, recurrent_dropout=0.2, return_sequences=True)),\n",
        "                                   tf.keras.layers.Bidirectional(tf.keras.layers.LSTM(24, activation='relu', dropout=0.25, recurrent_dropout=0.3, return_sequences=True)),\n",
        "                                   tf.keras.layers.Bidirectional(tf.keras.layers.LSTM(12, activation='relu', return_sequences=True, activity_regularizer=keras.regularizers.l2())), \n",
        "                                   tf.keras.layers.Bidirectional(tf.keras.layers.LSTM(6, activation='relu', return_sequences=True,  activity_regularizer=keras.regularizers.l2())), \n",
        "                                   tf.keras.layers.LSTM(6, activation='relu'), \n",
        "                                   tf.keras.layers.Dropout(0.4),  \n",
        "                                   tf.keras.layers.Dense(1)\n",
        "                                   ])\n",
        "\n",
        "adam= tf.keras.optimizers.Adam(lr=lr)\n",
        "model.compile(optimizer= adam, loss= 'mse')\n",
        "#Smodel.build(input_shape)\n",
        "model.summary()"
      ],
      "execution_count": null,
      "outputs": [
        {
          "output_type": "stream",
          "text": [
            "Model: \"sequential\"\n",
            "_________________________________________________________________\n",
            "Layer (type)                 Output Shape              Param #   \n",
            "=================================================================\n",
            "lambda (Lambda)              (None, None, 1)           0         \n",
            "_________________________________________________________________\n",
            "bidirectional (Bidirectional (None, None, 24)          1344      \n",
            "_________________________________________________________________\n",
            "bidirectional_1 (Bidirection (None, None, 12)          1488      \n",
            "_________________________________________________________________\n",
            "lstm_2 (LSTM)                (None, 6)                 456       \n",
            "_________________________________________________________________\n",
            "dropout (Dropout)            (None, 6)                 0         \n",
            "_________________________________________________________________\n",
            "dense (Dense)                (None, 1)                 7         \n",
            "=================================================================\n",
            "Total params: 3,295\n",
            "Trainable params: 3,295\n",
            "Non-trainable params: 0\n",
            "_________________________________________________________________\n"
          ],
          "name": "stdout"
        }
      ]
    },
    {
      "cell_type": "code",
      "metadata": {
        "id": "ag8pl0c81dha"
      },
      "source": [
        "history= model.fit(x,y, epochs= 300, verbose=0)"
      ],
      "execution_count": null,
      "outputs": []
    },
    {
      "cell_type": "code",
      "metadata": {
        "colab": {
          "base_uri": "https://localhost:8080/",
          "height": 487
        },
        "id": "XjMZTXqa1k4R",
        "outputId": "b8f5430b-f3c2-47b5-b44e-4ed0459df9f7"
      },
      "source": [
        "epochs= range(1,301)\n",
        "plt.semilogx(epochs, history.history[\"loss\"], label='Loss')\n",
        "plt.legend(loc='best')\n",
        "plt.grid(True)"
      ],
      "execution_count": null,
      "outputs": [
        {
          "output_type": "display_data",
          "data": {
            "image/png": "[encoded data removed]",
            "text/plain": [
              "<Figure size 720x576 with 1 Axes>"
            ]
          },
          "metadata": {
            "tags": [],
            "needs_background": "light"
          }
        }
      ]
    },
    {
      "cell_type": "code",
      "metadata": {
        "colab": {
          "base_uri": "https://localhost:8080/",
          "height": 534
        },
        "id": "_UbUkPZi2R_U",
        "outputId": "b6858146-39b7-4653-9875-6f2fa12372c2"
      },
      "source": [
        "numbers=range(1, 430)\n",
        "num= range(13,430)\n",
        "plt.figure()\n",
        "print(x.shape)\n",
        "y_pred= model.predict(x)\n",
        "print(y_pred.shape)\n",
        "plt.plot(numbers,array)\n",
        "plt.plot(num,y_pred,'r')\n",
        "plt.plot()"
      ],
      "execution_count": null,
      "outputs": [
        {
          "output_type": "stream",
          "text": [
            "(417, 12, 1)\n",
            "(417, 1)\n"
          ],
          "name": "stdout"
        },
        {
          "output_type": "execute_result",
          "data": {
            "text/plain": [
              "[]"
            ]
          },
          "metadata": {
            "tags": []
          },
          "execution_count": 166
        },
        {
          "output_type": "display_data",
          "data": {
            "image/png": "[encoded data removed]",
            "text/plain": [
              "<Figure size 720x576 with 1 Axes>"
            ]
          },
          "metadata": {
            "tags": [],
            "needs_background": "light"
          }
        }
      ]
    },
    {
      "cell_type": "markdown",
      "metadata": {
        "id": "CkVo0ocvGpse"
      },
      "source": [
        "**Test Phase**"
      ]
    },
    {
      "cell_type": "code",
      "metadata": {
        "colab": {
          "base_uri": "https://localhost:8080/",
          "height": 500
        },
        "id": "5hSIu1BBC4_D",
        "outputId": "64e5c8e6-2170-49e1-d2b7-1d3eeab37866"
      },
      "source": [
        "numbers=range(1, 430)\r\n",
        "num= range(13,430)\r\n",
        "pred= range(430,577)\r\n",
        "plot_pred=[]\r\n",
        "real_val=[]\r\n",
        "plt.figure()\r\n",
        "y_pred= model.predict(x)\r\n",
        "plt.plot(numbers,array)\r\n",
        "plt.plot(num,y_pred,'r')\r\n",
        "x_new= array[416: len(array)-1]\r\n",
        "for i in range(147):\r\n",
        "  x_new= x_new.reshape(1,12,1)\r\n",
        "  y_new= model.predict(x_new)\r\n",
        "  x_new= x_new[0][1:]\r\n",
        "  x_new= np.append(x_new, y_new)\r\n",
        "  y_new= y_new.reshape(1,)\r\n",
        "  real= y_new*array_std+array_mean\r\n",
        "  plot_pred.append(y_new)\r\n",
        "  real_val.append(real)\r\n",
        "\r\n",
        "plt.plot(pred, plot_pred, color='#00ff00')\r\n",
        "plt.plot()"
      ],
      "execution_count": null,
      "outputs": [
        {
          "output_type": "execute_result",
          "data": {
            "text/plain": [
              "[]"
            ]
          },
          "metadata": {
            "tags": []
          },
          "execution_count": 167
        },
        {
          "output_type": "display_data",
          "data": {
            "image/png": "[encoded data removed]",
            "text/plain": [
              "<Figure size 720x576 with 1 Axes>"
            ]
          },
          "metadata": {
            "tags": [],
            "needs_background": "light"
          }
        }
      ]
    },
    {
      "cell_type": "code",
      "metadata": {
        "colab": {
          "base_uri": "https://localhost:8080/"
        },
        "id": "7NCORJLjJA26",
        "outputId": "4d0547a0-e608-4c96-9567-7b4273e9eb68"
      },
      "source": [
        "pred_array = np.array(real_val)\r\n",
        "pred_array.shape"
      ],
      "execution_count": null,
      "outputs": [
        {
          "output_type": "execute_result",
          "data": {
            "text/plain": [
              "(147, 1)"
            ]
          },
          "metadata": {
            "tags": []
          },
          "execution_count": 151
        }
      ]
    },
    {
      "cell_type": "code",
      "metadata": {
        "colab": {
          "base_uri": "https://localhost:8080/",
          "height": 419
        },
        "id": "uKb1xJK4KgvE",
        "outputId": "0da1a2c7-1623-4ce7-af40-f230928192fa"
      },
      "source": [
        "rng = pd.date_range('2011-08-04', '2011-12-28')\r\n",
        "answer = pd.DataFrame({ 'Date': rng, 'Close-Stock-1': pred_array.flatten()})\r\n",
        "answer"
      ],
      "execution_count": null,
      "outputs": [
        {
          "output_type": "execute_result",
          "data": {
            "text/html": [
              "<div>\n",
              "<style scoped>\n",
              "    .dataframe tbody tr th:only-of-type {\n",
              "        vertical-align: middle;\n",
              "    }\n",
              "\n",
              "    .dataframe tbody tr th {\n",
              "        vertical-align: top;\n",
              "    }\n",
              "\n",
              "    .dataframe thead th {\n",
              "        text-align: right;\n",
              "    }\n",
              "</style>\n",
              "<table border=\"1\" class=\"dataframe\">\n",
              "  <thead>\n",
              "    <tr style=\"text-align: right;\">\n",
              "      <th></th>\n",
              "      <th>Date</th>\n",
              "      <th>Close-Stock-1</th>\n",
              "    </tr>\n",
              "  </thead>\n",
              "  <tbody>\n",
              "    <tr>\n",
              "      <th>0</th>\n",
              "      <td>2011-08-04</td>\n",
              "      <td>574.658691</td>\n",
              "    </tr>\n",
              "    <tr>\n",
              "      <th>1</th>\n",
              "      <td>2011-08-05</td>\n",
              "      <td>574.593018</td>\n",
              "    </tr>\n",
              "    <tr>\n",
              "      <th>2</th>\n",
              "      <td>2011-08-06</td>\n",
              "      <td>574.630981</td>\n",
              "    </tr>\n",
              "    <tr>\n",
              "      <th>3</th>\n",
              "      <td>2011-08-07</td>\n",
              "      <td>574.512451</td>\n",
              "    </tr>\n",
              "    <tr>\n",
              "      <th>4</th>\n",
              "      <td>2011-08-08</td>\n",
              "      <td>574.598389</td>\n",
              "    </tr>\n",
              "    <tr>\n",
              "      <th>...</th>\n",
              "      <td>...</td>\n",
              "      <td>...</td>\n",
              "    </tr>\n",
              "    <tr>\n",
              "      <th>142</th>\n",
              "      <td>2011-12-24</td>\n",
              "      <td>574.191040</td>\n",
              "    </tr>\n",
              "    <tr>\n",
              "      <th>143</th>\n",
              "      <td>2011-12-25</td>\n",
              "      <td>574.190918</td>\n",
              "    </tr>\n",
              "    <tr>\n",
              "      <th>144</th>\n",
              "      <td>2011-12-26</td>\n",
              "      <td>574.191040</td>\n",
              "    </tr>\n",
              "    <tr>\n",
              "      <th>145</th>\n",
              "      <td>2011-12-27</td>\n",
              "      <td>574.190918</td>\n",
              "    </tr>\n",
              "    <tr>\n",
              "      <th>146</th>\n",
              "      <td>2011-12-28</td>\n",
              "      <td>574.191040</td>\n",
              "    </tr>\n",
              "  </tbody>\n",
              "</table>\n",
              "<p>147 rows × 2 columns</p>\n",
              "</div>"
            ],
            "text/plain": [
              "          Date  Close-Stock-1\n",
              "0   2011-08-04     574.658691\n",
              "1   2011-08-05     574.593018\n",
              "2   2011-08-06     574.630981\n",
              "3   2011-08-07     574.512451\n",
              "4   2011-08-08     574.598389\n",
              "..         ...            ...\n",
              "142 2011-12-24     574.191040\n",
              "143 2011-12-25     574.190918\n",
              "144 2011-12-26     574.191040\n",
              "145 2011-12-27     574.190918\n",
              "146 2011-12-28     574.191040\n",
              "\n",
              "[147 rows x 2 columns]"
            ]
          },
          "metadata": {
            "tags": []
          },
          "execution_count": 28
        }
      ]
    },
    {
      "cell_type": "markdown",
      "metadata": {
        "id": "apw_64bsSnOy"
      },
      "source": [
        "# Stock 2"
      ]
    },
    {
      "cell_type": "code",
      "metadata": {
        "colab": {
          "base_uri": "https://localhost:8080/",
          "height": 204
        },
        "id": "D2TMp65OSnP1",
        "outputId": "7923c81b-a05a-4cf6-983a-888681aec31b"
      },
      "source": [
        "df2= result.loc[:,['Date','Close-Stock-2']]\r\n",
        "df2.head()"
      ],
      "execution_count": null,
      "outputs": [
        {
          "output_type": "execute_result",
          "data": {
            "text/html": [
              "<div>\n",
              "<style scoped>\n",
              "    .dataframe tbody tr th:only-of-type {\n",
              "        vertical-align: middle;\n",
              "    }\n",
              "\n",
              "    .dataframe tbody tr th {\n",
              "        vertical-align: top;\n",
              "    }\n",
              "\n",
              "    .dataframe thead th {\n",
              "        text-align: right;\n",
              "    }\n",
              "</style>\n",
              "<table border=\"1\" class=\"dataframe\">\n",
              "  <thead>\n",
              "    <tr style=\"text-align: right;\">\n",
              "      <th></th>\n",
              "      <th>Date</th>\n",
              "      <th>Close-Stock-2</th>\n",
              "    </tr>\n",
              "  </thead>\n",
              "  <tbody>\n",
              "    <tr>\n",
              "      <th>0</th>\n",
              "      <td>2010-06-01</td>\n",
              "      <td>283.00</td>\n",
              "    </tr>\n",
              "    <tr>\n",
              "      <th>1</th>\n",
              "      <td>2010-06-02</td>\n",
              "      <td>281.30</td>\n",
              "    </tr>\n",
              "    <tr>\n",
              "      <th>2</th>\n",
              "      <td>2010-06-03</td>\n",
              "      <td>285.50</td>\n",
              "    </tr>\n",
              "    <tr>\n",
              "      <th>3</th>\n",
              "      <td>2010-06-04</td>\n",
              "      <td>290.85</td>\n",
              "    </tr>\n",
              "    <tr>\n",
              "      <th>4</th>\n",
              "      <td>2010-06-07</td>\n",
              "      <td>287.70</td>\n",
              "    </tr>\n",
              "  </tbody>\n",
              "</table>\n",
              "</div>"
            ],
            "text/plain": [
              "        Date  Close-Stock-2\n",
              "0 2010-06-01         283.00\n",
              "1 2010-06-02         281.30\n",
              "2 2010-06-03         285.50\n",
              "3 2010-06-04         290.85\n",
              "4 2010-06-07         287.70"
            ]
          },
          "metadata": {
            "tags": []
          },
          "execution_count": 29
        }
      ]
    },
    {
      "cell_type": "code",
      "metadata": {
        "id": "g3KXdJ08SnP_"
      },
      "source": [
        "idx = pd.date_range(df2.Date.min(), df2.Date.max())\r\n",
        "df2.set_index('Date', inplace=True)"
      ],
      "execution_count": null,
      "outputs": []
    },
    {
      "cell_type": "markdown",
      "metadata": {
        "id": "U7kTAa1SSnQH"
      },
      "source": [
        "**Cubic Spline interpolation**"
      ]
    },
    {
      "cell_type": "code",
      "metadata": {
        "colab": {
          "base_uri": "https://localhost:8080/",
          "height": 450
        },
        "id": "J6eT8WZ_SnQJ",
        "outputId": "1177fa73-3f16-4e8d-8525-cf32a5b510fd"
      },
      "source": [
        "df2 = df2.reindex(idx)\r\n",
        "df2.index.name = 'Date'\r\n",
        "# df1= df1.replace({0:np.NaN})\r\n",
        "df2= df2.interpolate(method='spline', order=3, s=0.)\r\n",
        "df2 = df2.round(2)\r\n",
        "df2"
      ],
      "execution_count": null,
      "outputs": [
        {
          "output_type": "execute_result",
          "data": {
            "text/html": [
              "<div>\n",
              "<style scoped>\n",
              "    .dataframe tbody tr th:only-of-type {\n",
              "        vertical-align: middle;\n",
              "    }\n",
              "\n",
              "    .dataframe tbody tr th {\n",
              "        vertical-align: top;\n",
              "    }\n",
              "\n",
              "    .dataframe thead th {\n",
              "        text-align: right;\n",
              "    }\n",
              "</style>\n",
              "<table border=\"1\" class=\"dataframe\">\n",
              "  <thead>\n",
              "    <tr style=\"text-align: right;\">\n",
              "      <th></th>\n",
              "      <th>Close-Stock-2</th>\n",
              "    </tr>\n",
              "    <tr>\n",
              "      <th>Date</th>\n",
              "      <th></th>\n",
              "    </tr>\n",
              "  </thead>\n",
              "  <tbody>\n",
              "    <tr>\n",
              "      <th>2010-06-01</th>\n",
              "      <td>283.00</td>\n",
              "    </tr>\n",
              "    <tr>\n",
              "      <th>2010-06-02</th>\n",
              "      <td>281.30</td>\n",
              "    </tr>\n",
              "    <tr>\n",
              "      <th>2010-06-03</th>\n",
              "      <td>285.50</td>\n",
              "    </tr>\n",
              "    <tr>\n",
              "      <th>2010-06-04</th>\n",
              "      <td>290.85</td>\n",
              "    </tr>\n",
              "    <tr>\n",
              "      <th>2010-06-05</th>\n",
              "      <td>290.40</td>\n",
              "    </tr>\n",
              "    <tr>\n",
              "      <th>...</th>\n",
              "      <td>...</td>\n",
              "    </tr>\n",
              "    <tr>\n",
              "      <th>2011-07-30</th>\n",
              "      <td>209.88</td>\n",
              "    </tr>\n",
              "    <tr>\n",
              "      <th>2011-07-31</th>\n",
              "      <td>210.69</td>\n",
              "    </tr>\n",
              "    <tr>\n",
              "      <th>2011-08-01</th>\n",
              "      <td>208.90</td>\n",
              "    </tr>\n",
              "    <tr>\n",
              "      <th>2011-08-02</th>\n",
              "      <td>204.75</td>\n",
              "    </tr>\n",
              "    <tr>\n",
              "      <th>2011-08-03</th>\n",
              "      <td>206.85</td>\n",
              "    </tr>\n",
              "  </tbody>\n",
              "</table>\n",
              "<p>429 rows × 1 columns</p>\n",
              "</div>"
            ],
            "text/plain": [
              "            Close-Stock-2\n",
              "Date                     \n",
              "2010-06-01         283.00\n",
              "2010-06-02         281.30\n",
              "2010-06-03         285.50\n",
              "2010-06-04         290.85\n",
              "2010-06-05         290.40\n",
              "...                   ...\n",
              "2011-07-30         209.88\n",
              "2011-07-31         210.69\n",
              "2011-08-01         208.90\n",
              "2011-08-02         204.75\n",
              "2011-08-03         206.85\n",
              "\n",
              "[429 rows x 1 columns]"
            ]
          },
          "metadata": {
            "tags": []
          },
          "execution_count": 31
        }
      ]
    },
    {
      "cell_type": "code",
      "metadata": {
        "colab": {
          "base_uri": "https://localhost:8080/"
        },
        "id": "frvJWzUVSnQM",
        "outputId": "6380f32d-37cc-4ccc-c0c8-f2d3806ad67b"
      },
      "source": [
        "array = df2.to_numpy().reshape(-1,1)\r\n",
        "array.shape"
      ],
      "execution_count": null,
      "outputs": [
        {
          "output_type": "execute_result",
          "data": {
            "text/plain": [
              "(429, 1)"
            ]
          },
          "metadata": {
            "tags": []
          },
          "execution_count": 32
        }
      ]
    },
    {
      "cell_type": "code",
      "metadata": {
        "id": "93BAwOKQSnQP"
      },
      "source": [
        "#taking mean and standered deviation\r\n",
        "array_mean = array.mean()\r\n",
        "array_std = array.std()\r\n",
        "#normalizing the data\r\n",
        "array = (array-array_mean)/array_std"
      ],
      "execution_count": null,
      "outputs": []
    },
    {
      "cell_type": "code",
      "metadata": {
        "id": "AXNnxM88SnQR"
      },
      "source": [
        "def univariate_data(dataset, start_index, end_index, history_size, target_size):\r\n",
        "  data = []\r\n",
        "  labels = []\r\n",
        "\r\n",
        "  start_index = start_index + history_size\r\n",
        "  if end_index is None:\r\n",
        "    end_index = len(dataset) - target_size\r\n",
        "\r\n",
        "  for i in range(start_index, end_index):\r\n",
        "    indices = range(i-history_size, i)\r\n",
        "    # Reshape data from (history_size,) to (history_size, 1)\r\n",
        "    data.append(np.reshape(dataset[indices], (history_size, 1)))\r\n",
        "    labels.append(dataset[i+target_size])\r\n",
        "  return np.array(data), np.array(labels)"
      ],
      "execution_count": null,
      "outputs": []
    },
    {
      "cell_type": "code",
      "metadata": {
        "id": "GwG_1pB4SnQT"
      },
      "source": [
        "univariate_past_history = 12\r\n",
        "univariate_future_target = 0\r\n",
        "\r\n",
        "x, y = univariate_data(array, 0, None, univariate_past_history, univariate_future_target)"
      ],
      "execution_count": null,
      "outputs": []
    },
    {
      "cell_type": "code",
      "metadata": {
        "colab": {
          "base_uri": "https://localhost:8080/"
        },
        "id": "gZG8xt1oSnQV",
        "outputId": "9a410727-7b9d-4770-c012-bff86fcf7fac"
      },
      "source": [
        "print('X Shape:',x.shape)\r\n",
        "print('Y Shape:',y.shape)"
      ],
      "execution_count": null,
      "outputs": [
        {
          "output_type": "stream",
          "text": [
            "X Shape: (417, 12, 1)\n",
            "Y Shape: (417, 1)\n"
          ],
          "name": "stdout"
        }
      ]
    },
    {
      "cell_type": "markdown",
      "metadata": {
        "id": "Z__WEKlsSnQY"
      },
      "source": [
        "**Learning Rate Scheduling**"
      ]
    },
    {
      "cell_type": "code",
      "metadata": {
        "colab": {
          "base_uri": "https://localhost:8080/"
        },
        "id": "lvzvjOT1SnQa",
        "outputId": "42df4887-5b00-445c-d050-a76c968e9b5f"
      },
      "source": [
        "tf.keras.backend.clear_session()\n",
        "\n",
        "#creating model\n",
        "model= tf.keras.models.Sequential([\n",
        "                                   tf.keras.layers.Lambda(lambda x: tf.expand_dims(x,axis=-1), input_shape=[None]),\n",
        "                                   tf.keras.layers.Bidirectional(tf.keras.layers.LSTM(24, activation='relu', dropout=0.25, recurrent_dropout=0.2, return_sequences=True)),\n",
        "                                   tf.keras.layers.Bidirectional(tf.keras.layers.LSTM(12, activation='relu', dropout=0.25, recurrent_dropout=0.3, return_sequences=True)), \n",
        "                                   tf.keras.layers.LSTM(12, activation='relu', dropout=0.25, recurrent_dropout=0.1), \n",
        "                                   tf.keras.layers.Dropout(0.15),  \n",
        "                                   tf.keras.layers.Dense(1)\n",
        "                                   ])\n",
        "lr_schedular= tf.keras.callbacks.LearningRateScheduler(lambda x: 1e-6*10**(x/20))\n",
        "\n",
        "adam= tf.keras.optimizers.Adam(lr=1e-6)\n",
        "model.compile(optimizer= adam, loss= 'mse')\n",
        "#Smodel.build(input_shape)\n",
        "model.summary()"
      ],
      "execution_count": null,
      "outputs": [
        {
          "output_type": "stream",
          "text": [
            "Model: \"sequential\"\n",
            "_________________________________________________________________\n",
            "Layer (type)                 Output Shape              Param #   \n",
            "=================================================================\n",
            "lambda (Lambda)              (None, None, 1)           0         \n",
            "_________________________________________________________________\n",
            "bidirectional (Bidirectional (None, None, 48)          4992      \n",
            "_________________________________________________________________\n",
            "bidirectional_1 (Bidirection (None, None, 24)          5856      \n",
            "_________________________________________________________________\n",
            "lstm_2 (LSTM)                (None, 12)                1776      \n",
            "_________________________________________________________________\n",
            "dropout (Dropout)            (None, 12)                0         \n",
            "_________________________________________________________________\n",
            "dense (Dense)                (None, 1)                 13        \n",
            "=================================================================\n",
            "Total params: 12,637\n",
            "Trainable params: 12,637\n",
            "Non-trainable params: 0\n",
            "_________________________________________________________________\n"
          ],
          "name": "stdout"
        }
      ]
    },
    {
      "cell_type": "code",
      "metadata": {
        "id": "3ij5BQxaSnQd"
      },
      "source": [
        "history= model.fit(x, y, epochs= 125, callbacks= [lr_schedular], verbose=0)"
      ],
      "execution_count": null,
      "outputs": []
    },
    {
      "cell_type": "code",
      "metadata": {
        "colab": {
          "base_uri": "https://localhost:8080/"
        },
        "id": "nwJJORr_SnQf",
        "outputId": "18ee2666-e4b8-4400-bd72-51af7bbee9c3"
      },
      "source": [
        "loss= min(history.history['loss'])\n",
        "losses= history.history['loss']\n",
        "index=losses.index(loss)\n",
        "lrs= history.history['lr']\n",
        "count=0\n",
        "for i in lrs:\n",
        "  if count==index:\n",
        "    lr=i\n",
        "    break\n",
        "  count+=1\n",
        "print(lr)\n",
        "print(loss)"
      ],
      "execution_count": null,
      "outputs": [
        {
          "output_type": "stream",
          "text": [
            "0.0063095735\n",
            "0.0833323672413826\n"
          ],
          "name": "stdout"
        }
      ]
    },
    {
      "cell_type": "code",
      "metadata": {
        "colab": {
          "base_uri": "https://localhost:8080/",
          "height": 498
        },
        "id": "pW12rtkASnQh",
        "outputId": "34fbdc03-5313-4b5c-f956-433a976c7e48"
      },
      "source": [
        "lrs= 1e-8*(10**(np.arange(125)/20))\n",
        "plt.semilogx(lrs, history.history[\"loss\"], label='Loss')\n",
        "plt.legend(loc='best')\n",
        "plt.grid(True)"
      ],
      "execution_count": null,
      "outputs": [
        {
          "output_type": "display_data",
          "data": {
            "image/png": "[encoded data removed]",
            "text/plain": [
              "<Figure size 720x576 with 1 Axes>"
            ]
          },
          "metadata": {
            "tags": [],
            "needs_background": "light"
          }
        }
      ]
    },
    {
      "cell_type": "markdown",
      "metadata": {
        "id": "_yw2H2UXSnQk"
      },
      "source": [
        "**Model Training**"
      ]
    },
    {
      "cell_type": "code",
      "metadata": {
        "colab": {
          "base_uri": "https://localhost:8080/"
        },
        "id": "y2Z2-MggSnQl",
        "outputId": "6ccea668-e981-4ac6-c285-f913271c1c4f"
      },
      "source": [
        "tf.keras.backend.clear_session()\n",
        "\n",
        "#creating model\n",
        "model= tf.keras.models.Sequential([\n",
        "                                   tf.keras.layers.Lambda(lambda x: tf.expand_dims(x,axis=-1), input_shape=[None]),\n",
        "                                   tf.keras.layers.Bidirectional(tf.keras.layers.LSTM(24, activation='relu', dropout=0.25, recurrent_dropout=0.2, return_sequences=True)),\n",
        "                                   tf.keras.layers.Bidirectional(tf.keras.layers.LSTM(12, activation='relu', dropout=0.25, recurrent_dropout=0.3, return_sequences=True)), \n",
        "                                   tf.keras.layers.LSTM(12, activation='relu', dropout=0.25, recurrent_dropout=0.1), \n",
        "                                   tf.keras.layers.Dropout(0.15),  \n",
        "                                   tf.keras.layers.Dense(1)\n",
        "                                   ])\n",
        "\n",
        "adam= tf.keras.optimizers.Adam(lr=lr)\n",
        "model.compile(optimizer= adam, loss= 'mse')\n",
        "#Smodel.build(input_shape)\n",
        "model.summary()"
      ],
      "execution_count": null,
      "outputs": [
        {
          "output_type": "stream",
          "text": [
            "Model: \"sequential\"\n",
            "_________________________________________________________________\n",
            "Layer (type)                 Output Shape              Param #   \n",
            "=================================================================\n",
            "lambda (Lambda)              (None, None, 1)           0         \n",
            "_________________________________________________________________\n",
            "bidirectional (Bidirectional (None, None, 48)          4992      \n",
            "_________________________________________________________________\n",
            "bidirectional_1 (Bidirection (None, None, 24)          5856      \n",
            "_________________________________________________________________\n",
            "lstm_2 (LSTM)                (None, 12)                1776      \n",
            "_________________________________________________________________\n",
            "dropout (Dropout)            (None, 12)                0         \n",
            "_________________________________________________________________\n",
            "dense (Dense)                (None, 1)                 13        \n",
            "=================================================================\n",
            "Total params: 12,637\n",
            "Trainable params: 12,637\n",
            "Non-trainable params: 0\n",
            "_________________________________________________________________\n"
          ],
          "name": "stdout"
        }
      ]
    },
    {
      "cell_type": "code",
      "metadata": {
        "id": "EYbSEBeASnQp"
      },
      "source": [
        "history= model.fit(x,y, epochs= 300, verbose=0)"
      ],
      "execution_count": null,
      "outputs": []
    },
    {
      "cell_type": "code",
      "metadata": {
        "colab": {
          "base_uri": "https://localhost:8080/",
          "height": 487
        },
        "id": "Vp7qJXDoSnQq",
        "outputId": "02d267b7-70ea-4f86-d1f5-b6835f1c557c"
      },
      "source": [
        "epochs= range(1,301)\n",
        "plt.semilogx(epochs, history.history[\"loss\"], label='Loss')\n",
        "plt.legend(loc='best')\n",
        "plt.grid(True)"
      ],
      "execution_count": null,
      "outputs": [
        {
          "output_type": "display_data",
          "data": {
            "image/png": "[encoded data removed]",
            "text/plain": [
              "<Figure size 720x576 with 1 Axes>"
            ]
          },
          "metadata": {
            "tags": [],
            "needs_background": "light"
          }
        }
      ]
    },
    {
      "cell_type": "code",
      "metadata": {
        "colab": {
          "base_uri": "https://localhost:8080/",
          "height": 534
        },
        "id": "08H7t52ESnQs",
        "outputId": "84a4fbe0-387c-4245-f02c-990884031083"
      },
      "source": [
        "numbers=range(1, 430)\n",
        "num= range(13,430)\n",
        "plt.figure()\n",
        "print(x.shape)\n",
        "y_pred= model.predict(x)\n",
        "print(y_pred.shape)\n",
        "plt.plot(numbers,array)\n",
        "plt.plot(num,y_pred,'r')\n",
        "plt.plot()"
      ],
      "execution_count": null,
      "outputs": [
        {
          "output_type": "stream",
          "text": [
            "(417, 12, 1)\n",
            "(417, 1)\n"
          ],
          "name": "stdout"
        },
        {
          "output_type": "execute_result",
          "data": {
            "text/plain": [
              "[]"
            ]
          },
          "metadata": {
            "tags": []
          },
          "execution_count": 44
        },
        {
          "output_type": "display_data",
          "data": {
            "image/png": "[encoded data removed]",
            "text/plain": [
              "<Figure size 720x576 with 1 Axes>"
            ]
          },
          "metadata": {
            "tags": [],
            "needs_background": "light"
          }
        }
      ]
    },
    {
      "cell_type": "markdown",
      "metadata": {
        "id": "_PwoEWC7SnQv"
      },
      "source": [
        "**Test Phase**"
      ]
    },
    {
      "cell_type": "code",
      "metadata": {
        "colab": {
          "base_uri": "https://localhost:8080/",
          "height": 500
        },
        "id": "7wB4JwarSnQw",
        "outputId": "8535f69a-2646-4194-ac14-1d376e72fbf9"
      },
      "source": [
        "numbers=range(1, 430)\r\n",
        "num= range(13,430)\r\n",
        "pred= range(430,577)\r\n",
        "plot_pred=[]\r\n",
        "real_val=[]\r\n",
        "plt.figure()\r\n",
        "y_pred= model.predict(x)\r\n",
        "plt.plot(numbers,array)\r\n",
        "plt.plot(num,y_pred,'r')\r\n",
        "x_new= array[416: len(array)-1]\r\n",
        "for i in range(147):\r\n",
        "  x_new= x_new.reshape(1,12,1)\r\n",
        "  y_new= model.predict(x_new)\r\n",
        "  x_new= x_new[0][1:]\r\n",
        "  x_new= np.append(x_new, y_new)\r\n",
        "  y_new= y_new.reshape(1,)\r\n",
        "  real= y_new*array_std+array_mean\r\n",
        "  plot_pred.append(y_new)\r\n",
        "  real_val.append(real)\r\n",
        "\r\n",
        "plt.plot(pred, plot_pred, color='#00ff00')\r\n",
        "plt.plot()"
      ],
      "execution_count": null,
      "outputs": [
        {
          "output_type": "execute_result",
          "data": {
            "text/plain": [
              "[]"
            ]
          },
          "metadata": {
            "tags": []
          },
          "execution_count": 45
        },
        {
          "output_type": "display_data",
          "data": {
            "image/png": "[encoded data removed]",
            "text/plain": [
              "<Figure size 720x576 with 1 Axes>"
            ]
          },
          "metadata": {
            "tags": [],
            "needs_background": "light"
          }
        }
      ]
    },
    {
      "cell_type": "code",
      "metadata": {
        "colab": {
          "base_uri": "https://localhost:8080/"
        },
        "id": "buXyQb2pSnQz",
        "outputId": "e70d2fcd-87cd-4b6f-9c8f-bbcac7ab90ec"
      },
      "source": [
        "pred_array = np.array(real_val)\r\n",
        "pred_array.shape"
      ],
      "execution_count": null,
      "outputs": [
        {
          "output_type": "execute_result",
          "data": {
            "text/plain": [
              "(147, 1)"
            ]
          },
          "metadata": {
            "tags": []
          },
          "execution_count": 46
        }
      ]
    },
    {
      "cell_type": "code",
      "metadata": {
        "colab": {
          "base_uri": "https://localhost:8080/",
          "height": 419
        },
        "id": "5kgS8GuMSnQ1",
        "outputId": "ed5f8454-7c80-4847-e6c6-c8e68146b4d2"
      },
      "source": [
        "answer['Close-Stock-2'] = pred_array.flatten()\r\n",
        "answer"
      ],
      "execution_count": null,
      "outputs": [
        {
          "output_type": "execute_result",
          "data": {
            "text/html": [
              "<div>\n",
              "<style scoped>\n",
              "    .dataframe tbody tr th:only-of-type {\n",
              "        vertical-align: middle;\n",
              "    }\n",
              "\n",
              "    .dataframe tbody tr th {\n",
              "        vertical-align: top;\n",
              "    }\n",
              "\n",
              "    .dataframe thead th {\n",
              "        text-align: right;\n",
              "    }\n",
              "</style>\n",
              "<table border=\"1\" class=\"dataframe\">\n",
              "  <thead>\n",
              "    <tr style=\"text-align: right;\">\n",
              "      <th></th>\n",
              "      <th>Date</th>\n",
              "      <th>Close-Stock-1</th>\n",
              "      <th>Close-Stock-2</th>\n",
              "    </tr>\n",
              "  </thead>\n",
              "  <tbody>\n",
              "    <tr>\n",
              "      <th>0</th>\n",
              "      <td>2011-08-04</td>\n",
              "      <td>574.658691</td>\n",
              "      <td>211.067871</td>\n",
              "    </tr>\n",
              "    <tr>\n",
              "      <th>1</th>\n",
              "      <td>2011-08-05</td>\n",
              "      <td>574.593018</td>\n",
              "      <td>213.217712</td>\n",
              "    </tr>\n",
              "    <tr>\n",
              "      <th>2</th>\n",
              "      <td>2011-08-06</td>\n",
              "      <td>574.630981</td>\n",
              "      <td>216.291580</td>\n",
              "    </tr>\n",
              "    <tr>\n",
              "      <th>3</th>\n",
              "      <td>2011-08-07</td>\n",
              "      <td>574.512451</td>\n",
              "      <td>220.956924</td>\n",
              "    </tr>\n",
              "    <tr>\n",
              "      <th>4</th>\n",
              "      <td>2011-08-08</td>\n",
              "      <td>574.598389</td>\n",
              "      <td>227.928192</td>\n",
              "    </tr>\n",
              "    <tr>\n",
              "      <th>...</th>\n",
              "      <td>...</td>\n",
              "      <td>...</td>\n",
              "      <td>...</td>\n",
              "    </tr>\n",
              "    <tr>\n",
              "      <th>142</th>\n",
              "      <td>2011-12-24</td>\n",
              "      <td>574.191040</td>\n",
              "      <td>301.884796</td>\n",
              "    </tr>\n",
              "    <tr>\n",
              "      <th>143</th>\n",
              "      <td>2011-12-25</td>\n",
              "      <td>574.190918</td>\n",
              "      <td>301.884796</td>\n",
              "    </tr>\n",
              "    <tr>\n",
              "      <th>144</th>\n",
              "      <td>2011-12-26</td>\n",
              "      <td>574.191040</td>\n",
              "      <td>301.884796</td>\n",
              "    </tr>\n",
              "    <tr>\n",
              "      <th>145</th>\n",
              "      <td>2011-12-27</td>\n",
              "      <td>574.190918</td>\n",
              "      <td>301.884796</td>\n",
              "    </tr>\n",
              "    <tr>\n",
              "      <th>146</th>\n",
              "      <td>2011-12-28</td>\n",
              "      <td>574.191040</td>\n",
              "      <td>301.884796</td>\n",
              "    </tr>\n",
              "  </tbody>\n",
              "</table>\n",
              "<p>147 rows × 3 columns</p>\n",
              "</div>"
            ],
            "text/plain": [
              "          Date  Close-Stock-1  Close-Stock-2\n",
              "0   2011-08-04     574.658691     211.067871\n",
              "1   2011-08-05     574.593018     213.217712\n",
              "2   2011-08-06     574.630981     216.291580\n",
              "3   2011-08-07     574.512451     220.956924\n",
              "4   2011-08-08     574.598389     227.928192\n",
              "..         ...            ...            ...\n",
              "142 2011-12-24     574.191040     301.884796\n",
              "143 2011-12-25     574.190918     301.884796\n",
              "144 2011-12-26     574.191040     301.884796\n",
              "145 2011-12-27     574.190918     301.884796\n",
              "146 2011-12-28     574.191040     301.884796\n",
              "\n",
              "[147 rows x 3 columns]"
            ]
          },
          "metadata": {
            "tags": []
          },
          "execution_count": 47
        }
      ]
    },
    {
      "cell_type": "markdown",
      "metadata": {
        "id": "ckq25sOEUKo1"
      },
      "source": [
        "# Stock 3"
      ]
    },
    {
      "cell_type": "code",
      "metadata": {
        "colab": {
          "base_uri": "https://localhost:8080/",
          "height": 204
        },
        "id": "QcnC5kY4UKp8",
        "outputId": "4cef2cab-5ab5-4987-acee-e1a022e93bf6"
      },
      "source": [
        "df3= result.loc[:,['Date','Close-Stock-3']]\r\n",
        "df3.head()"
      ],
      "execution_count": null,
      "outputs": [
        {
          "output_type": "execute_result",
          "data": {
            "text/html": [
              "<div>\n",
              "<style scoped>\n",
              "    .dataframe tbody tr th:only-of-type {\n",
              "        vertical-align: middle;\n",
              "    }\n",
              "\n",
              "    .dataframe tbody tr th {\n",
              "        vertical-align: top;\n",
              "    }\n",
              "\n",
              "    .dataframe thead th {\n",
              "        text-align: right;\n",
              "    }\n",
              "</style>\n",
              "<table border=\"1\" class=\"dataframe\">\n",
              "  <thead>\n",
              "    <tr style=\"text-align: right;\">\n",
              "      <th></th>\n",
              "      <th>Date</th>\n",
              "      <th>Close-Stock-3</th>\n",
              "    </tr>\n",
              "  </thead>\n",
              "  <tbody>\n",
              "    <tr>\n",
              "      <th>0</th>\n",
              "      <td>2010-06-01</td>\n",
              "      <td>2077.25</td>\n",
              "    </tr>\n",
              "    <tr>\n",
              "      <th>1</th>\n",
              "      <td>2010-06-02</td>\n",
              "      <td>2079.85</td>\n",
              "    </tr>\n",
              "    <tr>\n",
              "      <th>2</th>\n",
              "      <td>2010-06-03</td>\n",
              "      <td>2114.90</td>\n",
              "    </tr>\n",
              "    <tr>\n",
              "      <th>3</th>\n",
              "      <td>2010-06-04</td>\n",
              "      <td>2146.75</td>\n",
              "    </tr>\n",
              "    <tr>\n",
              "      <th>4</th>\n",
              "      <td>2010-06-07</td>\n",
              "      <td>2185.25</td>\n",
              "    </tr>\n",
              "  </tbody>\n",
              "</table>\n",
              "</div>"
            ],
            "text/plain": [
              "        Date  Close-Stock-3\n",
              "0 2010-06-01        2077.25\n",
              "1 2010-06-02        2079.85\n",
              "2 2010-06-03        2114.90\n",
              "3 2010-06-04        2146.75\n",
              "4 2010-06-07        2185.25"
            ]
          },
          "metadata": {
            "tags": []
          },
          "execution_count": 48
        }
      ]
    },
    {
      "cell_type": "code",
      "metadata": {
        "id": "MLg87Pz9UKqF"
      },
      "source": [
        "idx = pd.date_range(df3.Date.min(), df3.Date.max())\r\n",
        "df3.set_index('Date', inplace=True)"
      ],
      "execution_count": null,
      "outputs": []
    },
    {
      "cell_type": "markdown",
      "metadata": {
        "id": "5DqOpTDXUKqH"
      },
      "source": [
        "**Cubic Spline interpolation**"
      ]
    },
    {
      "cell_type": "code",
      "metadata": {
        "colab": {
          "base_uri": "https://localhost:8080/",
          "height": 450
        },
        "id": "51j5JrvoUKqJ",
        "outputId": "7e4ac1b1-ce25-4806-f42a-595426a3e9a0"
      },
      "source": [
        "df3 = df3.reindex(idx)\r\n",
        "df3.index.name = 'Date'\r\n",
        "# df1= df1.replace({0:np.NaN})\r\n",
        "df3= df3.interpolate(method='spline', order=3, s=0.)\r\n",
        "df3 = df3.round(2)\r\n",
        "df3"
      ],
      "execution_count": null,
      "outputs": [
        {
          "output_type": "execute_result",
          "data": {
            "text/html": [
              "<div>\n",
              "<style scoped>\n",
              "    .dataframe tbody tr th:only-of-type {\n",
              "        vertical-align: middle;\n",
              "    }\n",
              "\n",
              "    .dataframe tbody tr th {\n",
              "        vertical-align: top;\n",
              "    }\n",
              "\n",
              "    .dataframe thead th {\n",
              "        text-align: right;\n",
              "    }\n",
              "</style>\n",
              "<table border=\"1\" class=\"dataframe\">\n",
              "  <thead>\n",
              "    <tr style=\"text-align: right;\">\n",
              "      <th></th>\n",
              "      <th>Close-Stock-3</th>\n",
              "    </tr>\n",
              "    <tr>\n",
              "      <th>Date</th>\n",
              "      <th></th>\n",
              "    </tr>\n",
              "  </thead>\n",
              "  <tbody>\n",
              "    <tr>\n",
              "      <th>2010-06-01</th>\n",
              "      <td>2077.25</td>\n",
              "    </tr>\n",
              "    <tr>\n",
              "      <th>2010-06-02</th>\n",
              "      <td>2079.85</td>\n",
              "    </tr>\n",
              "    <tr>\n",
              "      <th>2010-06-03</th>\n",
              "      <td>2114.90</td>\n",
              "    </tr>\n",
              "    <tr>\n",
              "      <th>2010-06-04</th>\n",
              "      <td>2146.75</td>\n",
              "    </tr>\n",
              "    <tr>\n",
              "      <th>2010-06-05</th>\n",
              "      <td>2156.78</td>\n",
              "    </tr>\n",
              "    <tr>\n",
              "      <th>...</th>\n",
              "      <td>...</td>\n",
              "    </tr>\n",
              "    <tr>\n",
              "      <th>2011-07-30</th>\n",
              "      <td>3126.50</td>\n",
              "    </tr>\n",
              "    <tr>\n",
              "      <th>2011-07-31</th>\n",
              "      <td>3096.90</td>\n",
              "    </tr>\n",
              "    <tr>\n",
              "      <th>2011-08-01</th>\n",
              "      <td>3067.85</td>\n",
              "    </tr>\n",
              "    <tr>\n",
              "      <th>2011-08-02</th>\n",
              "      <td>3052.15</td>\n",
              "    </tr>\n",
              "    <tr>\n",
              "      <th>2011-08-03</th>\n",
              "      <td>3023.20</td>\n",
              "    </tr>\n",
              "  </tbody>\n",
              "</table>\n",
              "<p>429 rows × 1 columns</p>\n",
              "</div>"
            ],
            "text/plain": [
              "            Close-Stock-3\n",
              "Date                     \n",
              "2010-06-01        2077.25\n",
              "2010-06-02        2079.85\n",
              "2010-06-03        2114.90\n",
              "2010-06-04        2146.75\n",
              "2010-06-05        2156.78\n",
              "...                   ...\n",
              "2011-07-30        3126.50\n",
              "2011-07-31        3096.90\n",
              "2011-08-01        3067.85\n",
              "2011-08-02        3052.15\n",
              "2011-08-03        3023.20\n",
              "\n",
              "[429 rows x 1 columns]"
            ]
          },
          "metadata": {
            "tags": []
          },
          "execution_count": 50
        }
      ]
    },
    {
      "cell_type": "code",
      "metadata": {
        "colab": {
          "base_uri": "https://localhost:8080/"
        },
        "id": "hrPj02oJUKqM",
        "outputId": "5e3cd04f-ec31-46f3-dbb9-3a762efe4dbf"
      },
      "source": [
        "array = df3.to_numpy().reshape(-1,1)\r\n",
        "array.shape"
      ],
      "execution_count": null,
      "outputs": [
        {
          "output_type": "execute_result",
          "data": {
            "text/plain": [
              "(429, 1)"
            ]
          },
          "metadata": {
            "tags": []
          },
          "execution_count": 51
        }
      ]
    },
    {
      "cell_type": "code",
      "metadata": {
        "id": "7axlHP7aUKqR"
      },
      "source": [
        "#taking mean and standered deviation\r\n",
        "array_mean = array.mean()\r\n",
        "array_std = array.std()\r\n",
        "#normalizing the data\r\n",
        "array = (array-array_mean)/array_std"
      ],
      "execution_count": null,
      "outputs": []
    },
    {
      "cell_type": "code",
      "metadata": {
        "id": "obnoFQdLUKqT"
      },
      "source": [
        "def univariate_data(dataset, start_index, end_index, history_size, target_size):\r\n",
        "  data = []\r\n",
        "  labels = []\r\n",
        "\r\n",
        "  start_index = start_index + history_size\r\n",
        "  if end_index is None:\r\n",
        "    end_index = len(dataset) - target_size\r\n",
        "\r\n",
        "  for i in range(start_index, end_index):\r\n",
        "    indices = range(i-history_size, i)\r\n",
        "    # Reshape data from (history_size,) to (history_size, 1)\r\n",
        "    data.append(np.reshape(dataset[indices], (history_size, 1)))\r\n",
        "    labels.append(dataset[i+target_size])\r\n",
        "  return np.array(data), np.array(labels)"
      ],
      "execution_count": null,
      "outputs": []
    },
    {
      "cell_type": "code",
      "metadata": {
        "id": "vlsYh8wVUKqV"
      },
      "source": [
        "univariate_past_history = 12\r\n",
        "univariate_future_target = 0\r\n",
        "\r\n",
        "x, y = univariate_data(array, 0, None, univariate_past_history, univariate_future_target)"
      ],
      "execution_count": null,
      "outputs": []
    },
    {
      "cell_type": "code",
      "metadata": {
        "colab": {
          "base_uri": "https://localhost:8080/"
        },
        "id": "qnsiV7p_UKqX",
        "outputId": "76557b3e-e3de-48e1-cc61-61dbbb9c1fbb"
      },
      "source": [
        "print('X Shape:',x.shape)\r\n",
        "print('Y Shape:',y.shape)"
      ],
      "execution_count": null,
      "outputs": [
        {
          "output_type": "stream",
          "text": [
            "X Shape: (417, 12, 1)\n",
            "Y Shape: (417, 1)\n"
          ],
          "name": "stdout"
        }
      ]
    },
    {
      "cell_type": "markdown",
      "metadata": {
        "id": "SU21U7AjUKqa"
      },
      "source": [
        "**Learning Rate Scheduling**"
      ]
    },
    {
      "cell_type": "code",
      "metadata": {
        "colab": {
          "base_uri": "https://localhost:8080/"
        },
        "id": "9WHxltDLUKqc",
        "outputId": "fa1cc8ec-4914-4385-cb47-607de68a3a2f"
      },
      "source": [
        "tf.keras.backend.clear_session()\n",
        "\n",
        "#creating model\n",
        "model= tf.keras.models.Sequential([\n",
        "                                   tf.keras.layers.Lambda(lambda x: tf.expand_dims(x,axis=-1), input_shape=[None]),\n",
        "                                   tf.keras.layers.Bidirectional(tf.keras.layers.LSTM(48, activation='relu', dropout=0.25, recurrent_dropout=0.2, return_sequences=True)),\n",
        "                                   tf.keras.layers.Bidirectional(tf.keras.layers.LSTM(24, activation='relu', dropout=0.25, recurrent_dropout=0.3, return_sequences=True)),\n",
        "                                   tf.keras.layers.Bidirectional(tf.keras.layers.LSTM(12, activation='relu', return_sequences=True, activity_regularizer=keras.regularizers.l2())), \n",
        "                                   tf.keras.layers.Bidirectional(tf.keras.layers.LSTM(6, activation='relu', return_sequences=True,  activity_regularizer=keras.regularizers.l2())), \n",
        "                                   tf.keras.layers.LSTM(6, activation='relu'), \n",
        "                                   tf.keras.layers.Dropout(0.4),  \n",
        "                                   tf.keras.layers.Dense(1)\n",
        "                                   ])\n",
        "lr_schedular= tf.keras.callbacks.LearningRateScheduler(lambda x: 1e-6*10**(x/20))\n",
        "\n",
        "adam= tf.keras.optimizers.Adam(lr=1e-6)\n",
        "model.compile(optimizer= adam, loss= 'mse')\n",
        "#Smodel.build(input_shape)\n",
        "model.summary()"
      ],
      "execution_count": null,
      "outputs": [
        {
          "output_type": "stream",
          "text": [
            "Model: \"sequential\"\n",
            "_________________________________________________________________\n",
            "Layer (type)                 Output Shape              Param #   \n",
            "=================================================================\n",
            "lambda (Lambda)              (None, None, 1)           0         \n",
            "_________________________________________________________________\n",
            "bidirectional (Bidirectional (None, None, 48)          4992      \n",
            "_________________________________________________________________\n",
            "bidirectional_1 (Bidirection (None, None, 24)          5856      \n",
            "_________________________________________________________________\n",
            "lstm_2 (LSTM)                (None, 12)                1776      \n",
            "_________________________________________________________________\n",
            "dropout (Dropout)            (None, 12)                0         \n",
            "_________________________________________________________________\n",
            "dense (Dense)                (None, 1)                 13        \n",
            "=================================================================\n",
            "Total params: 12,637\n",
            "Trainable params: 12,637\n",
            "Non-trainable params: 0\n",
            "_________________________________________________________________\n"
          ],
          "name": "stdout"
        }
      ]
    },
    {
      "cell_type": "code",
      "metadata": {
        "id": "posJwd6jUKqf"
      },
      "source": [
        "history= model.fit(x, y, epochs= 125, callbacks= [lr_schedular], verbose=0)"
      ],
      "execution_count": null,
      "outputs": []
    },
    {
      "cell_type": "code",
      "metadata": {
        "colab": {
          "base_uri": "https://localhost:8080/"
        },
        "id": "aRc0W7z1UKqh",
        "outputId": "89c78098-1b53-4742-a480-ff0b968e9ecd"
      },
      "source": [
        "loss= min(history.history['loss'])\n",
        "losses= history.history['loss']\n",
        "index=losses.index(loss)\n",
        "lrs= history.history['lr']\n",
        "count=0\n",
        "for i in lrs:\n",
        "  if count==index:\n",
        "    lr=i\n",
        "    break\n",
        "  count+=1\n",
        "print(lr)\n",
        "print(loss)"
      ],
      "execution_count": null,
      "outputs": [
        {
          "output_type": "stream",
          "text": [
            "0.0039810715\n",
            "0.11471155285835266\n"
          ],
          "name": "stdout"
        }
      ]
    },
    {
      "cell_type": "code",
      "metadata": {
        "colab": {
          "base_uri": "https://localhost:8080/",
          "height": 498
        },
        "id": "XDgoF4lGUKqk",
        "outputId": "6000a6b3-b34b-4895-a078-47cb939c33ca"
      },
      "source": [
        "lrs= 1e-8*(10**(np.arange(125)/20))\n",
        "plt.semilogx(lrs, history.history[\"loss\"], label='Loss')\n",
        "plt.legend(loc='best')\n",
        "plt.grid(True)"
      ],
      "execution_count": null,
      "outputs": [
        {
          "output_type": "display_data",
          "data": {
            "image/png": "[encoded data removed]",
            "text/plain": [
              "<Figure size 720x576 with 1 Axes>"
            ]
          },
          "metadata": {
            "tags": [],
            "needs_background": "light"
          }
        }
      ]
    },
    {
      "cell_type": "markdown",
      "metadata": {
        "id": "iXA7yQKtUKqm"
      },
      "source": [
        "**Model Training**"
      ]
    },
    {
      "cell_type": "code",
      "metadata": {
        "colab": {
          "base_uri": "https://localhost:8080/"
        },
        "id": "2ToSYmJkUKqo",
        "outputId": "056cb5ba-7f1f-4379-dc8e-cadf2f93416d"
      },
      "source": [
        "tf.keras.backend.clear_session()\n",
        "\n",
        "#creating model\n",
        "model= tf.keras.models.Sequential([\n",
        "                                   tf.keras.layers.Lambda(lambda x: tf.expand_dims(x,axis=-1), input_shape=[None]),\n",
        "                                   tf.keras.layers.Bidirectional(tf.keras.layers.LSTM(48, activation='relu', dropout=0.25, recurrent_dropout=0.2, return_sequences=True)),\n",
        "                                   tf.keras.layers.Bidirectional(tf.keras.layers.LSTM(24, activation='relu', dropout=0.25, recurrent_dropout=0.3, return_sequences=True)),\n",
        "                                   tf.keras.layers.Bidirectional(tf.keras.layers.LSTM(12, activation='relu', return_sequences=True, activity_regularizer=keras.regularizers.l2())), \n",
        "                                   tf.keras.layers.Bidirectional(tf.keras.layers.LSTM(6, activation='relu', return_sequences=True,  activity_regularizer=keras.regularizers.l2())), \n",
        "                                   tf.keras.layers.LSTM(6, activation='relu'), \n",
        "                                   tf.keras.layers.Dropout(0.4),  \n",
        "                                   tf.keras.layers.Dense(1)\n",
        "                                   ])\n",
        "\n",
        "adam= tf.keras.optimizers.Adam(lr=lr)\n",
        "model.compile(optimizer= adam, loss= 'mse')\n",
        "#Smodel.build(input_shape)\n",
        "model.summary()"
      ],
      "execution_count": null,
      "outputs": [
        {
          "output_type": "stream",
          "text": [
            "Model: \"sequential\"\n",
            "_________________________________________________________________\n",
            "Layer (type)                 Output Shape              Param #   \n",
            "=================================================================\n",
            "lambda (Lambda)              (None, None, 1)           0         \n",
            "_________________________________________________________________\n",
            "bidirectional (Bidirectional (None, None, 48)          4992      \n",
            "_________________________________________________________________\n",
            "bidirectional_1 (Bidirection (None, None, 24)          5856      \n",
            "_________________________________________________________________\n",
            "lstm_2 (LSTM)                (None, 12)                1776      \n",
            "_________________________________________________________________\n",
            "dropout (Dropout)            (None, 12)                0         \n",
            "_________________________________________________________________\n",
            "dense (Dense)                (None, 1)                 13        \n",
            "=================================================================\n",
            "Total params: 12,637\n",
            "Trainable params: 12,637\n",
            "Non-trainable params: 0\n",
            "_________________________________________________________________\n"
          ],
          "name": "stdout"
        }
      ]
    },
    {
      "cell_type": "code",
      "metadata": {
        "id": "3TMKcJ0WUKqr"
      },
      "source": [
        "history= model.fit(x,y, epochs= 300, verbose=0)"
      ],
      "execution_count": null,
      "outputs": []
    },
    {
      "cell_type": "code",
      "metadata": {
        "colab": {
          "base_uri": "https://localhost:8080/",
          "height": 487
        },
        "id": "5j6-vM97UKqs",
        "outputId": "b108389d-6643-4428-ebe2-b693fbc96d40"
      },
      "source": [
        "epochs= range(1,301)\n",
        "plt.semilogx(epochs, history.history[\"loss\"], label='Loss')\n",
        "plt.legend(loc='best')\n",
        "plt.grid(True)"
      ],
      "execution_count": null,
      "outputs": [
        {
          "output_type": "display_data",
          "data": {
            "image/png": "[encoded data removed]",
            "text/plain": [
              "<Figure size 720x576 with 1 Axes>"
            ]
          },
          "metadata": {
            "tags": [],
            "needs_background": "light"
          }
        }
      ]
    },
    {
      "cell_type": "code",
      "metadata": {
        "colab": {
          "base_uri": "https://localhost:8080/",
          "height": 534
        },
        "id": "xCSLmD7nUKqu",
        "outputId": "e1f09836-81c6-49c5-a691-f5e6f951357b"
      },
      "source": [
        "numbers=range(1, 430)\n",
        "num= range(13,430)\n",
        "plt.figure()\n",
        "print(x.shape)\n",
        "y_pred= model.predict(x)\n",
        "print(y_pred.shape)\n",
        "plt.plot(numbers,array)\n",
        "plt.plot(num,y_pred,'r')\n",
        "plt.plot()"
      ],
      "execution_count": null,
      "outputs": [
        {
          "output_type": "stream",
          "text": [
            "(417, 12, 1)\n",
            "(417, 1)\n"
          ],
          "name": "stdout"
        },
        {
          "output_type": "execute_result",
          "data": {
            "text/plain": [
              "[]"
            ]
          },
          "metadata": {
            "tags": []
          },
          "execution_count": 63
        },
        {
          "output_type": "display_data",
          "data": {
            "image/png": "[encoded data removed]",
            "text/plain": [
              "<Figure size 720x576 with 1 Axes>"
            ]
          },
          "metadata": {
            "tags": [],
            "needs_background": "light"
          }
        }
      ]
    },
    {
      "cell_type": "markdown",
      "metadata": {
        "id": "uTqpNBb8UKqw"
      },
      "source": [
        "**Test Phase**"
      ]
    },
    {
      "cell_type": "code",
      "metadata": {
        "colab": {
          "base_uri": "https://localhost:8080/",
          "height": 500
        },
        "id": "fDNbuhdiUKqx",
        "outputId": "196f2acf-3408-4e43-cac1-435d04f16c5c"
      },
      "source": [
        "numbers=range(1, 430)\r\n",
        "num= range(13,430)\r\n",
        "pred= range(430,577)\r\n",
        "plot_pred=[]\r\n",
        "real_val=[]\r\n",
        "plt.figure()\r\n",
        "y_pred= model.predict(x)\r\n",
        "plt.plot(numbers,array)\r\n",
        "plt.plot(num,y_pred,'r')\r\n",
        "x_new= array[416: len(array)-1]\r\n",
        "for i in range(147):\r\n",
        "  x_new= x_new.reshape(1,12,1)\r\n",
        "  y_new= model.predict(x_new)\r\n",
        "  x_new= x_new[0][1:]\r\n",
        "  x_new= np.append(x_new, y_new)\r\n",
        "  y_new= y_new.reshape(1,)\r\n",
        "  real= y_new*array_std+array_mean\r\n",
        "  plot_pred.append(y_new)\r\n",
        "  real_val.append(real)\r\n",
        "\r\n",
        "plt.plot(pred, plot_pred, color='#00ff00')\r\n",
        "plt.plot()"
      ],
      "execution_count": null,
      "outputs": [
        {
          "output_type": "execute_result",
          "data": {
            "text/plain": [
              "[]"
            ]
          },
          "metadata": {
            "tags": []
          },
          "execution_count": 64
        },
        {
          "output_type": "display_data",
          "data": {
            "image/png": "[encoded data removed]",
            "text/plain": [
              "<Figure size 720x576 with 1 Axes>"
            ]
          },
          "metadata": {
            "tags": [],
            "needs_background": "light"
          }
        }
      ]
    },
    {
      "cell_type": "code",
      "metadata": {
        "colab": {
          "base_uri": "https://localhost:8080/"
        },
        "id": "C7jwKMc1UKqz",
        "outputId": "371f2af5-6351-4add-8d9d-6db10b5ad3fb"
      },
      "source": [
        "pred_array = np.array(real_val)\r\n",
        "pred_array.shape"
      ],
      "execution_count": null,
      "outputs": [
        {
          "output_type": "execute_result",
          "data": {
            "text/plain": [
              "(147, 1)"
            ]
          },
          "metadata": {
            "tags": []
          },
          "execution_count": 65
        }
      ]
    },
    {
      "cell_type": "code",
      "metadata": {
        "colab": {
          "base_uri": "https://localhost:8080/",
          "height": 419
        },
        "id": "8_j_OyR7UKq1",
        "outputId": "4aa2207b-2245-4a1c-c47b-953e2a0bf147"
      },
      "source": [
        "answer['Close-Stock-3'] = pred_array.flatten()\r\n",
        "answer"
      ],
      "execution_count": null,
      "outputs": [
        {
          "output_type": "execute_result",
          "data": {
            "text/html": [
              "<div>\n",
              "<style scoped>\n",
              "    .dataframe tbody tr th:only-of-type {\n",
              "        vertical-align: middle;\n",
              "    }\n",
              "\n",
              "    .dataframe tbody tr th {\n",
              "        vertical-align: top;\n",
              "    }\n",
              "\n",
              "    .dataframe thead th {\n",
              "        text-align: right;\n",
              "    }\n",
              "</style>\n",
              "<table border=\"1\" class=\"dataframe\">\n",
              "  <thead>\n",
              "    <tr style=\"text-align: right;\">\n",
              "      <th></th>\n",
              "      <th>Date</th>\n",
              "      <th>Close-Stock-1</th>\n",
              "      <th>Close-Stock-2</th>\n",
              "      <th>Close-Stock-3</th>\n",
              "    </tr>\n",
              "  </thead>\n",
              "  <tbody>\n",
              "    <tr>\n",
              "      <th>0</th>\n",
              "      <td>2011-08-04</td>\n",
              "      <td>574.658691</td>\n",
              "      <td>211.067871</td>\n",
              "      <td>2977.268799</td>\n",
              "    </tr>\n",
              "    <tr>\n",
              "      <th>1</th>\n",
              "      <td>2011-08-05</td>\n",
              "      <td>574.593018</td>\n",
              "      <td>213.217712</td>\n",
              "      <td>2910.111572</td>\n",
              "    </tr>\n",
              "    <tr>\n",
              "      <th>2</th>\n",
              "      <td>2011-08-06</td>\n",
              "      <td>574.630981</td>\n",
              "      <td>216.291580</td>\n",
              "      <td>2871.305176</td>\n",
              "    </tr>\n",
              "    <tr>\n",
              "      <th>3</th>\n",
              "      <td>2011-08-07</td>\n",
              "      <td>574.512451</td>\n",
              "      <td>220.956924</td>\n",
              "      <td>2855.853760</td>\n",
              "    </tr>\n",
              "    <tr>\n",
              "      <th>4</th>\n",
              "      <td>2011-08-08</td>\n",
              "      <td>574.598389</td>\n",
              "      <td>227.928192</td>\n",
              "      <td>2844.355469</td>\n",
              "    </tr>\n",
              "    <tr>\n",
              "      <th>...</th>\n",
              "      <td>...</td>\n",
              "      <td>...</td>\n",
              "      <td>...</td>\n",
              "      <td>...</td>\n",
              "    </tr>\n",
              "    <tr>\n",
              "      <th>142</th>\n",
              "      <td>2011-12-24</td>\n",
              "      <td>574.191040</td>\n",
              "      <td>301.884796</td>\n",
              "      <td>2788.281006</td>\n",
              "    </tr>\n",
              "    <tr>\n",
              "      <th>143</th>\n",
              "      <td>2011-12-25</td>\n",
              "      <td>574.190918</td>\n",
              "      <td>301.884796</td>\n",
              "      <td>2788.281006</td>\n",
              "    </tr>\n",
              "    <tr>\n",
              "      <th>144</th>\n",
              "      <td>2011-12-26</td>\n",
              "      <td>574.191040</td>\n",
              "      <td>301.884796</td>\n",
              "      <td>2788.281006</td>\n",
              "    </tr>\n",
              "    <tr>\n",
              "      <th>145</th>\n",
              "      <td>2011-12-27</td>\n",
              "      <td>574.190918</td>\n",
              "      <td>301.884796</td>\n",
              "      <td>2788.281006</td>\n",
              "    </tr>\n",
              "    <tr>\n",
              "      <th>146</th>\n",
              "      <td>2011-12-28</td>\n",
              "      <td>574.191040</td>\n",
              "      <td>301.884796</td>\n",
              "      <td>2788.281006</td>\n",
              "    </tr>\n",
              "  </tbody>\n",
              "</table>\n",
              "<p>147 rows × 4 columns</p>\n",
              "</div>"
            ],
            "text/plain": [
              "          Date  Close-Stock-1  Close-Stock-2  Close-Stock-3\n",
              "0   2011-08-04     574.658691     211.067871    2977.268799\n",
              "1   2011-08-05     574.593018     213.217712    2910.111572\n",
              "2   2011-08-06     574.630981     216.291580    2871.305176\n",
              "3   2011-08-07     574.512451     220.956924    2855.853760\n",
              "4   2011-08-08     574.598389     227.928192    2844.355469\n",
              "..         ...            ...            ...            ...\n",
              "142 2011-12-24     574.191040     301.884796    2788.281006\n",
              "143 2011-12-25     574.190918     301.884796    2788.281006\n",
              "144 2011-12-26     574.191040     301.884796    2788.281006\n",
              "145 2011-12-27     574.190918     301.884796    2788.281006\n",
              "146 2011-12-28     574.191040     301.884796    2788.281006\n",
              "\n",
              "[147 rows x 4 columns]"
            ]
          },
          "metadata": {
            "tags": []
          },
          "execution_count": 66
        }
      ]
    },
    {
      "cell_type": "markdown",
      "metadata": {
        "id": "OBOCLJo8UOdf"
      },
      "source": [
        "# Stock 4"
      ]
    },
    {
      "cell_type": "code",
      "metadata": {
        "colab": {
          "base_uri": "https://localhost:8080/",
          "height": 204
        },
        "id": "VpFolYYwUOdi",
        "outputId": "fb8fb771-5768-4cd8-fd84-c6f7cfe43eb1"
      },
      "source": [
        "df4= result.loc[:,['Date','Close-Stock-4']]\r\n",
        "df4.head()"
      ],
      "execution_count": null,
      "outputs": [
        {
          "output_type": "execute_result",
          "data": {
            "text/html": [
              "<div>\n",
              "<style scoped>\n",
              "    .dataframe tbody tr th:only-of-type {\n",
              "        vertical-align: middle;\n",
              "    }\n",
              "\n",
              "    .dataframe tbody tr th {\n",
              "        vertical-align: top;\n",
              "    }\n",
              "\n",
              "    .dataframe thead th {\n",
              "        text-align: right;\n",
              "    }\n",
              "</style>\n",
              "<table border=\"1\" class=\"dataframe\">\n",
              "  <thead>\n",
              "    <tr style=\"text-align: right;\">\n",
              "      <th></th>\n",
              "      <th>Date</th>\n",
              "      <th>Close-Stock-4</th>\n",
              "    </tr>\n",
              "  </thead>\n",
              "  <tbody>\n",
              "    <tr>\n",
              "      <th>0</th>\n",
              "      <td>2010-06-01</td>\n",
              "      <td>837.95</td>\n",
              "    </tr>\n",
              "    <tr>\n",
              "      <th>1</th>\n",
              "      <td>2010-06-02</td>\n",
              "      <td>842.30</td>\n",
              "    </tr>\n",
              "    <tr>\n",
              "      <th>2</th>\n",
              "      <td>2010-06-03</td>\n",
              "      <td>854.10</td>\n",
              "    </tr>\n",
              "    <tr>\n",
              "      <th>3</th>\n",
              "      <td>2010-06-04</td>\n",
              "      <td>865.85</td>\n",
              "    </tr>\n",
              "    <tr>\n",
              "      <th>4</th>\n",
              "      <td>2010-06-07</td>\n",
              "      <td>841.95</td>\n",
              "    </tr>\n",
              "  </tbody>\n",
              "</table>\n",
              "</div>"
            ],
            "text/plain": [
              "        Date  Close-Stock-4\n",
              "0 2010-06-01         837.95\n",
              "1 2010-06-02         842.30\n",
              "2 2010-06-03         854.10\n",
              "3 2010-06-04         865.85\n",
              "4 2010-06-07         841.95"
            ]
          },
          "metadata": {
            "tags": []
          },
          "execution_count": 67
        }
      ]
    },
    {
      "cell_type": "code",
      "metadata": {
        "id": "L3YRtil2UOdk"
      },
      "source": [
        "idx = pd.date_range(df4.Date.min(), df4.Date.max())\r\n",
        "df4.set_index('Date', inplace=True)"
      ],
      "execution_count": null,
      "outputs": []
    },
    {
      "cell_type": "markdown",
      "metadata": {
        "id": "89-2N70sUOdm"
      },
      "source": [
        "**Cubic Spline interpolation**"
      ]
    },
    {
      "cell_type": "code",
      "metadata": {
        "colab": {
          "base_uri": "https://localhost:8080/",
          "height": 450
        },
        "id": "6B4KWVdBUOdn",
        "outputId": "14a34612-fb79-44a6-f635-a76ade187409"
      },
      "source": [
        "df4 = df4.reindex(idx)\r\n",
        "df4.index.name = 'Date'\r\n",
        "# df1= df1.replace({0:np.NaN})\r\n",
        "df4= df4.interpolate(method='spline', order=3, s=0.)\r\n",
        "df4 = df4.round(2)\r\n",
        "df4"
      ],
      "execution_count": null,
      "outputs": [
        {
          "output_type": "execute_result",
          "data": {
            "text/html": [
              "<div>\n",
              "<style scoped>\n",
              "    .dataframe tbody tr th:only-of-type {\n",
              "        vertical-align: middle;\n",
              "    }\n",
              "\n",
              "    .dataframe tbody tr th {\n",
              "        vertical-align: top;\n",
              "    }\n",
              "\n",
              "    .dataframe thead th {\n",
              "        text-align: right;\n",
              "    }\n",
              "</style>\n",
              "<table border=\"1\" class=\"dataframe\">\n",
              "  <thead>\n",
              "    <tr style=\"text-align: right;\">\n",
              "      <th></th>\n",
              "      <th>Close-Stock-4</th>\n",
              "    </tr>\n",
              "    <tr>\n",
              "      <th>Date</th>\n",
              "      <th></th>\n",
              "    </tr>\n",
              "  </thead>\n",
              "  <tbody>\n",
              "    <tr>\n",
              "      <th>2010-06-01</th>\n",
              "      <td>837.95</td>\n",
              "    </tr>\n",
              "    <tr>\n",
              "      <th>2010-06-02</th>\n",
              "      <td>842.30</td>\n",
              "    </tr>\n",
              "    <tr>\n",
              "      <th>2010-06-03</th>\n",
              "      <td>854.10</td>\n",
              "    </tr>\n",
              "    <tr>\n",
              "      <th>2010-06-04</th>\n",
              "      <td>865.85</td>\n",
              "    </tr>\n",
              "    <tr>\n",
              "      <th>2010-06-05</th>\n",
              "      <td>869.97</td>\n",
              "    </tr>\n",
              "    <tr>\n",
              "      <th>...</th>\n",
              "      <td>...</td>\n",
              "    </tr>\n",
              "    <tr>\n",
              "      <th>2011-07-30</th>\n",
              "      <td>1053.39</td>\n",
              "    </tr>\n",
              "    <tr>\n",
              "      <th>2011-07-31</th>\n",
              "      <td>1056.67</td>\n",
              "    </tr>\n",
              "    <tr>\n",
              "      <th>2011-08-01</th>\n",
              "      <td>1045.35</td>\n",
              "    </tr>\n",
              "    <tr>\n",
              "      <th>2011-08-02</th>\n",
              "      <td>1021.70</td>\n",
              "    </tr>\n",
              "    <tr>\n",
              "      <th>2011-08-03</th>\n",
              "      <td>1001.95</td>\n",
              "    </tr>\n",
              "  </tbody>\n",
              "</table>\n",
              "<p>429 rows × 1 columns</p>\n",
              "</div>"
            ],
            "text/plain": [
              "            Close-Stock-4\n",
              "Date                     \n",
              "2010-06-01         837.95\n",
              "2010-06-02         842.30\n",
              "2010-06-03         854.10\n",
              "2010-06-04         865.85\n",
              "2010-06-05         869.97\n",
              "...                   ...\n",
              "2011-07-30        1053.39\n",
              "2011-07-31        1056.67\n",
              "2011-08-01        1045.35\n",
              "2011-08-02        1021.70\n",
              "2011-08-03        1001.95\n",
              "\n",
              "[429 rows x 1 columns]"
            ]
          },
          "metadata": {
            "tags": []
          },
          "execution_count": 69
        }
      ]
    },
    {
      "cell_type": "code",
      "metadata": {
        "colab": {
          "base_uri": "https://localhost:8080/"
        },
        "id": "037S6Jm4UOdo",
        "outputId": "0c96610a-70e5-4170-c192-da9ff65b6fe3"
      },
      "source": [
        "array = df4.to_numpy().reshape(-1,1)\r\n",
        "array.shape"
      ],
      "execution_count": null,
      "outputs": [
        {
          "output_type": "execute_result",
          "data": {
            "text/plain": [
              "(429, 1)"
            ]
          },
          "metadata": {
            "tags": []
          },
          "execution_count": 70
        }
      ]
    },
    {
      "cell_type": "code",
      "metadata": {
        "id": "I6VjXnrGUOdq"
      },
      "source": [
        "#taking mean and standered deviation\r\n",
        "array_mean = array.mean()\r\n",
        "array_std = array.std()\r\n",
        "#normalizing the data\r\n",
        "array = (array-array_mean)/array_std"
      ],
      "execution_count": null,
      "outputs": []
    },
    {
      "cell_type": "code",
      "metadata": {
        "id": "U87FNXhiUOdr"
      },
      "source": [
        "def univariate_data(dataset, start_index, end_index, history_size, target_size):\r\n",
        "  data = []\r\n",
        "  labels = []\r\n",
        "\r\n",
        "  start_index = start_index + history_size\r\n",
        "  if end_index is None:\r\n",
        "    end_index = len(dataset) - target_size\r\n",
        "\r\n",
        "  for i in range(start_index, end_index):\r\n",
        "    indices = range(i-history_size, i)\r\n",
        "    # Reshape data from (history_size,) to (history_size, 1)\r\n",
        "    data.append(np.reshape(dataset[indices], (history_size, 1)))\r\n",
        "    labels.append(dataset[i+target_size])\r\n",
        "  return np.array(data), np.array(labels)"
      ],
      "execution_count": null,
      "outputs": []
    },
    {
      "cell_type": "code",
      "metadata": {
        "id": "sLGwIi-cUOdt"
      },
      "source": [
        "univariate_past_history = 12\r\n",
        "univariate_future_target = 0\r\n",
        "\r\n",
        "x, y = univariate_data(array, 0, None, univariate_past_history, univariate_future_target)"
      ],
      "execution_count": null,
      "outputs": []
    },
    {
      "cell_type": "code",
      "metadata": {
        "colab": {
          "base_uri": "https://localhost:8080/"
        },
        "id": "GNvlJPh-UOdu",
        "outputId": "837d7f97-5a3b-4103-9b0f-f650f59e8949"
      },
      "source": [
        "print('X Shape:',x.shape)\r\n",
        "print('Y Shape:',y.shape)"
      ],
      "execution_count": null,
      "outputs": [
        {
          "output_type": "stream",
          "text": [
            "X Shape: (417, 12, 1)\n",
            "Y Shape: (417, 1)\n"
          ],
          "name": "stdout"
        }
      ]
    },
    {
      "cell_type": "markdown",
      "metadata": {
        "id": "odtUxaM9UOdw"
      },
      "source": [
        "**Learning Rate Scheduling**"
      ]
    },
    {
      "cell_type": "code",
      "metadata": {
        "colab": {
          "base_uri": "https://localhost:8080/"
        },
        "id": "l8obBskMUOdx",
        "outputId": "bc98c2b5-22e0-4e79-c243-27dca051f048"
      },
      "source": [
        "tf.keras.backend.clear_session()\n",
        "\n",
        "#creating model\n",
        "model= tf.keras.models.Sequential([\n",
        "                                   tf.keras.layers.Lambda(lambda x: tf.expand_dims(x,axis=-1), input_shape=[None]),                                    tf.keras.layers.Bidirectional(tf.keras.layers.LSTM(24, activation='relu', dropout=0.25, recurrent_dropout=0.2, return_sequences=True)),                                    tf.keras.layers.Bidirectional(tf.keras.layers.LSTM(12, activation='relu', dropout=0.25, recurrent_dropout=0.3, return_sequences=True)),                                    tf.keras.layers.LSTM(12, activation='relu', dropout=0.25, recurrent_dropout=0.1),                                    tf.keras.layers.Dropout(0.15),                                    tf.keras.layers.Dense(1)\n",
        "                                   ])\n",
        "lr_schedular= tf.keras.callbacks.LearningRateScheduler(lambda x: 1e-6*10**(x/20))\n",
        "\n",
        "adam= tf.keras.optimizers.Adam(lr=1e-6)\n",
        "model.compile(optimizer= adam, loss= 'mse')\n",
        "#Smodel.build(input_shape)\n",
        "model.summary()"
      ],
      "execution_count": null,
      "outputs": [
        {
          "output_type": "stream",
          "text": [
            "Model: \"sequential\"\n",
            "_________________________________________________________________\n",
            "Layer (type)                 Output Shape              Param #   \n",
            "=================================================================\n",
            "lambda (Lambda)              (None, None, 1)           0         \n",
            "_________________________________________________________________\n",
            "bidirectional (Bidirectional (None, None, 48)          4992      \n",
            "_________________________________________________________________\n",
            "bidirectional_1 (Bidirection (None, None, 24)          5856      \n",
            "_________________________________________________________________\n",
            "lstm_2 (LSTM)                (None, 12)                1776      \n",
            "_________________________________________________________________\n",
            "dropout (Dropout)            (None, 12)                0         \n",
            "_________________________________________________________________\n",
            "dense (Dense)                (None, 1)                 13        \n",
            "=================================================================\n",
            "Total params: 12,637\n",
            "Trainable params: 12,637\n",
            "Non-trainable params: 0\n",
            "_________________________________________________________________\n"
          ],
          "name": "stdout"
        }
      ]
    },
    {
      "cell_type": "code",
      "metadata": {
        "id": "uw77wg8AUOd0"
      },
      "source": [
        "history= model.fit(x, y, epochs= 125, callbacks= [lr_schedular], verbose=0)"
      ],
      "execution_count": null,
      "outputs": []
    },
    {
      "cell_type": "code",
      "metadata": {
        "colab": {
          "base_uri": "https://localhost:8080/"
        },
        "id": "IxVTVQalUOd1",
        "outputId": "7fe8fd4b-b07b-4581-dc20-ad7b0e33a84a"
      },
      "source": [
        "loss= min(history.history['loss'])\n",
        "losses= history.history['loss']\n",
        "index=losses.index(loss)\n",
        "lrs= history.history['lr']\n",
        "count=0\n",
        "for i in lrs:\n",
        "  if count==index:\n",
        "    lr=i\n",
        "    break\n",
        "  count+=1\n",
        "print(lr)\n",
        "print(loss)"
      ],
      "execution_count": null,
      "outputs": [
        {
          "output_type": "stream",
          "text": [
            "0.019952623\n",
            "0.11803315579891205\n"
          ],
          "name": "stdout"
        }
      ]
    },
    {
      "cell_type": "code",
      "metadata": {
        "colab": {
          "base_uri": "https://localhost:8080/",
          "height": 487
        },
        "id": "cQcZki_pUOd3",
        "outputId": "1a4b5a5e-4450-46fa-e21d-2fe96274115e"
      },
      "source": [
        "lrs= 1e-8*(10**(np.arange(125)/20))\n",
        "plt.semilogx(lrs, history.history[\"loss\"], label='Loss')\n",
        "plt.legend(loc='best')\n",
        "plt.grid(True)"
      ],
      "execution_count": null,
      "outputs": [
        {
          "output_type": "display_data",
          "data": {
            "image/png": "[encoded data removed]",
            "text/plain": [
              "<Figure size 720x576 with 1 Axes>"
            ]
          },
          "metadata": {
            "tags": [],
            "needs_background": "light"
          }
        }
      ]
    },
    {
      "cell_type": "markdown",
      "metadata": {
        "id": "OLl2nKKZUOd4"
      },
      "source": [
        "**Model Training**"
      ]
    },
    {
      "cell_type": "code",
      "metadata": {
        "colab": {
          "base_uri": "https://localhost:8080/"
        },
        "id": "6r0q4EPNUOd6",
        "outputId": "e1acc51f-cde2-420c-ada2-d86d8a193ed0"
      },
      "source": [
        "tf.keras.backend.clear_session()\n",
        "\n",
        "#creating model\n",
        "model= tf.keras.models.Sequential([\n",
        "                                   tf.keras.layers.Lambda(lambda x: tf.expand_dims(x,axis=-1), input_shape=[None]),\n",
        "                                   tf.keras.layers.Bidirectional(tf.keras.layers.LSTM(24, activation='relu', dropout=0.25, recurrent_dropout=0.2, return_sequences=True)),\n",
        "                                   tf.keras.layers.Bidirectional(tf.keras.layers.LSTM(12, activation='relu', dropout=0.25, recurrent_dropout=0.3, return_sequences=True)), \n",
        "                                   tf.keras.layers.LSTM(12, activation='relu', dropout=0.25, recurrent_dropout=0.1), \n",
        "                                   tf.keras.layers.Dropout(0.15),  \n",
        "                                   tf.keras.layers.Dense(1)\n",
        "                                   ])\n",
        "\n",
        "adam= tf.keras.optimizers.Adam(lr=lr)\n",
        "model.compile(optimizer= adam, loss= 'mse')\n",
        "#Smodel.build(input_shape)\n",
        "model.summary()"
      ],
      "execution_count": null,
      "outputs": [
        {
          "output_type": "stream",
          "text": [
            "Model: \"sequential\"\n",
            "_________________________________________________________________\n",
            "Layer (type)                 Output Shape              Param #   \n",
            "=================================================================\n",
            "lambda (Lambda)              (None, None, 1)           0         \n",
            "_________________________________________________________________\n",
            "bidirectional (Bidirectional (None, None, 48)          4992      \n",
            "_________________________________________________________________\n",
            "bidirectional_1 (Bidirection (None, None, 24)          5856      \n",
            "_________________________________________________________________\n",
            "lstm_2 (LSTM)                (None, 12)                1776      \n",
            "_________________________________________________________________\n",
            "dropout (Dropout)            (None, 12)                0         \n",
            "_________________________________________________________________\n",
            "dense (Dense)                (None, 1)                 13        \n",
            "=================================================================\n",
            "Total params: 12,637\n",
            "Trainable params: 12,637\n",
            "Non-trainable params: 0\n",
            "_________________________________________________________________\n"
          ],
          "name": "stdout"
        }
      ]
    },
    {
      "cell_type": "code",
      "metadata": {
        "id": "rfKhOFUPUOd8"
      },
      "source": [
        "history= model.fit(x,y, epochs= 300, verbose=0)"
      ],
      "execution_count": null,
      "outputs": []
    },
    {
      "cell_type": "code",
      "metadata": {
        "colab": {
          "base_uri": "https://localhost:8080/",
          "height": 487
        },
        "id": "sbm7yd65UOd9",
        "outputId": "925de095-1991-40f4-e456-7233d58d94fb"
      },
      "source": [
        "epochs= range(1,301)\n",
        "plt.semilogx(epochs, history.history[\"loss\"], label='Loss')\n",
        "plt.legend(loc='best')\n",
        "plt.grid(True)"
      ],
      "execution_count": null,
      "outputs": [
        {
          "output_type": "display_data",
          "data": {
            "image/png": "[encoded data removed]",
            "text/plain": [
              "<Figure size 720x576 with 1 Axes>"
            ]
          },
          "metadata": {
            "tags": [],
            "needs_background": "light"
          }
        }
      ]
    },
    {
      "cell_type": "code",
      "metadata": {
        "colab": {
          "base_uri": "https://localhost:8080/",
          "height": 534
        },
        "id": "JCV_eqoYUOd_",
        "outputId": "8d5b491a-c52a-4b4a-94d5-27eac6b0fc6a"
      },
      "source": [
        "numbers=range(1, 430)\n",
        "num= range(13,430)\n",
        "plt.figure()\n",
        "print(x.shape)\n",
        "y_pred= model.predict(x)\n",
        "print(y_pred.shape)\n",
        "plt.plot(numbers,array)\n",
        "plt.plot(num,y_pred,'r')\n",
        "plt.plot()"
      ],
      "execution_count": null,
      "outputs": [
        {
          "output_type": "stream",
          "text": [
            "(417, 12, 1)\n",
            "(417, 1)\n"
          ],
          "name": "stdout"
        },
        {
          "output_type": "execute_result",
          "data": {
            "text/plain": [
              "[]"
            ]
          },
          "metadata": {
            "tags": []
          },
          "execution_count": 82
        },
        {
          "output_type": "display_data",
          "data": {
            "image/png": "[encoded data removed]",
            "text/plain": [
              "<Figure size 720x576 with 1 Axes>"
            ]
          },
          "metadata": {
            "tags": [],
            "needs_background": "light"
          }
        }
      ]
    },
    {
      "cell_type": "markdown",
      "metadata": {
        "id": "VyMSjG-EUOeB"
      },
      "source": [
        "**Test Phase**"
      ]
    },
    {
      "cell_type": "code",
      "metadata": {
        "colab": {
          "base_uri": "https://localhost:8080/",
          "height": 500
        },
        "id": "jNvbPOMDUOeG",
        "outputId": "b9b8742b-a11a-42e3-a2ff-b778d719af93"
      },
      "source": [
        "numbers=range(1, 430)\r\n",
        "num= range(13,430)\r\n",
        "pred= range(430,577)\r\n",
        "plot_pred=[]\r\n",
        "real_val=[]\r\n",
        "plt.figure()\r\n",
        "y_pred= model.predict(x)\r\n",
        "plt.plot(numbers,array)\r\n",
        "plt.plot(num,y_pred,'r')\r\n",
        "x_new= array[416: len(array)-1]\r\n",
        "for i in range(147):\r\n",
        "  x_new= x_new.reshape(1,12,1)\r\n",
        "  y_new= model.predict(x_new)\r\n",
        "  x_new= x_new[0][1:]\r\n",
        "  x_new= np.append(x_new, y_new)\r\n",
        "  y_new= y_new.reshape(1,)\r\n",
        "  real= y_new*array_std+array_mean\r\n",
        "  plot_pred.append(y_new)\r\n",
        "  real_val.append(real)\r\n",
        "\r\n",
        "plt.plot(pred, plot_pred, color='#00ff00')\r\n",
        "plt.plot()"
      ],
      "execution_count": null,
      "outputs": [
        {
          "output_type": "execute_result",
          "data": {
            "text/plain": [
              "[]"
            ]
          },
          "metadata": {
            "tags": []
          },
          "execution_count": 83
        },
        {
          "output_type": "display_data",
          "data": {
            "image/png": "[encoded data removed]",
            "text/plain": [
              "<Figure size 720x576 with 1 Axes>"
            ]
          },
          "metadata": {
            "tags": [],
            "needs_background": "light"
          }
        }
      ]
    },
    {
      "cell_type": "code",
      "metadata": {
        "colab": {
          "base_uri": "https://localhost:8080/"
        },
        "id": "bJCYeDGyUOeJ",
        "outputId": "e77e8d57-cbf9-47d8-d77b-be17bbf7a0de"
      },
      "source": [
        "pred_array = np.array(real_val)\r\n",
        "pred_array.shape"
      ],
      "execution_count": null,
      "outputs": [
        {
          "output_type": "execute_result",
          "data": {
            "text/plain": [
              "(147, 1)"
            ]
          },
          "metadata": {
            "tags": []
          },
          "execution_count": 84
        }
      ]
    },
    {
      "cell_type": "code",
      "metadata": {
        "colab": {
          "base_uri": "https://localhost:8080/",
          "height": 419
        },
        "id": "iA1aoSNUUOeM",
        "outputId": "ce583499-f665-48aa-f639-de0309076acd"
      },
      "source": [
        "answer['Close-Stock-4'] = pred_array.flatten()\r\n",
        "answer"
      ],
      "execution_count": null,
      "outputs": [
        {
          "output_type": "execute_result",
          "data": {
            "text/html": [
              "<div>\n",
              "<style scoped>\n",
              "    .dataframe tbody tr th:only-of-type {\n",
              "        vertical-align: middle;\n",
              "    }\n",
              "\n",
              "    .dataframe tbody tr th {\n",
              "        vertical-align: top;\n",
              "    }\n",
              "\n",
              "    .dataframe thead th {\n",
              "        text-align: right;\n",
              "    }\n",
              "</style>\n",
              "<table border=\"1\" class=\"dataframe\">\n",
              "  <thead>\n",
              "    <tr style=\"text-align: right;\">\n",
              "      <th></th>\n",
              "      <th>Date</th>\n",
              "      <th>Close-Stock-1</th>\n",
              "      <th>Close-Stock-2</th>\n",
              "      <th>Close-Stock-3</th>\n",
              "      <th>Close-Stock-4</th>\n",
              "    </tr>\n",
              "  </thead>\n",
              "  <tbody>\n",
              "    <tr>\n",
              "      <th>0</th>\n",
              "      <td>2011-08-04</td>\n",
              "      <td>574.658691</td>\n",
              "      <td>211.067871</td>\n",
              "      <td>2977.268799</td>\n",
              "      <td>1031.367065</td>\n",
              "    </tr>\n",
              "    <tr>\n",
              "      <th>1</th>\n",
              "      <td>2011-08-05</td>\n",
              "      <td>574.593018</td>\n",
              "      <td>213.217712</td>\n",
              "      <td>2910.111572</td>\n",
              "      <td>1034.629761</td>\n",
              "    </tr>\n",
              "    <tr>\n",
              "      <th>2</th>\n",
              "      <td>2011-08-06</td>\n",
              "      <td>574.630981</td>\n",
              "      <td>216.291580</td>\n",
              "      <td>2871.305176</td>\n",
              "      <td>1036.482056</td>\n",
              "    </tr>\n",
              "    <tr>\n",
              "      <th>3</th>\n",
              "      <td>2011-08-07</td>\n",
              "      <td>574.512451</td>\n",
              "      <td>220.956924</td>\n",
              "      <td>2855.853760</td>\n",
              "      <td>1037.780151</td>\n",
              "    </tr>\n",
              "    <tr>\n",
              "      <th>4</th>\n",
              "      <td>2011-08-08</td>\n",
              "      <td>574.598389</td>\n",
              "      <td>227.928192</td>\n",
              "      <td>2844.355469</td>\n",
              "      <td>1038.914062</td>\n",
              "    </tr>\n",
              "    <tr>\n",
              "      <th>...</th>\n",
              "      <td>...</td>\n",
              "      <td>...</td>\n",
              "      <td>...</td>\n",
              "      <td>...</td>\n",
              "      <td>...</td>\n",
              "    </tr>\n",
              "    <tr>\n",
              "      <th>142</th>\n",
              "      <td>2011-12-24</td>\n",
              "      <td>574.191040</td>\n",
              "      <td>301.884796</td>\n",
              "      <td>2788.281006</td>\n",
              "      <td>1045.620361</td>\n",
              "    </tr>\n",
              "    <tr>\n",
              "      <th>143</th>\n",
              "      <td>2011-12-25</td>\n",
              "      <td>574.190918</td>\n",
              "      <td>301.884796</td>\n",
              "      <td>2788.281006</td>\n",
              "      <td>1045.620361</td>\n",
              "    </tr>\n",
              "    <tr>\n",
              "      <th>144</th>\n",
              "      <td>2011-12-26</td>\n",
              "      <td>574.191040</td>\n",
              "      <td>301.884796</td>\n",
              "      <td>2788.281006</td>\n",
              "      <td>1045.620361</td>\n",
              "    </tr>\n",
              "    <tr>\n",
              "      <th>145</th>\n",
              "      <td>2011-12-27</td>\n",
              "      <td>574.190918</td>\n",
              "      <td>301.884796</td>\n",
              "      <td>2788.281006</td>\n",
              "      <td>1045.620361</td>\n",
              "    </tr>\n",
              "    <tr>\n",
              "      <th>146</th>\n",
              "      <td>2011-12-28</td>\n",
              "      <td>574.191040</td>\n",
              "      <td>301.884796</td>\n",
              "      <td>2788.281006</td>\n",
              "      <td>1045.620361</td>\n",
              "    </tr>\n",
              "  </tbody>\n",
              "</table>\n",
              "<p>147 rows × 5 columns</p>\n",
              "</div>"
            ],
            "text/plain": [
              "          Date  Close-Stock-1  Close-Stock-2  Close-Stock-3  Close-Stock-4\n",
              "0   2011-08-04     574.658691     211.067871    2977.268799    1031.367065\n",
              "1   2011-08-05     574.593018     213.217712    2910.111572    1034.629761\n",
              "2   2011-08-06     574.630981     216.291580    2871.305176    1036.482056\n",
              "3   2011-08-07     574.512451     220.956924    2855.853760    1037.780151\n",
              "4   2011-08-08     574.598389     227.928192    2844.355469    1038.914062\n",
              "..         ...            ...            ...            ...            ...\n",
              "142 2011-12-24     574.191040     301.884796    2788.281006    1045.620361\n",
              "143 2011-12-25     574.190918     301.884796    2788.281006    1045.620361\n",
              "144 2011-12-26     574.191040     301.884796    2788.281006    1045.620361\n",
              "145 2011-12-27     574.190918     301.884796    2788.281006    1045.620361\n",
              "146 2011-12-28     574.191040     301.884796    2788.281006    1045.620361\n",
              "\n",
              "[147 rows x 5 columns]"
            ]
          },
          "metadata": {
            "tags": []
          },
          "execution_count": 85
        }
      ]
    },
    {
      "cell_type": "markdown",
      "metadata": {
        "id": "qT5w12iyURnk"
      },
      "source": [
        "# Stock 5"
      ]
    },
    {
      "cell_type": "code",
      "metadata": {
        "colab": {
          "base_uri": "https://localhost:8080/",
          "height": 204
        },
        "id": "WgBPZENoURnm",
        "outputId": "b1cde259-fc9c-4456-e724-651ffdbd4227"
      },
      "source": [
        "df5= result.loc[:,['Date','Close-Stock-5']]\r\n",
        "df5.head()"
      ],
      "execution_count": null,
      "outputs": [
        {
          "output_type": "execute_result",
          "data": {
            "text/html": [
              "<div>\n",
              "<style scoped>\n",
              "    .dataframe tbody tr th:only-of-type {\n",
              "        vertical-align: middle;\n",
              "    }\n",
              "\n",
              "    .dataframe tbody tr th {\n",
              "        vertical-align: top;\n",
              "    }\n",
              "\n",
              "    .dataframe thead th {\n",
              "        text-align: right;\n",
              "    }\n",
              "</style>\n",
              "<table border=\"1\" class=\"dataframe\">\n",
              "  <thead>\n",
              "    <tr style=\"text-align: right;\">\n",
              "      <th></th>\n",
              "      <th>Date</th>\n",
              "      <th>Close-Stock-5</th>\n",
              "    </tr>\n",
              "  </thead>\n",
              "  <tbody>\n",
              "    <tr>\n",
              "      <th>0</th>\n",
              "      <td>2010-06-01</td>\n",
              "      <td>1181.70</td>\n",
              "    </tr>\n",
              "    <tr>\n",
              "      <th>1</th>\n",
              "      <td>2010-06-02</td>\n",
              "      <td>1201.15</td>\n",
              "    </tr>\n",
              "    <tr>\n",
              "      <th>2</th>\n",
              "      <td>2010-06-03</td>\n",
              "      <td>1242.30</td>\n",
              "    </tr>\n",
              "    <tr>\n",
              "      <th>3</th>\n",
              "      <td>2010-06-04</td>\n",
              "      <td>1245.45</td>\n",
              "    </tr>\n",
              "    <tr>\n",
              "      <th>4</th>\n",
              "      <td>2010-06-07</td>\n",
              "      <td>1214.80</td>\n",
              "    </tr>\n",
              "  </tbody>\n",
              "</table>\n",
              "</div>"
            ],
            "text/plain": [
              "        Date  Close-Stock-5\n",
              "0 2010-06-01        1181.70\n",
              "1 2010-06-02        1201.15\n",
              "2 2010-06-03        1242.30\n",
              "3 2010-06-04        1245.45\n",
              "4 2010-06-07        1214.80"
            ]
          },
          "metadata": {
            "tags": []
          },
          "execution_count": 86
        }
      ]
    },
    {
      "cell_type": "code",
      "metadata": {
        "id": "kmxld2b3URnp"
      },
      "source": [
        "idx = pd.date_range(df5.Date.min(), df5.Date.max())\r\n",
        "df5.set_index('Date', inplace=True)"
      ],
      "execution_count": null,
      "outputs": []
    },
    {
      "cell_type": "markdown",
      "metadata": {
        "id": "nPI2jO5sURnq"
      },
      "source": [
        "**Cubic Spline interpolation**"
      ]
    },
    {
      "cell_type": "code",
      "metadata": {
        "colab": {
          "base_uri": "https://localhost:8080/",
          "height": 450
        },
        "id": "ONfme10sURnr",
        "outputId": "8d0ff491-e0af-4047-edc4-a04c422d7d12"
      },
      "source": [
        "df5 = df5.reindex(idx)\r\n",
        "df5.index.name = 'Date'\r\n",
        "# df1= df1.replace({0:np.NaN})\r\n",
        "df5= df5.interpolate(method='spline', order=3, s=0.)\r\n",
        "df5 = df5.round(2)\r\n",
        "df5"
      ],
      "execution_count": null,
      "outputs": [
        {
          "output_type": "execute_result",
          "data": {
            "text/html": [
              "<div>\n",
              "<style scoped>\n",
              "    .dataframe tbody tr th:only-of-type {\n",
              "        vertical-align: middle;\n",
              "    }\n",
              "\n",
              "    .dataframe tbody tr th {\n",
              "        vertical-align: top;\n",
              "    }\n",
              "\n",
              "    .dataframe thead th {\n",
              "        text-align: right;\n",
              "    }\n",
              "</style>\n",
              "<table border=\"1\" class=\"dataframe\">\n",
              "  <thead>\n",
              "    <tr style=\"text-align: right;\">\n",
              "      <th></th>\n",
              "      <th>Close-Stock-5</th>\n",
              "    </tr>\n",
              "    <tr>\n",
              "      <th>Date</th>\n",
              "      <th></th>\n",
              "    </tr>\n",
              "  </thead>\n",
              "  <tbody>\n",
              "    <tr>\n",
              "      <th>2010-06-01</th>\n",
              "      <td>1181.70</td>\n",
              "    </tr>\n",
              "    <tr>\n",
              "      <th>2010-06-02</th>\n",
              "      <td>1201.15</td>\n",
              "    </tr>\n",
              "    <tr>\n",
              "      <th>2010-06-03</th>\n",
              "      <td>1242.30</td>\n",
              "    </tr>\n",
              "    <tr>\n",
              "      <th>2010-06-04</th>\n",
              "      <td>1245.45</td>\n",
              "    </tr>\n",
              "    <tr>\n",
              "      <th>2010-06-05</th>\n",
              "      <td>1231.88</td>\n",
              "    </tr>\n",
              "    <tr>\n",
              "      <th>...</th>\n",
              "      <td>...</td>\n",
              "    </tr>\n",
              "    <tr>\n",
              "      <th>2011-07-30</th>\n",
              "      <td>1358.39</td>\n",
              "    </tr>\n",
              "    <tr>\n",
              "      <th>2011-07-31</th>\n",
              "      <td>1359.55</td>\n",
              "    </tr>\n",
              "    <tr>\n",
              "      <th>2011-08-01</th>\n",
              "      <td>1353.00</td>\n",
              "    </tr>\n",
              "    <tr>\n",
              "      <th>2011-08-02</th>\n",
              "      <td>1342.80</td>\n",
              "    </tr>\n",
              "    <tr>\n",
              "      <th>2011-08-03</th>\n",
              "      <td>1301.15</td>\n",
              "    </tr>\n",
              "  </tbody>\n",
              "</table>\n",
              "<p>429 rows × 1 columns</p>\n",
              "</div>"
            ],
            "text/plain": [
              "            Close-Stock-5\n",
              "Date                     \n",
              "2010-06-01        1181.70\n",
              "2010-06-02        1201.15\n",
              "2010-06-03        1242.30\n",
              "2010-06-04        1245.45\n",
              "2010-06-05        1231.88\n",
              "...                   ...\n",
              "2011-07-30        1358.39\n",
              "2011-07-31        1359.55\n",
              "2011-08-01        1353.00\n",
              "2011-08-02        1342.80\n",
              "2011-08-03        1301.15\n",
              "\n",
              "[429 rows x 1 columns]"
            ]
          },
          "metadata": {
            "tags": []
          },
          "execution_count": 88
        }
      ]
    },
    {
      "cell_type": "code",
      "metadata": {
        "colab": {
          "base_uri": "https://localhost:8080/"
        },
        "id": "A9eA_kTPURnt",
        "outputId": "7512aded-930d-4ffd-de33-f671e6e49dae"
      },
      "source": [
        "array = df5.to_numpy().reshape(-1,1)\r\n",
        "array.shape"
      ],
      "execution_count": null,
      "outputs": [
        {
          "output_type": "execute_result",
          "data": {
            "text/plain": [
              "(429, 1)"
            ]
          },
          "metadata": {
            "tags": []
          },
          "execution_count": 89
        }
      ]
    },
    {
      "cell_type": "code",
      "metadata": {
        "id": "K6EI5rrAURnv"
      },
      "source": [
        "#taking mean and standered deviation\r\n",
        "array_mean = array.mean()\r\n",
        "array_std = array.std()\r\n",
        "#normalizing the data\r\n",
        "array = (array-array_mean)/array_std"
      ],
      "execution_count": null,
      "outputs": []
    },
    {
      "cell_type": "code",
      "metadata": {
        "id": "dQoksYmjURnx"
      },
      "source": [
        "def univariate_data(dataset, start_index, end_index, history_size, target_size):\r\n",
        "  data = []\r\n",
        "  labels = []\r\n",
        "\r\n",
        "  start_index = start_index + history_size\r\n",
        "  if end_index is None:\r\n",
        "    end_index = len(dataset) - target_size\r\n",
        "\r\n",
        "  for i in range(start_index, end_index):\r\n",
        "    indices = range(i-history_size, i)\r\n",
        "    # Reshape data from (history_size,) to (history_size, 1)\r\n",
        "    data.append(np.reshape(dataset[indices], (history_size, 1)))\r\n",
        "    labels.append(dataset[i+target_size])\r\n",
        "  return np.array(data), np.array(labels)"
      ],
      "execution_count": null,
      "outputs": []
    },
    {
      "cell_type": "code",
      "metadata": {
        "id": "jaWnPqa5URny"
      },
      "source": [
        "univariate_past_history = 12\r\n",
        "univariate_future_target = 0\r\n",
        "\r\n",
        "x, y = univariate_data(array, 0, None, univariate_past_history, univariate_future_target)"
      ],
      "execution_count": null,
      "outputs": []
    },
    {
      "cell_type": "code",
      "metadata": {
        "colab": {
          "base_uri": "https://localhost:8080/"
        },
        "id": "BssXMtDJURnz",
        "outputId": "8e2f4834-e14c-4e16-f9a3-53afa57fe44f"
      },
      "source": [
        "print('X Shape:',x.shape)\r\n",
        "print('Y Shape:',y.shape)"
      ],
      "execution_count": null,
      "outputs": [
        {
          "output_type": "stream",
          "text": [
            "X Shape: (417, 12, 1)\n",
            "Y Shape: (417, 1)\n"
          ],
          "name": "stdout"
        }
      ]
    },
    {
      "cell_type": "markdown",
      "metadata": {
        "id": "oEkQVxw-URn1"
      },
      "source": [
        "**Learning Rate Scheduling**"
      ]
    },
    {
      "cell_type": "code",
      "metadata": {
        "colab": {
          "base_uri": "https://localhost:8080/"
        },
        "id": "MH-nlGUrURn2",
        "outputId": "8b6e86bf-05c4-490a-f3fd-502708162da6"
      },
      "source": [
        "tf.keras.backend.clear_session()\n",
        "\n",
        "#creating model\n",
        "model= tf.keras.models.Sequential([\n",
        "                                   tf.keras.layers.Lambda(lambda x: tf.expand_dims(x,axis=-1), input_shape=[None]),\n",
        "                                   tf.keras.layers.Bidirectional(tf.keras.layers.LSTM(24, activation='relu', dropout=0.25, recurrent_dropout=0.2, return_sequences=True)),\n",
        "                                   tf.keras.layers.Bidirectional(tf.keras.layers.LSTM(12, activation='relu', dropout=0.25, recurrent_dropout=0.3, return_sequences=True)), \n",
        "                                   tf.keras.layers.LSTM(12, activation='relu', dropout=0.25, recurrent_dropout=0.1), \n",
        "                                   tf.keras.layers.Dropout(0.15),  \n",
        "                                   tf.keras.layers.Dense(1)\n",
        "                                   ])\n",
        "lr_schedular= tf.keras.callbacks.LearningRateScheduler(lambda x: 1e-6*10**(x/20))\n",
        "\n",
        "adam= tf.keras.optimizers.Adam(lr=1e-6)\n",
        "model.compile(optimizer= adam, loss= 'mse')\n",
        "#Smodel.build(input_shape)\n",
        "model.summary()"
      ],
      "execution_count": null,
      "outputs": [
        {
          "output_type": "stream",
          "text": [
            "Model: \"sequential\"\n",
            "_________________________________________________________________\n",
            "Layer (type)                 Output Shape              Param #   \n",
            "=================================================================\n",
            "lambda (Lambda)              (None, None, 1)           0         \n",
            "_________________________________________________________________\n",
            "bidirectional (Bidirectional (None, None, 48)          4992      \n",
            "_________________________________________________________________\n",
            "bidirectional_1 (Bidirection (None, None, 24)          5856      \n",
            "_________________________________________________________________\n",
            "lstm_2 (LSTM)                (None, 12)                1776      \n",
            "_________________________________________________________________\n",
            "dropout (Dropout)            (None, 12)                0         \n",
            "_________________________________________________________________\n",
            "dense (Dense)                (None, 1)                 13        \n",
            "=================================================================\n",
            "Total params: 12,637\n",
            "Trainable params: 12,637\n",
            "Non-trainable params: 0\n",
            "_________________________________________________________________\n"
          ],
          "name": "stdout"
        }
      ]
    },
    {
      "cell_type": "code",
      "metadata": {
        "id": "21EzKg3sURn3"
      },
      "source": [
        "history= model.fit(x, y, epochs= 125, callbacks= [lr_schedular], verbose=0)"
      ],
      "execution_count": null,
      "outputs": []
    },
    {
      "cell_type": "code",
      "metadata": {
        "colab": {
          "base_uri": "https://localhost:8080/"
        },
        "id": "Btj0YP0aURn4",
        "outputId": "992b9f8a-9f7a-4908-89ee-7f0296d8e125"
      },
      "source": [
        "loss= min(history.history['loss'])\n",
        "losses= history.history['loss']\n",
        "index=losses.index(loss)\n",
        "lrs= history.history['lr']\n",
        "count=0\n",
        "for i in lrs:\n",
        "  if count==index:\n",
        "    lr=i\n",
        "    break\n",
        "  count+=1\n",
        "print(lr)\n",
        "print(loss)"
      ],
      "execution_count": null,
      "outputs": [
        {
          "output_type": "stream",
          "text": [
            "0.0891251\n",
            "0.1275883913040161\n"
          ],
          "name": "stdout"
        }
      ]
    },
    {
      "cell_type": "code",
      "metadata": {
        "colab": {
          "base_uri": "https://localhost:8080/",
          "height": 487
        },
        "id": "RebGxzd6URn6",
        "outputId": "bc5d8b4a-e004-42d8-a32e-854505bcbdba"
      },
      "source": [
        "lrs= 1e-8*(10**(np.arange(125)/20))\n",
        "plt.semilogx(lrs, history.history[\"loss\"], label='Loss')\n",
        "plt.legend(loc='best')\n",
        "plt.grid(True)"
      ],
      "execution_count": null,
      "outputs": [
        {
          "output_type": "display_data",
          "data": {
            "image/png": "[encoded data removed]",
            "text/plain": [
              "<Figure size 720x576 with 1 Axes>"
            ]
          },
          "metadata": {
            "tags": [],
            "needs_background": "light"
          }
        }
      ]
    },
    {
      "cell_type": "markdown",
      "metadata": {
        "id": "001aTOLgURn8"
      },
      "source": [
        "**Model Training**"
      ]
    },
    {
      "cell_type": "code",
      "metadata": {
        "colab": {
          "base_uri": "https://localhost:8080/"
        },
        "id": "yzfjw3y1Ca7Y",
        "outputId": "600451ae-1cd0-46c3-ee1d-a7b3a3f4529c"
      },
      "source": [
        "tf.keras.backend.clear_session()\r\n",
        "\r\n",
        "#creating model\r\n",
        "model= tf.keras.models.Sequential([\r\n",
        "                                   tf.keras.layers.Lambda(lambda x: tf.expand_dims(x,axis=-1), input_shape=[None]),\r\n",
        "                                   tf.keras.layers.Bidirectional(tf.keras.layers.LSTM(24, activation='relu', dropout=0.25, recurrent_dropout=0.2, return_sequences=True)),\r\n",
        "                                   tf.keras.layers.Bidirectional(tf.keras.layers.LSTM(12, activation='relu', dropout=0.25, recurrent_dropout=0.3, return_sequences=True)), \r\n",
        "                                   tf.keras.layers.LSTM(12, activation='relu', dropout=0.25, recurrent_dropout=0.1), \r\n",
        "                                   tf.keras.layers.Dropout(0.15),  \r\n",
        "                                   tf.keras.layers.Dense(1)\r\n",
        "                                   ])\r\n",
        "\r\n",
        "adam= tf.keras.optimizers.Adam(lr=lr)\r\n",
        "model.compile(optimizer= adam, loss= 'mse')\r\n",
        "#Smodel.build(input_shape)\r\n",
        "model.summary()"
      ],
      "execution_count": null,
      "outputs": [
        {
          "output_type": "stream",
          "text": [
            "Model: \"sequential\"\n",
            "_________________________________________________________________\n",
            "Layer (type)                 Output Shape              Param #   \n",
            "=================================================================\n",
            "lambda (Lambda)              (None, None, 1)           0         \n",
            "_________________________________________________________________\n",
            "bidirectional (Bidirectional (None, None, 48)          4992      \n",
            "_________________________________________________________________\n",
            "bidirectional_1 (Bidirection (None, None, 24)          5856      \n",
            "_________________________________________________________________\n",
            "lstm_2 (LSTM)                (None, 12)                1776      \n",
            "_________________________________________________________________\n",
            "dropout (Dropout)            (None, 12)                0         \n",
            "_________________________________________________________________\n",
            "dense (Dense)                (None, 1)                 13        \n",
            "=================================================================\n",
            "Total params: 12,637\n",
            "Trainable params: 12,637\n",
            "Non-trainable params: 0\n",
            "_________________________________________________________________\n"
          ],
          "name": "stdout"
        }
      ]
    },
    {
      "cell_type": "code",
      "metadata": {
        "id": "DMHZPTkAURn-"
      },
      "source": [
        "history= model.fit(x,y, epochs= 300, verbose=0)"
      ],
      "execution_count": null,
      "outputs": []
    },
    {
      "cell_type": "code",
      "metadata": {
        "colab": {
          "base_uri": "https://localhost:8080/",
          "height": 498
        },
        "id": "bNkV2Bd_URn_",
        "outputId": "5fdd14b7-1168-49b9-c2bc-d151a303985c"
      },
      "source": [
        "epochs= range(1,301)\n",
        "plt.semilogx(epochs, history.history[\"loss\"], label='Loss')\n",
        "plt.legend(loc='best')\n",
        "plt.grid(True)"
      ],
      "execution_count": null,
      "outputs": [
        {
          "output_type": "display_data",
          "data": {
            "image/png": "[encoded data removed]",
            "text/plain": [
              "<Figure size 720x576 with 1 Axes>"
            ]
          },
          "metadata": {
            "tags": [],
            "needs_background": "light"
          }
        }
      ]
    },
    {
      "cell_type": "code",
      "metadata": {
        "colab": {
          "base_uri": "https://localhost:8080/",
          "height": 534
        },
        "id": "jot0UXqdURoC",
        "outputId": "816cde55-e8c4-4546-d4c7-e438961dd2f5"
      },
      "source": [
        "numbers=range(1, 430)\n",
        "num= range(13,430)\n",
        "plt.figure()\n",
        "print(x.shape)\n",
        "y_pred= model.predict(x)\n",
        "print(y_pred.shape)\n",
        "plt.plot(numbers,array)\n",
        "plt.plot(num,y_pred,'r')\n",
        "plt.plot()"
      ],
      "execution_count": null,
      "outputs": [
        {
          "output_type": "stream",
          "text": [
            "(417, 12, 1)\n",
            "(417, 1)\n"
          ],
          "name": "stdout"
        },
        {
          "output_type": "execute_result",
          "data": {
            "text/plain": [
              "[]"
            ]
          },
          "metadata": {
            "tags": []
          },
          "execution_count": 110
        },
        {
          "output_type": "display_data",
          "data": {
            "image/png": "[encoded data removed]",
            "text/plain": [
              "<Figure size 720x576 with 1 Axes>"
            ]
          },
          "metadata": {
            "tags": [],
            "needs_background": "light"
          }
        }
      ]
    },
    {
      "cell_type": "markdown",
      "metadata": {
        "id": "KAZAs7CoURoE"
      },
      "source": [
        "**Test Phase**"
      ]
    },
    {
      "cell_type": "code",
      "metadata": {
        "colab": {
          "base_uri": "https://localhost:8080/",
          "height": 500
        },
        "id": "rYFE7zinURoF",
        "outputId": "5163ca98-1367-4676-ce57-e3707301a29e"
      },
      "source": [
        "numbers=range(1, 430)\r\n",
        "num= range(13,430)\r\n",
        "pred= range(430,577)\r\n",
        "plot_pred=[]\r\n",
        "real_val=[]\r\n",
        "plt.figure()\r\n",
        "y_pred= model.predict(x)\r\n",
        "plt.plot(numbers,array)\r\n",
        "plt.plot(num,y_pred,'r')\r\n",
        "x_new= array[416: len(array)-1]\r\n",
        "for i in range(147):\r\n",
        "  x_new= x_new.reshape(1,12,1)\r\n",
        "  y_new= model.predict(x_new)\r\n",
        "  x_new= x_new[0][1:]\r\n",
        "  x_new= np.append(x_new, y_new)\r\n",
        "  y_new= y_new.reshape(1,)\r\n",
        "  real= y_new*array_std+array_mean\r\n",
        "  plot_pred.append(y_new)\r\n",
        "  real_val.append(real)\r\n",
        "\r\n",
        "plt.plot(pred, plot_pred, color='#00ff00')\r\n",
        "plt.plot()"
      ],
      "execution_count": null,
      "outputs": [
        {
          "output_type": "execute_result",
          "data": {
            "text/plain": [
              "[]"
            ]
          },
          "metadata": {
            "tags": []
          },
          "execution_count": 111
        },
        {
          "output_type": "display_data",
          "data": {
            "image/png": "[encoded data removed]",
            "text/plain": [
              "<Figure size 720x576 with 1 Axes>"
            ]
          },
          "metadata": {
            "tags": [],
            "needs_background": "light"
          }
        }
      ]
    },
    {
      "cell_type": "code",
      "metadata": {
        "colab": {
          "base_uri": "https://localhost:8080/"
        },
        "id": "vD4sLbD8URoH",
        "outputId": "a135c556-4fbf-4484-e7a6-8e29fe51c7dc"
      },
      "source": [
        "pred_array = np.array(real_val)\r\n",
        "pred_array.shape"
      ],
      "execution_count": null,
      "outputs": [
        {
          "output_type": "execute_result",
          "data": {
            "text/plain": [
              "(147, 1)"
            ]
          },
          "metadata": {
            "tags": []
          },
          "execution_count": 112
        }
      ]
    },
    {
      "cell_type": "code",
      "metadata": {
        "colab": {
          "base_uri": "https://localhost:8080/",
          "height": 419
        },
        "id": "_sDa1pOfURoJ",
        "outputId": "2abaa7f3-1096-496b-dc28-7a6f7f039ccf"
      },
      "source": [
        "answer['Close-Stock-5'] = pred_array.flatten()\r\n",
        "answer"
      ],
      "execution_count": null,
      "outputs": [
        {
          "output_type": "execute_result",
          "data": {
            "text/html": [
              "<div>\n",
              "<style scoped>\n",
              "    .dataframe tbody tr th:only-of-type {\n",
              "        vertical-align: middle;\n",
              "    }\n",
              "\n",
              "    .dataframe tbody tr th {\n",
              "        vertical-align: top;\n",
              "    }\n",
              "\n",
              "    .dataframe thead th {\n",
              "        text-align: right;\n",
              "    }\n",
              "</style>\n",
              "<table border=\"1\" class=\"dataframe\">\n",
              "  <thead>\n",
              "    <tr style=\"text-align: right;\">\n",
              "      <th></th>\n",
              "      <th>Date</th>\n",
              "      <th>Close-Stock-1</th>\n",
              "      <th>Close-Stock-2</th>\n",
              "      <th>Close-Stock-3</th>\n",
              "      <th>Close-Stock-4</th>\n",
              "      <th>Close-Stock-5</th>\n",
              "    </tr>\n",
              "  </thead>\n",
              "  <tbody>\n",
              "    <tr>\n",
              "      <th>0</th>\n",
              "      <td>2011-08-04</td>\n",
              "      <td>574.658691</td>\n",
              "      <td>211.067871</td>\n",
              "      <td>2977.268799</td>\n",
              "      <td>1031.367065</td>\n",
              "      <td>1340.386963</td>\n",
              "    </tr>\n",
              "    <tr>\n",
              "      <th>1</th>\n",
              "      <td>2011-08-05</td>\n",
              "      <td>574.593018</td>\n",
              "      <td>213.217712</td>\n",
              "      <td>2910.111572</td>\n",
              "      <td>1034.629761</td>\n",
              "      <td>1338.660400</td>\n",
              "    </tr>\n",
              "    <tr>\n",
              "      <th>2</th>\n",
              "      <td>2011-08-06</td>\n",
              "      <td>574.630981</td>\n",
              "      <td>216.291580</td>\n",
              "      <td>2871.305176</td>\n",
              "      <td>1036.482056</td>\n",
              "      <td>1336.343994</td>\n",
              "    </tr>\n",
              "    <tr>\n",
              "      <th>3</th>\n",
              "      <td>2011-08-07</td>\n",
              "      <td>574.512451</td>\n",
              "      <td>220.956924</td>\n",
              "      <td>2855.853760</td>\n",
              "      <td>1037.780151</td>\n",
              "      <td>1336.308350</td>\n",
              "    </tr>\n",
              "    <tr>\n",
              "      <th>4</th>\n",
              "      <td>2011-08-08</td>\n",
              "      <td>574.598389</td>\n",
              "      <td>227.928192</td>\n",
              "      <td>2844.355469</td>\n",
              "      <td>1038.914062</td>\n",
              "      <td>1339.605347</td>\n",
              "    </tr>\n",
              "    <tr>\n",
              "      <th>...</th>\n",
              "      <td>...</td>\n",
              "      <td>...</td>\n",
              "      <td>...</td>\n",
              "      <td>...</td>\n",
              "      <td>...</td>\n",
              "      <td>...</td>\n",
              "    </tr>\n",
              "    <tr>\n",
              "      <th>142</th>\n",
              "      <td>2011-12-24</td>\n",
              "      <td>574.191040</td>\n",
              "      <td>301.884796</td>\n",
              "      <td>2788.281006</td>\n",
              "      <td>1045.620361</td>\n",
              "      <td>1336.331299</td>\n",
              "    </tr>\n",
              "    <tr>\n",
              "      <th>143</th>\n",
              "      <td>2011-12-25</td>\n",
              "      <td>574.190918</td>\n",
              "      <td>301.884796</td>\n",
              "      <td>2788.281006</td>\n",
              "      <td>1045.620361</td>\n",
              "      <td>1336.331299</td>\n",
              "    </tr>\n",
              "    <tr>\n",
              "      <th>144</th>\n",
              "      <td>2011-12-26</td>\n",
              "      <td>574.191040</td>\n",
              "      <td>301.884796</td>\n",
              "      <td>2788.281006</td>\n",
              "      <td>1045.620361</td>\n",
              "      <td>1336.331299</td>\n",
              "    </tr>\n",
              "    <tr>\n",
              "      <th>145</th>\n",
              "      <td>2011-12-27</td>\n",
              "      <td>574.190918</td>\n",
              "      <td>301.884796</td>\n",
              "      <td>2788.281006</td>\n",
              "      <td>1045.620361</td>\n",
              "      <td>1336.331299</td>\n",
              "    </tr>\n",
              "    <tr>\n",
              "      <th>146</th>\n",
              "      <td>2011-12-28</td>\n",
              "      <td>574.191040</td>\n",
              "      <td>301.884796</td>\n",
              "      <td>2788.281006</td>\n",
              "      <td>1045.620361</td>\n",
              "      <td>1336.331299</td>\n",
              "    </tr>\n",
              "  </tbody>\n",
              "</table>\n",
              "<p>147 rows × 6 columns</p>\n",
              "</div>"
            ],
            "text/plain": [
              "          Date  Close-Stock-1  ...  Close-Stock-4  Close-Stock-5\n",
              "0   2011-08-04     574.658691  ...    1031.367065    1340.386963\n",
              "1   2011-08-05     574.593018  ...    1034.629761    1338.660400\n",
              "2   2011-08-06     574.630981  ...    1036.482056    1336.343994\n",
              "3   2011-08-07     574.512451  ...    1037.780151    1336.308350\n",
              "4   2011-08-08     574.598389  ...    1038.914062    1339.605347\n",
              "..         ...            ...  ...            ...            ...\n",
              "142 2011-12-24     574.191040  ...    1045.620361    1336.331299\n",
              "143 2011-12-25     574.190918  ...    1045.620361    1336.331299\n",
              "144 2011-12-26     574.191040  ...    1045.620361    1336.331299\n",
              "145 2011-12-27     574.190918  ...    1045.620361    1336.331299\n",
              "146 2011-12-28     574.191040  ...    1045.620361    1336.331299\n",
              "\n",
              "[147 rows x 6 columns]"
            ]
          },
          "metadata": {
            "tags": []
          },
          "execution_count": 113
        }
      ]
    },
    {
      "cell_type": "markdown",
      "metadata": {
        "id": "mqJdpc-eWidO"
      },
      "source": [
        "# Data Cleaning"
      ]
    },
    {
      "cell_type": "code",
      "metadata": {
        "colab": {
          "base_uri": "https://localhost:8080/",
          "height": 419
        },
        "id": "zUseg19PL2Ay",
        "outputId": "0012429d-9a26-44db-b012-81200af15b8c"
      },
      "source": [
        "cond = ~answer['Date'].isin(test['Date'])\r\n",
        "final_answer = answer.drop(answer[cond].index)\r\n",
        "final_answer"
      ],
      "execution_count": null,
      "outputs": [
        {
          "output_type": "execute_result",
          "data": {
            "text/html": [
              "<div>\n",
              "<style scoped>\n",
              "    .dataframe tbody tr th:only-of-type {\n",
              "        vertical-align: middle;\n",
              "    }\n",
              "\n",
              "    .dataframe tbody tr th {\n",
              "        vertical-align: top;\n",
              "    }\n",
              "\n",
              "    .dataframe thead th {\n",
              "        text-align: right;\n",
              "    }\n",
              "</style>\n",
              "<table border=\"1\" class=\"dataframe\">\n",
              "  <thead>\n",
              "    <tr style=\"text-align: right;\">\n",
              "      <th></th>\n",
              "      <th>Date</th>\n",
              "      <th>Close-Stock-1</th>\n",
              "      <th>Close-Stock-2</th>\n",
              "      <th>Close-Stock-3</th>\n",
              "      <th>Close-Stock-4</th>\n",
              "      <th>Close-Stock-5</th>\n",
              "    </tr>\n",
              "  </thead>\n",
              "  <tbody>\n",
              "    <tr>\n",
              "      <th>0</th>\n",
              "      <td>2011-08-04</td>\n",
              "      <td>574.658691</td>\n",
              "      <td>211.067871</td>\n",
              "      <td>2977.268799</td>\n",
              "      <td>1031.367065</td>\n",
              "      <td>1340.386963</td>\n",
              "    </tr>\n",
              "    <tr>\n",
              "      <th>1</th>\n",
              "      <td>2011-08-05</td>\n",
              "      <td>574.593018</td>\n",
              "      <td>213.217712</td>\n",
              "      <td>2910.111572</td>\n",
              "      <td>1034.629761</td>\n",
              "      <td>1338.660400</td>\n",
              "    </tr>\n",
              "    <tr>\n",
              "      <th>4</th>\n",
              "      <td>2011-08-08</td>\n",
              "      <td>574.598389</td>\n",
              "      <td>227.928192</td>\n",
              "      <td>2844.355469</td>\n",
              "      <td>1038.914062</td>\n",
              "      <td>1339.605347</td>\n",
              "    </tr>\n",
              "    <tr>\n",
              "      <th>5</th>\n",
              "      <td>2011-08-09</td>\n",
              "      <td>574.439697</td>\n",
              "      <td>239.229218</td>\n",
              "      <td>2835.258545</td>\n",
              "      <td>1039.861084</td>\n",
              "      <td>1339.801636</td>\n",
              "    </tr>\n",
              "    <tr>\n",
              "      <th>6</th>\n",
              "      <td>2011-08-10</td>\n",
              "      <td>574.477173</td>\n",
              "      <td>254.946899</td>\n",
              "      <td>2824.857910</td>\n",
              "      <td>1040.657593</td>\n",
              "      <td>1340.474365</td>\n",
              "    </tr>\n",
              "    <tr>\n",
              "      <th>...</th>\n",
              "      <td>...</td>\n",
              "      <td>...</td>\n",
              "      <td>...</td>\n",
              "      <td>...</td>\n",
              "      <td>...</td>\n",
              "      <td>...</td>\n",
              "    </tr>\n",
              "    <tr>\n",
              "      <th>140</th>\n",
              "      <td>2011-12-22</td>\n",
              "      <td>574.190918</td>\n",
              "      <td>301.884796</td>\n",
              "      <td>2788.281006</td>\n",
              "      <td>1045.620361</td>\n",
              "      <td>1336.331299</td>\n",
              "    </tr>\n",
              "    <tr>\n",
              "      <th>141</th>\n",
              "      <td>2011-12-23</td>\n",
              "      <td>574.191040</td>\n",
              "      <td>301.884796</td>\n",
              "      <td>2788.281006</td>\n",
              "      <td>1045.620361</td>\n",
              "      <td>1336.331299</td>\n",
              "    </tr>\n",
              "    <tr>\n",
              "      <th>144</th>\n",
              "      <td>2011-12-26</td>\n",
              "      <td>574.191040</td>\n",
              "      <td>301.884796</td>\n",
              "      <td>2788.281006</td>\n",
              "      <td>1045.620361</td>\n",
              "      <td>1336.331299</td>\n",
              "    </tr>\n",
              "    <tr>\n",
              "      <th>145</th>\n",
              "      <td>2011-12-27</td>\n",
              "      <td>574.190918</td>\n",
              "      <td>301.884796</td>\n",
              "      <td>2788.281006</td>\n",
              "      <td>1045.620361</td>\n",
              "      <td>1336.331299</td>\n",
              "    </tr>\n",
              "    <tr>\n",
              "      <th>146</th>\n",
              "      <td>2011-12-28</td>\n",
              "      <td>574.191040</td>\n",
              "      <td>301.884796</td>\n",
              "      <td>2788.281006</td>\n",
              "      <td>1045.620361</td>\n",
              "      <td>1336.331299</td>\n",
              "    </tr>\n",
              "  </tbody>\n",
              "</table>\n",
              "<p>97 rows × 6 columns</p>\n",
              "</div>"
            ],
            "text/plain": [
              "          Date  Close-Stock-1  ...  Close-Stock-4  Close-Stock-5\n",
              "0   2011-08-04     574.658691  ...    1031.367065    1340.386963\n",
              "1   2011-08-05     574.593018  ...    1034.629761    1338.660400\n",
              "4   2011-08-08     574.598389  ...    1038.914062    1339.605347\n",
              "5   2011-08-09     574.439697  ...    1039.861084    1339.801636\n",
              "6   2011-08-10     574.477173  ...    1040.657593    1340.474365\n",
              "..         ...            ...  ...            ...            ...\n",
              "140 2011-12-22     574.190918  ...    1045.620361    1336.331299\n",
              "141 2011-12-23     574.191040  ...    1045.620361    1336.331299\n",
              "144 2011-12-26     574.191040  ...    1045.620361    1336.331299\n",
              "145 2011-12-27     574.190918  ...    1045.620361    1336.331299\n",
              "146 2011-12-28     574.191040  ...    1045.620361    1336.331299\n",
              "\n",
              "[97 rows x 6 columns]"
            ]
          },
          "metadata": {
            "tags": []
          },
          "execution_count": 114
        }
      ]
    },
    {
      "cell_type": "code",
      "metadata": {
        "colab": {
          "base_uri": "https://localhost:8080/",
          "height": 450
        },
        "id": "yvZRS2VKYCa7",
        "outputId": "1ce187a3-613a-4e6f-bc80-36f59e129d92"
      },
      "source": [
        "final_answer.set_index('Date', inplace=True)\r\n",
        "final_answer.to_csv('output.csv')\r\n",
        "final_answer"
      ],
      "execution_count": null,
      "outputs": [
        {
          "output_type": "execute_result",
          "data": {
            "text/html": [
              "<div>\n",
              "<style scoped>\n",
              "    .dataframe tbody tr th:only-of-type {\n",
              "        vertical-align: middle;\n",
              "    }\n",
              "\n",
              "    .dataframe tbody tr th {\n",
              "        vertical-align: top;\n",
              "    }\n",
              "\n",
              "    .dataframe thead th {\n",
              "        text-align: right;\n",
              "    }\n",
              "</style>\n",
              "<table border=\"1\" class=\"dataframe\">\n",
              "  <thead>\n",
              "    <tr style=\"text-align: right;\">\n",
              "      <th></th>\n",
              "      <th>Close-Stock-1</th>\n",
              "      <th>Close-Stock-2</th>\n",
              "      <th>Close-Stock-3</th>\n",
              "      <th>Close-Stock-4</th>\n",
              "      <th>Close-Stock-5</th>\n",
              "    </tr>\n",
              "    <tr>\n",
              "      <th>Date</th>\n",
              "      <th></th>\n",
              "      <th></th>\n",
              "      <th></th>\n",
              "      <th></th>\n",
              "      <th></th>\n",
              "    </tr>\n",
              "  </thead>\n",
              "  <tbody>\n",
              "    <tr>\n",
              "      <th>2011-08-04</th>\n",
              "      <td>574.658691</td>\n",
              "      <td>211.067871</td>\n",
              "      <td>2977.268799</td>\n",
              "      <td>1031.367065</td>\n",
              "      <td>1340.386963</td>\n",
              "    </tr>\n",
              "    <tr>\n",
              "      <th>2011-08-05</th>\n",
              "      <td>574.593018</td>\n",
              "      <td>213.217712</td>\n",
              "      <td>2910.111572</td>\n",
              "      <td>1034.629761</td>\n",
              "      <td>1338.660400</td>\n",
              "    </tr>\n",
              "    <tr>\n",
              "      <th>2011-08-08</th>\n",
              "      <td>574.598389</td>\n",
              "      <td>227.928192</td>\n",
              "      <td>2844.355469</td>\n",
              "      <td>1038.914062</td>\n",
              "      <td>1339.605347</td>\n",
              "    </tr>\n",
              "    <tr>\n",
              "      <th>2011-08-09</th>\n",
              "      <td>574.439697</td>\n",
              "      <td>239.229218</td>\n",
              "      <td>2835.258545</td>\n",
              "      <td>1039.861084</td>\n",
              "      <td>1339.801636</td>\n",
              "    </tr>\n",
              "    <tr>\n",
              "      <th>2011-08-10</th>\n",
              "      <td>574.477173</td>\n",
              "      <td>254.946899</td>\n",
              "      <td>2824.857910</td>\n",
              "      <td>1040.657593</td>\n",
              "      <td>1340.474365</td>\n",
              "    </tr>\n",
              "    <tr>\n",
              "      <th>...</th>\n",
              "      <td>...</td>\n",
              "      <td>...</td>\n",
              "      <td>...</td>\n",
              "      <td>...</td>\n",
              "      <td>...</td>\n",
              "    </tr>\n",
              "    <tr>\n",
              "      <th>2011-12-22</th>\n",
              "      <td>574.190918</td>\n",
              "      <td>301.884796</td>\n",
              "      <td>2788.281006</td>\n",
              "      <td>1045.620361</td>\n",
              "      <td>1336.331299</td>\n",
              "    </tr>\n",
              "    <tr>\n",
              "      <th>2011-12-23</th>\n",
              "      <td>574.191040</td>\n",
              "      <td>301.884796</td>\n",
              "      <td>2788.281006</td>\n",
              "      <td>1045.620361</td>\n",
              "      <td>1336.331299</td>\n",
              "    </tr>\n",
              "    <tr>\n",
              "      <th>2011-12-26</th>\n",
              "      <td>574.191040</td>\n",
              "      <td>301.884796</td>\n",
              "      <td>2788.281006</td>\n",
              "      <td>1045.620361</td>\n",
              "      <td>1336.331299</td>\n",
              "    </tr>\n",
              "    <tr>\n",
              "      <th>2011-12-27</th>\n",
              "      <td>574.190918</td>\n",
              "      <td>301.884796</td>\n",
              "      <td>2788.281006</td>\n",
              "      <td>1045.620361</td>\n",
              "      <td>1336.331299</td>\n",
              "    </tr>\n",
              "    <tr>\n",
              "      <th>2011-12-28</th>\n",
              "      <td>574.191040</td>\n",
              "      <td>301.884796</td>\n",
              "      <td>2788.281006</td>\n",
              "      <td>1045.620361</td>\n",
              "      <td>1336.331299</td>\n",
              "    </tr>\n",
              "  </tbody>\n",
              "</table>\n",
              "<p>97 rows × 5 columns</p>\n",
              "</div>"
            ],
            "text/plain": [
              "            Close-Stock-1  Close-Stock-2  ...  Close-Stock-4  Close-Stock-5\n",
              "Date                                      ...                              \n",
              "2011-08-04     574.658691     211.067871  ...    1031.367065    1340.386963\n",
              "2011-08-05     574.593018     213.217712  ...    1034.629761    1338.660400\n",
              "2011-08-08     574.598389     227.928192  ...    1038.914062    1339.605347\n",
              "2011-08-09     574.439697     239.229218  ...    1039.861084    1339.801636\n",
              "2011-08-10     574.477173     254.946899  ...    1040.657593    1340.474365\n",
              "...                   ...            ...  ...            ...            ...\n",
              "2011-12-22     574.190918     301.884796  ...    1045.620361    1336.331299\n",
              "2011-12-23     574.191040     301.884796  ...    1045.620361    1336.331299\n",
              "2011-12-26     574.191040     301.884796  ...    1045.620361    1336.331299\n",
              "2011-12-27     574.190918     301.884796  ...    1045.620361    1336.331299\n",
              "2011-12-28     574.191040     301.884796  ...    1045.620361    1336.331299\n",
              "\n",
              "[97 rows x 5 columns]"
            ]
          },
          "metadata": {
            "tags": []
          },
          "execution_count": 115
        }
      ]
    },
    {
      "cell_type": "code",
      "metadata": {
        "id": "GDShHUw0K59h"
      },
      "source": [
        ""
      ],
      "execution_count": null,
      "outputs": []
    }
  ]
}