{
  "nbformat": 4,
  "nbformat_minor": 0,
  "metadata": {
    "colab": {
      "name": "Missing Value Time Series.ipynb",
      "provenance": [],
      "collapsed_sections": [
        "kaGjxDHySOUw",
        "apw_64bsSnOy",
        "ckq25sOEUKo1",
        "OBOCLJo8UOdf",
        "qT5w12iyURnk"
      ],
      "authorship_tag": "ABX9TyMmZv1QNfT87QH/5zMXBBoX",
      "include_colab_link": true
    },
    "kernelspec": {
      "name": "python3",
      "display_name": "Python 3"
    }
  },
  "cells": [
    {
      "cell_type": "markdown",
      "metadata": {
        "id": "view-in-github",
        "colab_type": "text"
      },
      "source": [
        "<a href=\"https://colab.research.google.com/github/utkarsh0702/Projects/blob/master/Missing_Value_Time_Series.ipynb\" target=\"_parent\"><img src=\"https://colab.research.google.com/assets/colab-badge.svg\" alt=\"Open In Colab\"/></a>"
      ]
    },
    {
      "cell_type": "code",
      "metadata": {
        "id": "w7O6bzHvzibS"
      },
      "source": [
        "import tensorflow as tf\r\n",
        "from tensorflow import keras\r\n",
        "import matplotlib as mpl\r\n",
        "import matplotlib.pyplot as plt\r\n",
        "import numpy as np\r\n",
        "import pandas as pd\r\n",
        "from sklearn.metrics import mean_squared_error\r\n",
        "from sklearn.preprocessing import MinMaxScaler\r\n",
        "\r\n",
        "mpl.rcParams['figure.figsize'] = (10,8)\r\n",
        "mpl.rcParams['axes.grid'] = False"
      ],
      "execution_count": null,
      "outputs": []
    },
    {
      "cell_type": "code",
      "metadata": {
        "colab": {
          "base_uri": "https://localhost:8080/",
          "height": 643
        },
        "id": "QYObrzrAzpsX",
        "outputId": "c6d45d59-e72f-4d5c-84bd-6ea78061b4f6"
      },
      "source": [
        "result = pd.read_csv('new_train.csv', parse_dates=['Date'])\r\n",
        "result['Date'] = pd.to_datetime(result['Date'], errors='coerce')\r\n",
        "result"
      ],
      "execution_count": null,
      "outputs": [
        {
          "output_type": "execute_result",
          "data": {
            "text/html": [
              "<div>\n",
              "<style scoped>\n",
              "    .dataframe tbody tr th:only-of-type {\n",
              "        vertical-align: middle;\n",
              "    }\n",
              "\n",
              "    .dataframe tbody tr th {\n",
              "        vertical-align: top;\n",
              "    }\n",
              "\n",
              "    .dataframe thead th {\n",
              "        text-align: right;\n",
              "    }\n",
              "</style>\n",
              "<table border=\"1\" class=\"dataframe\">\n",
              "  <thead>\n",
              "    <tr style=\"text-align: right;\">\n",
              "      <th></th>\n",
              "      <th>Date</th>\n",
              "      <th>Open-Stock-1</th>\n",
              "      <th>High-Stock-1</th>\n",
              "      <th>Low-Stock-1</th>\n",
              "      <th>Close-Stock-1</th>\n",
              "      <th>VWAP-Stock-1</th>\n",
              "      <th>Volume-Stock-1</th>\n",
              "      <th>Turnover-Stock-1</th>\n",
              "      <th>Open-Stock-2</th>\n",
              "      <th>High-Stock-2</th>\n",
              "      <th>Low-Stock-2</th>\n",
              "      <th>Close-Stock-2</th>\n",
              "      <th>VWAP-Stock-2</th>\n",
              "      <th>Volume-Stock-2</th>\n",
              "      <th>Turnover-Stock-2</th>\n",
              "      <th>Open-Stock-3</th>\n",
              "      <th>High-Stock-3</th>\n",
              "      <th>Low-Stock-3</th>\n",
              "      <th>Close-Stock-3</th>\n",
              "      <th>VWAP-Stock-3</th>\n",
              "      <th>Volume-Stock-3</th>\n",
              "      <th>Turnover-Stock-3</th>\n",
              "      <th>Open-Stock-4</th>\n",
              "      <th>High-Stock-4</th>\n",
              "      <th>Low-Stock-4</th>\n",
              "      <th>Close-Stock-4</th>\n",
              "      <th>VWAP-Stock-4</th>\n",
              "      <th>Volume-Stock-4</th>\n",
              "      <th>Turnover-Stock-4</th>\n",
              "      <th>Open-Stock-5</th>\n",
              "      <th>High-Stock-5</th>\n",
              "      <th>Low-Stock-5</th>\n",
              "      <th>Close-Stock-5</th>\n",
              "      <th>VWAP-Stock-5</th>\n",
              "      <th>Volume-Stock-5</th>\n",
              "      <th>Turnover-Stock-5</th>\n",
              "    </tr>\n",
              "  </thead>\n",
              "  <tbody>\n",
              "    <tr>\n",
              "      <th>0</th>\n",
              "      <td>2010-06-01</td>\n",
              "      <td>1889.70</td>\n",
              "      <td>1890.00</td>\n",
              "      <td>1838.00</td>\n",
              "      <td>1855.10</td>\n",
              "      <td>1855.75</td>\n",
              "      <td>568273</td>\n",
              "      <td>105457457545000</td>\n",
              "      <td>285.40</td>\n",
              "      <td>285.95</td>\n",
              "      <td>281.50</td>\n",
              "      <td>283.00</td>\n",
              "      <td>283.72</td>\n",
              "      <td>3191773</td>\n",
              "      <td>90557243170000</td>\n",
              "      <td>2095.00</td>\n",
              "      <td>2097.80</td>\n",
              "      <td>2045.00</td>\n",
              "      <td>2077.25</td>\n",
              "      <td>2088.95</td>\n",
              "      <td>70547</td>\n",
              "      <td>14736933230000</td>\n",
              "      <td>851.65</td>\n",
              "      <td>864.80</td>\n",
              "      <td>833.10</td>\n",
              "      <td>837.95</td>\n",
              "      <td>844.44</td>\n",
              "      <td>3878011</td>\n",
              "      <td>327474904340000</td>\n",
              "      <td>1235.0</td>\n",
              "      <td>1238.00</td>\n",
              "      <td>1177.00</td>\n",
              "      <td>1181.70</td>\n",
              "      <td>1197.29</td>\n",
              "      <td>1786082</td>\n",
              "      <td>213845404410000</td>\n",
              "    </tr>\n",
              "    <tr>\n",
              "      <th>1</th>\n",
              "      <td>2010-06-02</td>\n",
              "      <td>1848.00</td>\n",
              "      <td>1862.75</td>\n",
              "      <td>1828.00</td>\n",
              "      <td>1853.05</td>\n",
              "      <td>1842.82</td>\n",
              "      <td>945167</td>\n",
              "      <td>174177161135000</td>\n",
              "      <td>284.00</td>\n",
              "      <td>284.80</td>\n",
              "      <td>279.25</td>\n",
              "      <td>281.30</td>\n",
              "      <td>281.05</td>\n",
              "      <td>2704797</td>\n",
              "      <td>76017076445000</td>\n",
              "      <td>2061.45</td>\n",
              "      <td>2098.00</td>\n",
              "      <td>2023.00</td>\n",
              "      <td>2079.85</td>\n",
              "      <td>2059.52</td>\n",
              "      <td>55547</td>\n",
              "      <td>11440017990000</td>\n",
              "      <td>844.70</td>\n",
              "      <td>849.90</td>\n",
              "      <td>823.00</td>\n",
              "      <td>842.30</td>\n",
              "      <td>838.31</td>\n",
              "      <td>3320996</td>\n",
              "      <td>278403743240000</td>\n",
              "      <td>1195.0</td>\n",
              "      <td>1206.95</td>\n",
              "      <td>1168.50</td>\n",
              "      <td>1201.15</td>\n",
              "      <td>1189.87</td>\n",
              "      <td>1307410</td>\n",
              "      <td>155564994855000</td>\n",
              "    </tr>\n",
              "    <tr>\n",
              "      <th>2</th>\n",
              "      <td>2010-06-03</td>\n",
              "      <td>1864.10</td>\n",
              "      <td>1910.00</td>\n",
              "      <td>1864.10</td>\n",
              "      <td>1905.60</td>\n",
              "      <td>1893.91</td>\n",
              "      <td>679689</td>\n",
              "      <td>128727119355000</td>\n",
              "      <td>283.00</td>\n",
              "      <td>286.85</td>\n",
              "      <td>282.50</td>\n",
              "      <td>285.50</td>\n",
              "      <td>285.34</td>\n",
              "      <td>2489752</td>\n",
              "      <td>71043460510000</td>\n",
              "      <td>2131.50</td>\n",
              "      <td>2131.50</td>\n",
              "      <td>2091.05</td>\n",
              "      <td>2114.90</td>\n",
              "      <td>2107.84</td>\n",
              "      <td>55130</td>\n",
              "      <td>11620529360000</td>\n",
              "      <td>851.40</td>\n",
              "      <td>859.05</td>\n",
              "      <td>848.20</td>\n",
              "      <td>854.10</td>\n",
              "      <td>853.51</td>\n",
              "      <td>2494522</td>\n",
              "      <td>212910342645000</td>\n",
              "      <td>1211.0</td>\n",
              "      <td>1248.00</td>\n",
              "      <td>1211.00</td>\n",
              "      <td>1242.30</td>\n",
              "      <td>1231.63</td>\n",
              "      <td>1482919</td>\n",
              "      <td>182640434320000</td>\n",
              "    </tr>\n",
              "    <tr>\n",
              "      <th>3</th>\n",
              "      <td>2010-06-04</td>\n",
              "      <td>1906.00</td>\n",
              "      <td>1909.80</td>\n",
              "      <td>1880.10</td>\n",
              "      <td>1885.70</td>\n",
              "      <td>1889.21</td>\n",
              "      <td>509435</td>\n",
              "      <td>96242800140000</td>\n",
              "      <td>288.85</td>\n",
              "      <td>291.80</td>\n",
              "      <td>277.00</td>\n",
              "      <td>290.85</td>\n",
              "      <td>289.81</td>\n",
              "      <td>3188813</td>\n",
              "      <td>92414802585000</td>\n",
              "      <td>2114.90</td>\n",
              "      <td>2156.00</td>\n",
              "      <td>2095.50</td>\n",
              "      <td>2146.75</td>\n",
              "      <td>2145.36</td>\n",
              "      <td>29302</td>\n",
              "      <td>6286330280000</td>\n",
              "      <td>854.10</td>\n",
              "      <td>868.60</td>\n",
              "      <td>854.10</td>\n",
              "      <td>865.85</td>\n",
              "      <td>862.85</td>\n",
              "      <td>2963920</td>\n",
              "      <td>255740999120000</td>\n",
              "      <td>1240.0</td>\n",
              "      <td>1258.00</td>\n",
              "      <td>1240.00</td>\n",
              "      <td>1245.45</td>\n",
              "      <td>1249.72</td>\n",
              "      <td>1454459</td>\n",
              "      <td>181767075850000</td>\n",
              "    </tr>\n",
              "    <tr>\n",
              "      <th>4</th>\n",
              "      <td>2010-06-07</td>\n",
              "      <td>1867.00</td>\n",
              "      <td>1894.85</td>\n",
              "      <td>1808.35</td>\n",
              "      <td>1876.65</td>\n",
              "      <td>1873.32</td>\n",
              "      <td>961913</td>\n",
              "      <td>180196832650000</td>\n",
              "      <td>285.00</td>\n",
              "      <td>289.10</td>\n",
              "      <td>285.00</td>\n",
              "      <td>287.70</td>\n",
              "      <td>287.01</td>\n",
              "      <td>2198836</td>\n",
              "      <td>63109395135000</td>\n",
              "      <td>2132.35</td>\n",
              "      <td>2209.00</td>\n",
              "      <td>2112.00</td>\n",
              "      <td>2185.25</td>\n",
              "      <td>2180.52</td>\n",
              "      <td>78919</td>\n",
              "      <td>17208425860000</td>\n",
              "      <td>712.00</td>\n",
              "      <td>850.00</td>\n",
              "      <td>712.00</td>\n",
              "      <td>841.95</td>\n",
              "      <td>839.89</td>\n",
              "      <td>3471483</td>\n",
              "      <td>291567400640000</td>\n",
              "      <td>1218.6</td>\n",
              "      <td>1225.00</td>\n",
              "      <td>1196.00</td>\n",
              "      <td>1214.80</td>\n",
              "      <td>1209.27</td>\n",
              "      <td>1424594</td>\n",
              "      <td>172272511430000</td>\n",
              "    </tr>\n",
              "    <tr>\n",
              "      <th>...</th>\n",
              "      <td>...</td>\n",
              "      <td>...</td>\n",
              "      <td>...</td>\n",
              "      <td>...</td>\n",
              "      <td>...</td>\n",
              "      <td>...</td>\n",
              "      <td>...</td>\n",
              "      <td>...</td>\n",
              "      <td>...</td>\n",
              "      <td>...</td>\n",
              "      <td>...</td>\n",
              "      <td>...</td>\n",
              "      <td>...</td>\n",
              "      <td>...</td>\n",
              "      <td>...</td>\n",
              "      <td>...</td>\n",
              "      <td>...</td>\n",
              "      <td>...</td>\n",
              "      <td>...</td>\n",
              "      <td>...</td>\n",
              "      <td>...</td>\n",
              "      <td>...</td>\n",
              "      <td>...</td>\n",
              "      <td>...</td>\n",
              "      <td>...</td>\n",
              "      <td>...</td>\n",
              "      <td>...</td>\n",
              "      <td>...</td>\n",
              "      <td>...</td>\n",
              "      <td>...</td>\n",
              "      <td>...</td>\n",
              "      <td>...</td>\n",
              "      <td>...</td>\n",
              "      <td>...</td>\n",
              "      <td>...</td>\n",
              "      <td>...</td>\n",
              "    </tr>\n",
              "    <tr>\n",
              "      <th>294</th>\n",
              "      <td>2011-07-28</td>\n",
              "      <td>499.50</td>\n",
              "      <td>499.50</td>\n",
              "      <td>484.60</td>\n",
              "      <td>487.30</td>\n",
              "      <td>489.79</td>\n",
              "      <td>5354489</td>\n",
              "      <td>262255417380000</td>\n",
              "      <td>198.35</td>\n",
              "      <td>207.00</td>\n",
              "      <td>198.35</td>\n",
              "      <td>206.25</td>\n",
              "      <td>204.68</td>\n",
              "      <td>16270594</td>\n",
              "      <td>333026806690000</td>\n",
              "      <td>3105.85</td>\n",
              "      <td>3143.00</td>\n",
              "      <td>3105.85</td>\n",
              "      <td>3120.85</td>\n",
              "      <td>3121.98</td>\n",
              "      <td>155200</td>\n",
              "      <td>48453078985000</td>\n",
              "      <td>1012.10</td>\n",
              "      <td>1035.50</td>\n",
              "      <td>1010.00</td>\n",
              "      <td>1017.45</td>\n",
              "      <td>1021.77</td>\n",
              "      <td>3823471</td>\n",
              "      <td>390670692820000</td>\n",
              "      <td>1285.0</td>\n",
              "      <td>1307.95</td>\n",
              "      <td>1285.00</td>\n",
              "      <td>1301.50</td>\n",
              "      <td>1297.00</td>\n",
              "      <td>1353005</td>\n",
              "      <td>175484999030000</td>\n",
              "    </tr>\n",
              "    <tr>\n",
              "      <th>295</th>\n",
              "      <td>2011-07-29</td>\n",
              "      <td>489.90</td>\n",
              "      <td>489.90</td>\n",
              "      <td>481.10</td>\n",
              "      <td>486.80</td>\n",
              "      <td>485.65</td>\n",
              "      <td>2997667</td>\n",
              "      <td>145582296035000</td>\n",
              "      <td>205.50</td>\n",
              "      <td>211.25</td>\n",
              "      <td>205.25</td>\n",
              "      <td>208.35</td>\n",
              "      <td>208.89</td>\n",
              "      <td>13288551</td>\n",
              "      <td>277587677435000</td>\n",
              "      <td>3122.40</td>\n",
              "      <td>3140.05</td>\n",
              "      <td>3115.00</td>\n",
              "      <td>3134.00</td>\n",
              "      <td>3129.24</td>\n",
              "      <td>28578</td>\n",
              "      <td>8942753035000</td>\n",
              "      <td>1011.00</td>\n",
              "      <td>1051.00</td>\n",
              "      <td>1003.60</td>\n",
              "      <td>1036.75</td>\n",
              "      <td>1032.52</td>\n",
              "      <td>6537105</td>\n",
              "      <td>674969821765000</td>\n",
              "      <td>1300.0</td>\n",
              "      <td>1342.00</td>\n",
              "      <td>1292.40</td>\n",
              "      <td>1337.50</td>\n",
              "      <td>1325.46</td>\n",
              "      <td>1850972</td>\n",
              "      <td>245338665665000</td>\n",
              "    </tr>\n",
              "    <tr>\n",
              "      <th>296</th>\n",
              "      <td>2011-08-01</td>\n",
              "      <td>493.45</td>\n",
              "      <td>495.95</td>\n",
              "      <td>484.50</td>\n",
              "      <td>488.00</td>\n",
              "      <td>489.14</td>\n",
              "      <td>2202354</td>\n",
              "      <td>107726909450000</td>\n",
              "      <td>210.00</td>\n",
              "      <td>211.25</td>\n",
              "      <td>208.10</td>\n",
              "      <td>208.90</td>\n",
              "      <td>209.13</td>\n",
              "      <td>7104094</td>\n",
              "      <td>148570564060000</td>\n",
              "      <td>3141.95</td>\n",
              "      <td>3163.00</td>\n",
              "      <td>3053.50</td>\n",
              "      <td>3067.85</td>\n",
              "      <td>3100.07</td>\n",
              "      <td>36332</td>\n",
              "      <td>11263166685000</td>\n",
              "      <td>1052.80</td>\n",
              "      <td>1059.70</td>\n",
              "      <td>1038.70</td>\n",
              "      <td>1045.35</td>\n",
              "      <td>1049.87</td>\n",
              "      <td>2088359</td>\n",
              "      <td>219249912200000</td>\n",
              "      <td>1349.0</td>\n",
              "      <td>1367.55</td>\n",
              "      <td>1346.50</td>\n",
              "      <td>1353.00</td>\n",
              "      <td>1357.02</td>\n",
              "      <td>1226610</td>\n",
              "      <td>166453494180000</td>\n",
              "    </tr>\n",
              "    <tr>\n",
              "      <th>297</th>\n",
              "      <td>2011-08-02</td>\n",
              "      <td>487.90</td>\n",
              "      <td>487.90</td>\n",
              "      <td>480.00</td>\n",
              "      <td>482.85</td>\n",
              "      <td>483.30</td>\n",
              "      <td>1982494</td>\n",
              "      <td>95814144795000</td>\n",
              "      <td>207.70</td>\n",
              "      <td>208.35</td>\n",
              "      <td>202.85</td>\n",
              "      <td>204.75</td>\n",
              "      <td>205.13</td>\n",
              "      <td>7645467</td>\n",
              "      <td>156835059215000</td>\n",
              "      <td>3067.85</td>\n",
              "      <td>3069.00</td>\n",
              "      <td>3001.10</td>\n",
              "      <td>3052.15</td>\n",
              "      <td>3047.39</td>\n",
              "      <td>177189</td>\n",
              "      <td>53996461955000</td>\n",
              "      <td>1039.90</td>\n",
              "      <td>1041.35</td>\n",
              "      <td>1018.10</td>\n",
              "      <td>1021.70</td>\n",
              "      <td>1025.73</td>\n",
              "      <td>2925557</td>\n",
              "      <td>300083555650000</td>\n",
              "      <td>1345.0</td>\n",
              "      <td>1347.95</td>\n",
              "      <td>1326.10</td>\n",
              "      <td>1342.80</td>\n",
              "      <td>1334.07</td>\n",
              "      <td>970086</td>\n",
              "      <td>129416608470000</td>\n",
              "    </tr>\n",
              "    <tr>\n",
              "      <th>298</th>\n",
              "      <td>2011-08-03</td>\n",
              "      <td>478.70</td>\n",
              "      <td>489.40</td>\n",
              "      <td>476.00</td>\n",
              "      <td>482.05</td>\n",
              "      <td>481.89</td>\n",
              "      <td>2082567</td>\n",
              "      <td>100357122620000</td>\n",
              "      <td>203.35</td>\n",
              "      <td>208.20</td>\n",
              "      <td>202.65</td>\n",
              "      <td>206.85</td>\n",
              "      <td>206.29</td>\n",
              "      <td>6657936</td>\n",
              "      <td>137346955990000</td>\n",
              "      <td>3015.00</td>\n",
              "      <td>3068.60</td>\n",
              "      <td>3010.00</td>\n",
              "      <td>3023.20</td>\n",
              "      <td>3036.85</td>\n",
              "      <td>66841</td>\n",
              "      <td>20298603665000</td>\n",
              "      <td>1012.45</td>\n",
              "      <td>1012.45</td>\n",
              "      <td>990.35</td>\n",
              "      <td>1001.95</td>\n",
              "      <td>1000.21</td>\n",
              "      <td>3859436</td>\n",
              "      <td>386025319390000</td>\n",
              "      <td>1330.7</td>\n",
              "      <td>1330.70</td>\n",
              "      <td>1292.75</td>\n",
              "      <td>1301.15</td>\n",
              "      <td>1302.46</td>\n",
              "      <td>1833923</td>\n",
              "      <td>238860994315000</td>\n",
              "    </tr>\n",
              "  </tbody>\n",
              "</table>\n",
              "<p>299 rows × 36 columns</p>\n",
              "</div>"
            ],
            "text/plain": [
              "          Date  Open-Stock-1  ...  Volume-Stock-5  Turnover-Stock-5\n",
              "0   2010-06-01       1889.70  ...         1786082   213845404410000\n",
              "1   2010-06-02       1848.00  ...         1307410   155564994855000\n",
              "2   2010-06-03       1864.10  ...         1482919   182640434320000\n",
              "3   2010-06-04       1906.00  ...         1454459   181767075850000\n",
              "4   2010-06-07       1867.00  ...         1424594   172272511430000\n",
              "..         ...           ...  ...             ...               ...\n",
              "294 2011-07-28        499.50  ...         1353005   175484999030000\n",
              "295 2011-07-29        489.90  ...         1850972   245338665665000\n",
              "296 2011-08-01        493.45  ...         1226610   166453494180000\n",
              "297 2011-08-02        487.90  ...          970086   129416608470000\n",
              "298 2011-08-03        478.70  ...         1833923   238860994315000\n",
              "\n",
              "[299 rows x 36 columns]"
            ]
          },
          "metadata": {
            "tags": []
          },
          "execution_count": 25
        }
      ]
    },
    {
      "cell_type": "code",
      "metadata": {
        "id": "f60dWptMXsg_"
      },
      "source": [
        "test = pd.read_csv('new_test.csv', parse_dates=['Date'])\r\n",
        "test['Date'] = pd.to_datetime(test['Date'], errors='coerce')\r\n",
        "test"
      ],
      "execution_count": null,
      "outputs": []
    },
    {
      "cell_type": "markdown",
      "metadata": {
        "id": "kaGjxDHySOUw"
      },
      "source": [
        "# Stock 1"
      ]
    },
    {
      "cell_type": "code",
      "metadata": {
        "colab": {
          "base_uri": "https://localhost:8080/",
          "height": 204
        },
        "id": "bz_G3a8u0Sxm",
        "outputId": "78d35af9-a809-491d-cb5d-ff8cf2752d73"
      },
      "source": [
        "df1= result.loc[:,['Date','Close-Stock-1']]\r\n",
        "df1.head()"
      ],
      "execution_count": null,
      "outputs": [
        {
          "output_type": "execute_result",
          "data": {
            "text/html": [
              "<div>\n",
              "<style scoped>\n",
              "    .dataframe tbody tr th:only-of-type {\n",
              "        vertical-align: middle;\n",
              "    }\n",
              "\n",
              "    .dataframe tbody tr th {\n",
              "        vertical-align: top;\n",
              "    }\n",
              "\n",
              "    .dataframe thead th {\n",
              "        text-align: right;\n",
              "    }\n",
              "</style>\n",
              "<table border=\"1\" class=\"dataframe\">\n",
              "  <thead>\n",
              "    <tr style=\"text-align: right;\">\n",
              "      <th></th>\n",
              "      <th>Date</th>\n",
              "      <th>Close-Stock-1</th>\n",
              "    </tr>\n",
              "  </thead>\n",
              "  <tbody>\n",
              "    <tr>\n",
              "      <th>0</th>\n",
              "      <td>2010-06-01</td>\n",
              "      <td>1855.10</td>\n",
              "    </tr>\n",
              "    <tr>\n",
              "      <th>1</th>\n",
              "      <td>2010-06-02</td>\n",
              "      <td>1853.05</td>\n",
              "    </tr>\n",
              "    <tr>\n",
              "      <th>2</th>\n",
              "      <td>2010-06-03</td>\n",
              "      <td>1905.60</td>\n",
              "    </tr>\n",
              "    <tr>\n",
              "      <th>3</th>\n",
              "      <td>2010-06-04</td>\n",
              "      <td>1885.70</td>\n",
              "    </tr>\n",
              "    <tr>\n",
              "      <th>4</th>\n",
              "      <td>2010-06-07</td>\n",
              "      <td>1876.65</td>\n",
              "    </tr>\n",
              "  </tbody>\n",
              "</table>\n",
              "</div>"
            ],
            "text/plain": [
              "        Date  Close-Stock-1\n",
              "0 2010-06-01        1855.10\n",
              "1 2010-06-02        1853.05\n",
              "2 2010-06-03        1905.60\n",
              "3 2010-06-04        1885.70\n",
              "4 2010-06-07        1876.65"
            ]
          },
          "metadata": {
            "tags": []
          },
          "execution_count": 26
        }
      ]
    },
    {
      "cell_type": "code",
      "metadata": {
        "id": "PcUap0dq0xaF"
      },
      "source": [
        "idx = pd.date_range(df1.Date.min(), df1.Date.max())\r\n",
        "df1.set_index('Date', inplace=True)"
      ],
      "execution_count": null,
      "outputs": []
    },
    {
      "cell_type": "markdown",
      "metadata": {
        "id": "5Vgt8cru8ukQ"
      },
      "source": [
        "**Cubic Spline interpolation**"
      ]
    },
    {
      "cell_type": "code",
      "metadata": {
        "colab": {
          "base_uri": "https://localhost:8080/",
          "height": 450
        },
        "id": "lrnbPKRB1bOg",
        "outputId": "c8ba7a8c-d836-4429-eeca-8c121a6f5aca"
      },
      "source": [
        "df1 = df1.reindex(idx)\r\n",
        "df1.index.name = 'Date'\r\n",
        "# df1= df1.replace({0:np.NaN})\r\n",
        "df1= df1.interpolate(method='spline', order=3, s=0.)\r\n",
        "df1 = df1.round(2)\r\n",
        "df1"
      ],
      "execution_count": null,
      "outputs": [
        {
          "output_type": "execute_result",
          "data": {
            "text/html": [
              "<div>\n",
              "<style scoped>\n",
              "    .dataframe tbody tr th:only-of-type {\n",
              "        vertical-align: middle;\n",
              "    }\n",
              "\n",
              "    .dataframe tbody tr th {\n",
              "        vertical-align: top;\n",
              "    }\n",
              "\n",
              "    .dataframe thead th {\n",
              "        text-align: right;\n",
              "    }\n",
              "</style>\n",
              "<table border=\"1\" class=\"dataframe\">\n",
              "  <thead>\n",
              "    <tr style=\"text-align: right;\">\n",
              "      <th></th>\n",
              "      <th>Close-Stock-1</th>\n",
              "    </tr>\n",
              "    <tr>\n",
              "      <th>Date</th>\n",
              "      <th></th>\n",
              "    </tr>\n",
              "  </thead>\n",
              "  <tbody>\n",
              "    <tr>\n",
              "      <th>2010-06-01</th>\n",
              "      <td>1855.10</td>\n",
              "    </tr>\n",
              "    <tr>\n",
              "      <th>2010-06-02</th>\n",
              "      <td>1853.05</td>\n",
              "    </tr>\n",
              "    <tr>\n",
              "      <th>2010-06-03</th>\n",
              "      <td>1905.60</td>\n",
              "    </tr>\n",
              "    <tr>\n",
              "      <th>2010-06-04</th>\n",
              "      <td>1885.70</td>\n",
              "    </tr>\n",
              "    <tr>\n",
              "      <th>2010-06-05</th>\n",
              "      <td>1873.50</td>\n",
              "    </tr>\n",
              "    <tr>\n",
              "      <th>...</th>\n",
              "      <td>...</td>\n",
              "    </tr>\n",
              "    <tr>\n",
              "      <th>2011-07-30</th>\n",
              "      <td>490.04</td>\n",
              "    </tr>\n",
              "    <tr>\n",
              "      <th>2011-07-31</th>\n",
              "      <td>490.67</td>\n",
              "    </tr>\n",
              "    <tr>\n",
              "      <th>2011-08-01</th>\n",
              "      <td>488.00</td>\n",
              "    </tr>\n",
              "    <tr>\n",
              "      <th>2011-08-02</th>\n",
              "      <td>482.85</td>\n",
              "    </tr>\n",
              "    <tr>\n",
              "      <th>2011-08-03</th>\n",
              "      <td>482.05</td>\n",
              "    </tr>\n",
              "  </tbody>\n",
              "</table>\n",
              "<p>429 rows × 1 columns</p>\n",
              "</div>"
            ],
            "text/plain": [
              "            Close-Stock-1\n",
              "Date                     \n",
              "2010-06-01        1855.10\n",
              "2010-06-02        1853.05\n",
              "2010-06-03        1905.60\n",
              "2010-06-04        1885.70\n",
              "2010-06-05        1873.50\n",
              "...                   ...\n",
              "2011-07-30         490.04\n",
              "2011-07-31         490.67\n",
              "2011-08-01         488.00\n",
              "2011-08-02         482.85\n",
              "2011-08-03         482.05\n",
              "\n",
              "[429 rows x 1 columns]"
            ]
          },
          "metadata": {
            "tags": []
          },
          "execution_count": 28
        }
      ]
    },
    {
      "cell_type": "code",
      "metadata": {
        "colab": {
          "base_uri": "https://localhost:8080/"
        },
        "id": "08DA6TFq80ER",
        "outputId": "1437650e-3cfa-4505-de95-f849d5e664dd"
      },
      "source": [
        "array = df1.to_numpy().reshape(-1,1)\r\n",
        "array.shape"
      ],
      "execution_count": null,
      "outputs": [
        {
          "output_type": "execute_result",
          "data": {
            "text/plain": [
              "(429, 1)"
            ]
          },
          "metadata": {
            "tags": []
          },
          "execution_count": 29
        }
      ]
    },
    {
      "cell_type": "code",
      "metadata": {
        "id": "CwGvysTI80BI"
      },
      "source": [
        "#taking mean and standered deviation\r\n",
        "array_mean = array.mean()\r\n",
        "array_std = array.std()\r\n",
        "#normalizing the data\r\n",
        "array = (array-array_mean)/array_std"
      ],
      "execution_count": null,
      "outputs": []
    },
    {
      "cell_type": "code",
      "metadata": {
        "id": "Q21eq9xu8z-c"
      },
      "source": [
        "def univariate_data(dataset, start_index, end_index, history_size, target_size):\r\n",
        "  data = []\r\n",
        "  labels = []\r\n",
        "\r\n",
        "  start_index = start_index + history_size\r\n",
        "  if end_index is None:\r\n",
        "    end_index = len(dataset) - target_size\r\n",
        "\r\n",
        "  for i in range(start_index, end_index):\r\n",
        "    indices = range(i-history_size, i)\r\n",
        "    # Reshape data from (history_size,) to (history_size, 1)\r\n",
        "    data.append(np.reshape(dataset[indices], (history_size, 1)))\r\n",
        "    labels.append(dataset[i+target_size])\r\n",
        "  return np.array(data), np.array(labels)"
      ],
      "execution_count": null,
      "outputs": []
    },
    {
      "cell_type": "code",
      "metadata": {
        "id": "1BqwaKoyCvOf"
      },
      "source": [
        "univariate_past_history = 12\r\n",
        "univariate_future_target = 0\r\n",
        "\r\n",
        "x, y = univariate_data(array, 0, None, univariate_past_history, univariate_future_target)"
      ],
      "execution_count": null,
      "outputs": []
    },
    {
      "cell_type": "code",
      "metadata": {
        "colab": {
          "base_uri": "https://localhost:8080/"
        },
        "id": "95H4K7njC2_6",
        "outputId": "2471a9b7-1191-4f3a-bea0-21737230c8ed"
      },
      "source": [
        "print('X Shape:',x.shape)\r\n",
        "print('Y Shape:',y.shape)"
      ],
      "execution_count": null,
      "outputs": [
        {
          "output_type": "stream",
          "text": [
            "X Shape: (417, 12, 1)\n",
            "Y Shape: (417, 1)\n"
          ],
          "name": "stdout"
        }
      ]
    },
    {
      "cell_type": "markdown",
      "metadata": {
        "id": "J3pC73ssEUrt"
      },
      "source": [
        "**Learning Rate Scheduling**"
      ]
    },
    {
      "cell_type": "code",
      "metadata": {
        "id": "y9q-U5cel-fx",
        "colab": {
          "base_uri": "https://localhost:8080/"
        },
        "outputId": "21d41a30-fc85-4985-f0be-c6ce5339528b"
      },
      "source": [
        "tf.keras.backend.clear_session()\n",
        "\n",
        "#creating model\n",
        "model= tf.keras.models.Sequential([\n",
        "                                   tf.keras.layers.Lambda(lambda x: tf.expand_dims(x,axis=-1), input_shape=[None]),\n",
        "                                   tf.keras.layers.Bidirectional(tf.keras.layers.LSTM(24, activation='relu', dropout=0.25, recurrent_dropout=0.3, return_sequences=True)),\n",
        "                                   tf.keras.layers.Bidirectional(tf.keras.layers.LSTM(12, activation='relu', dropout=0.25, recurrent_dropout=0.3, return_sequences=True)),\n",
        "                                   tf.keras.layers.LSTM(12, activation='relu', dropout=0.25, recurrent_dropout=0.1),\n",
        "                                   tf.keras.layers.LSTM(6, activation='relu', dropout=0.25, recurrent_dropout=0.1),\n",
        "                                   tf.keras.layers.Dropout(0.15),\n",
        "                                   tf.keras.layers.Dense(1),\n",
        "                                   ])\n",
        "lr_schedular= tf.keras.callbacks.LearningRateScheduler(lambda x: 1e-6*10**(x/20))\n",
        "\n",
        "adam= tf.keras.optimizers.Adam(lr=1e-6)\n",
        "model.compile(optimizer= adam, loss= 'mse')\n",
        "#Smodel.build(input_shape)\n",
        "model.summary()"
      ],
      "execution_count": null,
      "outputs": [
        {
          "output_type": "stream",
          "text": [
            "Model: \"sequential\"\n",
            "_________________________________________________________________\n",
            "Layer (type)                 Output Shape              Param #   \n",
            "=================================================================\n",
            "lambda (Lambda)              (None, None, 1)           0         \n",
            "_________________________________________________________________\n",
            "bidirectional (Bidirectional (None, None, 48)          4992      \n",
            "_________________________________________________________________\n",
            "bidirectional_1 (Bidirection (None, None, 24)          5856      \n",
            "_________________________________________________________________\n",
            "lstm_2 (LSTM)                (None, 12)                1776      \n",
            "_________________________________________________________________\n",
            "dropout (Dropout)            (None, 12)                0         \n",
            "_________________________________________________________________\n",
            "dense (Dense)                (None, 1)                 13        \n",
            "=================================================================\n",
            "Total params: 12,637\n",
            "Trainable params: 12,637\n",
            "Non-trainable params: 0\n",
            "_________________________________________________________________\n"
          ],
          "name": "stdout"
        }
      ]
    },
    {
      "cell_type": "code",
      "metadata": {
        "id": "z6gS39czryuN"
      },
      "source": [
        "history= model.fit(x, y, epochs= 125, callbacks= [lr_schedular], verbose=0)"
      ],
      "execution_count": null,
      "outputs": []
    },
    {
      "cell_type": "code",
      "metadata": {
        "id": "bS-7c9X3tZyH",
        "colab": {
          "base_uri": "https://localhost:8080/"
        },
        "outputId": "bec80c6f-1ced-43bc-8c70-85ccd7db699c"
      },
      "source": [
        "loss= min(history.history['loss'])\n",
        "losses= history.history['loss']\n",
        "index=losses.index(loss)\n",
        "lrs= history.history['lr']\n",
        "count=0\n",
        "for i in lrs:\n",
        "  if count==index:\n",
        "    lr=i\n",
        "    break\n",
        "  count+=1\n",
        "print(lr)\n",
        "print(loss)"
      ],
      "execution_count": null,
      "outputs": [
        {
          "output_type": "stream",
          "text": [
            "0.028183829\n",
            "0.1458841860294342\n"
          ],
          "name": "stdout"
        }
      ]
    },
    {
      "cell_type": "code",
      "metadata": {
        "id": "isv_udIA0dcJ",
        "colab": {
          "base_uri": "https://localhost:8080/",
          "height": 498
        },
        "outputId": "3ec4ce1a-0536-4a9f-a27f-ed5cb28411c8"
      },
      "source": [
        "lrs= 1e-8*(10**(np.arange(125)/20))\n",
        "plt.semilogx(lrs, history.history[\"loss\"], label='Loss')\n",
        "plt.legend(loc='best')\n",
        "plt.grid(True)"
      ],
      "execution_count": null,
      "outputs": [
        {
          "output_type": "display_data",
          "data": {
            "image/png": "[encoded data removed]",
            "text/plain": [
              "<Figure size 720x576 with 1 Axes>"
            ]
          },
          "metadata": {
            "tags": [],
            "needs_background": "light"
          }
        }
      ]
    },
    {
      "cell_type": "markdown",
      "metadata": {
        "id": "tzxh_TCjEcgq"
      },
      "source": [
        "**Model Training**"
      ]
    },
    {
      "cell_type": "code",
      "metadata": {
        "id": "x9Ilgsly0lRz",
        "colab": {
          "base_uri": "https://localhost:8080/"
        },
        "outputId": "54f0f646-3e3a-4af7-d009-c2603786af88"
      },
      "source": [
        "tf.keras.backend.clear_session()\n",
        "\n",
        "#creating model\n",
        "model= tf.keras.models.Sequential([\n",
        "                                   tf.keras.layers.Lambda(lambda x: tf.expand_dims(x,axis=-1), input_shape=[None]),\n",
        "                                   tf.keras.layers.Bidirectional(tf.keras.layers.LSTM(24, activation='relu', dropout=0.25, recurrent_dropout=0.3, return_sequences=True)),\n",
        "                                   tf.keras.layers.Bidirectional(tf.keras.layers.LSTM(12, activation='relu', dropout=0.25, recurrent_dropout=0.3, return_sequences=True)),\n",
        "                                   tf.keras.layers.LSTM(12, activation='relu', dropout=0.25, recurrent_dropout=0.1),\n",
        "                                   tf.keras.layers.LSTM(12, activation='relu', dropout=0.25, recurrent_dropout=0.1),\n",
        "                                   tf.keras.layers.Dropout(0.15),\n",
        "                                   tf.keras.layers.Dense(1),\n",
        "                                   ])\n",
        "\n",
        "adam= tf.keras.optimizers.Adam(lr=lr)\n",
        "model.compile(optimizer= adam, loss= 'mse')\n",
        "#Smodel.build(input_shape)\n",
        "model.summary()"
      ],
      "execution_count": null,
      "outputs": [
        {
          "output_type": "stream",
          "text": [
            "Model: \"sequential\"\n",
            "_________________________________________________________________\n",
            "Layer (type)                 Output Shape              Param #   \n",
            "=================================================================\n",
            "lambda (Lambda)              (None, None, 1)           0         \n",
            "_________________________________________________________________\n",
            "bidirectional (Bidirectional (None, None, 48)          4992      \n",
            "_________________________________________________________________\n",
            "bidirectional_1 (Bidirection (None, None, 24)          5856      \n",
            "_________________________________________________________________\n",
            "lstm_2 (LSTM)                (None, 12)                1776      \n",
            "_________________________________________________________________\n",
            "dropout (Dropout)            (None, 12)                0         \n",
            "_________________________________________________________________\n",
            "dense (Dense)                (None, 1)                 13        \n",
            "=================================================================\n",
            "Total params: 12,637\n",
            "Trainable params: 12,637\n",
            "Non-trainable params: 0\n",
            "_________________________________________________________________\n"
          ],
          "name": "stdout"
        }
      ]
    },
    {
      "cell_type": "code",
      "metadata": {
        "id": "ag8pl0c81dha"
      },
      "source": [
        "history= model.fit(x,y, epochs= 300, verbose=0)"
      ],
      "execution_count": null,
      "outputs": []
    },
    {
      "cell_type": "code",
      "metadata": {
        "id": "XjMZTXqa1k4R",
        "colab": {
          "base_uri": "https://localhost:8080/",
          "height": 487
        },
        "outputId": "4464153a-a22c-49f4-b8d3-1967f2d065a9"
      },
      "source": [
        "epochs= range(1,301)\n",
        "plt.semilogx(epochs, history.history[\"loss\"], label='Loss')\n",
        "plt.legend(loc='best')\n",
        "plt.grid(True)"
      ],
      "execution_count": null,
      "outputs": [
        {
          "output_type": "display_data",
          "data": {
            "image/png": "[encoded data removed]",
            "text/plain": [
              "<Figure size 720x576 with 1 Axes>"
            ]
          },
          "metadata": {
            "tags": [],
            "needs_background": "light"
          }
        }
      ]
    },
    {
      "cell_type": "code",
      "metadata": {
        "id": "_UbUkPZi2R_U",
        "colab": {
          "base_uri": "https://localhost:8080/",
          "height": 534
        },
        "outputId": "3369c6ea-4f3c-4677-ee10-f41cb63ff63b"
      },
      "source": [
        "numbers=range(1, 430)\n",
        "num= range(13,430)\n",
        "plt.figure()\n",
        "print(x.shape)\n",
        "y_pred= model.predict(x)\n",
        "print(y_pred.shape)\n",
        "plt.plot(numbers,array)\n",
        "plt.plot(num,y_pred,'r')\n",
        "plt.plot()"
      ],
      "execution_count": null,
      "outputs": [
        {
          "output_type": "stream",
          "text": [
            "(417, 12, 1)\n",
            "(417, 1)\n"
          ],
          "name": "stdout"
        },
        {
          "output_type": "execute_result",
          "data": {
            "text/plain": [
              "[]"
            ]
          },
          "metadata": {
            "tags": []
          },
          "execution_count": 41
        },
        {
          "output_type": "display_data",
          "data": {
            "image/png": "[encoded data removed]",
            "text/plain": [
              "<Figure size 720x576 with 1 Axes>"
            ]
          },
          "metadata": {
            "tags": [],
            "needs_background": "light"
          }
        }
      ]
    },
    {
      "cell_type": "markdown",
      "metadata": {
        "id": "CkVo0ocvGpse"
      },
      "source": [
        "**Test Phase**"
      ]
    },
    {
      "cell_type": "code",
      "metadata": {
        "colab": {
          "base_uri": "https://localhost:8080/",
          "height": 500
        },
        "id": "5hSIu1BBC4_D",
        "outputId": "d3eec777-e6fc-4de3-cb37-8102a8617931"
      },
      "source": [
        "numbers=range(1, 430)\r\n",
        "num= range(13,430)\r\n",
        "pred= range(430,577)\r\n",
        "plot_pred=[]\r\n",
        "real_val=[]\r\n",
        "plt.figure()\r\n",
        "y_pred= model.predict(x)\r\n",
        "plt.plot(numbers,array)\r\n",
        "plt.plot(num,y_pred,'r')\r\n",
        "x_new= array[416: len(array)-1]\r\n",
        "for i in range(147):\r\n",
        "  x_new= x_new.reshape(1,12,1)\r\n",
        "  y_new= model.predict(x_new)\r\n",
        "  x_new= x_new[0][1:]\r\n",
        "  x_new= np.append(x_new, y_new)\r\n",
        "  y_new= y_new.reshape(1,)\r\n",
        "  real= y_new*array_std+array_mean\r\n",
        "  plot_pred.append(y_new)\r\n",
        "  real_val.append(real)\r\n",
        "\r\n",
        "plt.plot(pred, plot_pred, color='#00ff00')\r\n",
        "plt.plot()"
      ],
      "execution_count": null,
      "outputs": [
        {
          "output_type": "execute_result",
          "data": {
            "text/plain": [
              "[]"
            ]
          },
          "metadata": {
            "tags": []
          },
          "execution_count": 42
        },
        {
          "output_type": "display_data",
          "data": {
            "image/png": "[encoded data removed]",
            "text/plain": [
              "<Figure size 720x576 with 1 Axes>"
            ]
          },
          "metadata": {
            "tags": [],
            "needs_background": "light"
          }
        }
      ]
    },
    {
      "cell_type": "code",
      "metadata": {
        "colab": {
          "base_uri": "https://localhost:8080/"
        },
        "id": "7NCORJLjJA26",
        "outputId": "4193cf9a-1d1f-41ca-913f-d6aa737759ea"
      },
      "source": [
        "pred_array = np.array(real_val)\r\n",
        "pred_array.shape"
      ],
      "execution_count": null,
      "outputs": [
        {
          "output_type": "execute_result",
          "data": {
            "text/plain": [
              "(147, 1)"
            ]
          },
          "metadata": {
            "tags": []
          },
          "execution_count": 43
        }
      ]
    },
    {
      "cell_type": "code",
      "metadata": {
        "colab": {
          "base_uri": "https://localhost:8080/",
          "height": 450
        },
        "id": "uKb1xJK4KgvE",
        "outputId": "f98f9099-61be-485a-c9ea-a2c53d64d24a"
      },
      "source": [
        "rng = pd.date_range('2011-08-04', '2011-12-28')\r\n",
        "answer = pd.DataFrame({ 'Date': rng, 'Close-Stock-1': pred_array.flatten()})\r\n",
        "answer"
      ],
      "execution_count": null,
      "outputs": [
        {
          "output_type": "execute_result",
          "data": {
            "text/html": [
              "<div>\n",
              "<style scoped>\n",
              "    .dataframe tbody tr th:only-of-type {\n",
              "        vertical-align: middle;\n",
              "    }\n",
              "\n",
              "    .dataframe tbody tr th {\n",
              "        vertical-align: top;\n",
              "    }\n",
              "\n",
              "    .dataframe thead th {\n",
              "        text-align: right;\n",
              "    }\n",
              "</style>\n",
              "<table border=\"1\" class=\"dataframe\">\n",
              "  <thead>\n",
              "    <tr style=\"text-align: right;\">\n",
              "      <th></th>\n",
              "      <th>Close-Stock-1</th>\n",
              "    </tr>\n",
              "    <tr>\n",
              "      <th>Date</th>\n",
              "      <th></th>\n",
              "    </tr>\n",
              "  </thead>\n",
              "  <tbody>\n",
              "    <tr>\n",
              "      <th>2011-08-04</th>\n",
              "      <td>447.116699</td>\n",
              "    </tr>\n",
              "    <tr>\n",
              "      <th>2011-08-05</th>\n",
              "      <td>447.375732</td>\n",
              "    </tr>\n",
              "    <tr>\n",
              "      <th>2011-08-06</th>\n",
              "      <td>447.353271</td>\n",
              "    </tr>\n",
              "    <tr>\n",
              "      <th>2011-08-07</th>\n",
              "      <td>447.063232</td>\n",
              "    </tr>\n",
              "    <tr>\n",
              "      <th>2011-08-08</th>\n",
              "      <td>446.987183</td>\n",
              "    </tr>\n",
              "    <tr>\n",
              "      <th>...</th>\n",
              "      <td>...</td>\n",
              "    </tr>\n",
              "    <tr>\n",
              "      <th>2011-12-24</th>\n",
              "      <td>446.811157</td>\n",
              "    </tr>\n",
              "    <tr>\n",
              "      <th>2011-12-25</th>\n",
              "      <td>446.811157</td>\n",
              "    </tr>\n",
              "    <tr>\n",
              "      <th>2011-12-26</th>\n",
              "      <td>446.811279</td>\n",
              "    </tr>\n",
              "    <tr>\n",
              "      <th>2011-12-27</th>\n",
              "      <td>446.811157</td>\n",
              "    </tr>\n",
              "    <tr>\n",
              "      <th>2011-12-28</th>\n",
              "      <td>446.811157</td>\n",
              "    </tr>\n",
              "  </tbody>\n",
              "</table>\n",
              "<p>147 rows × 1 columns</p>\n",
              "</div>"
            ],
            "text/plain": [
              "            Close-Stock-1\n",
              "Date                     \n",
              "2011-08-04     447.116699\n",
              "2011-08-05     447.375732\n",
              "2011-08-06     447.353271\n",
              "2011-08-07     447.063232\n",
              "2011-08-08     446.987183\n",
              "...                   ...\n",
              "2011-12-24     446.811157\n",
              "2011-12-25     446.811157\n",
              "2011-12-26     446.811279\n",
              "2011-12-27     446.811157\n",
              "2011-12-28     446.811157\n",
              "\n",
              "[147 rows x 1 columns]"
            ]
          },
          "metadata": {
            "tags": []
          },
          "execution_count": 44
        }
      ]
    },
    {
      "cell_type": "markdown",
      "metadata": {
        "id": "apw_64bsSnOy"
      },
      "source": [
        "# Stock 2"
      ]
    },
    {
      "cell_type": "code",
      "metadata": {
        "colab": {
          "base_uri": "https://localhost:8080/",
          "height": 204
        },
        "id": "D2TMp65OSnP1",
        "outputId": "78d35af9-a809-491d-cb5d-ff8cf2752d73"
      },
      "source": [
        "df2= result.loc[:,['Date','Close-Stock-2']]\r\n",
        "df2.head()"
      ],
      "execution_count": null,
      "outputs": [
        {
          "output_type": "execute_result",
          "data": {
            "text/html": [
              "<div>\n",
              "<style scoped>\n",
              "    .dataframe tbody tr th:only-of-type {\n",
              "        vertical-align: middle;\n",
              "    }\n",
              "\n",
              "    .dataframe tbody tr th {\n",
              "        vertical-align: top;\n",
              "    }\n",
              "\n",
              "    .dataframe thead th {\n",
              "        text-align: right;\n",
              "    }\n",
              "</style>\n",
              "<table border=\"1\" class=\"dataframe\">\n",
              "  <thead>\n",
              "    <tr style=\"text-align: right;\">\n",
              "      <th></th>\n",
              "      <th>Date</th>\n",
              "      <th>Close-Stock-1</th>\n",
              "    </tr>\n",
              "  </thead>\n",
              "  <tbody>\n",
              "    <tr>\n",
              "      <th>0</th>\n",
              "      <td>2010-06-01</td>\n",
              "      <td>1855.10</td>\n",
              "    </tr>\n",
              "    <tr>\n",
              "      <th>1</th>\n",
              "      <td>2010-06-02</td>\n",
              "      <td>1853.05</td>\n",
              "    </tr>\n",
              "    <tr>\n",
              "      <th>2</th>\n",
              "      <td>2010-06-03</td>\n",
              "      <td>1905.60</td>\n",
              "    </tr>\n",
              "    <tr>\n",
              "      <th>3</th>\n",
              "      <td>2010-06-04</td>\n",
              "      <td>1885.70</td>\n",
              "    </tr>\n",
              "    <tr>\n",
              "      <th>4</th>\n",
              "      <td>2010-06-07</td>\n",
              "      <td>1876.65</td>\n",
              "    </tr>\n",
              "  </tbody>\n",
              "</table>\n",
              "</div>"
            ],
            "text/plain": [
              "        Date  Close-Stock-1\n",
              "0 2010-06-01        1855.10\n",
              "1 2010-06-02        1853.05\n",
              "2 2010-06-03        1905.60\n",
              "3 2010-06-04        1885.70\n",
              "4 2010-06-07        1876.65"
            ]
          },
          "metadata": {
            "tags": []
          },
          "execution_count": 26
        }
      ]
    },
    {
      "cell_type": "code",
      "metadata": {
        "id": "g3KXdJ08SnP_"
      },
      "source": [
        "idx = pd.date_range(df2.Date.min(), df2.Date.max())\r\n",
        "df2.set_index('Date', inplace=True)"
      ],
      "execution_count": null,
      "outputs": []
    },
    {
      "cell_type": "markdown",
      "metadata": {
        "id": "U7kTAa1SSnQH"
      },
      "source": [
        "**Cubic Spline interpolation**"
      ]
    },
    {
      "cell_type": "code",
      "metadata": {
        "colab": {
          "base_uri": "https://localhost:8080/",
          "height": 450
        },
        "id": "J6eT8WZ_SnQJ",
        "outputId": "c8ba7a8c-d836-4429-eeca-8c121a6f5aca"
      },
      "source": [
        "df2 = df2.reindex(idx)\r\n",
        "df2.index.name = 'Date'\r\n",
        "# df1= df1.replace({0:np.NaN})\r\n",
        "df2= df2.interpolate(method='spline', order=3, s=0.)\r\n",
        "df2 = df2.round(2)\r\n",
        "df2"
      ],
      "execution_count": null,
      "outputs": [
        {
          "output_type": "execute_result",
          "data": {
            "text/html": [
              "<div>\n",
              "<style scoped>\n",
              "    .dataframe tbody tr th:only-of-type {\n",
              "        vertical-align: middle;\n",
              "    }\n",
              "\n",
              "    .dataframe tbody tr th {\n",
              "        vertical-align: top;\n",
              "    }\n",
              "\n",
              "    .dataframe thead th {\n",
              "        text-align: right;\n",
              "    }\n",
              "</style>\n",
              "<table border=\"1\" class=\"dataframe\">\n",
              "  <thead>\n",
              "    <tr style=\"text-align: right;\">\n",
              "      <th></th>\n",
              "      <th>Close-Stock-1</th>\n",
              "    </tr>\n",
              "    <tr>\n",
              "      <th>Date</th>\n",
              "      <th></th>\n",
              "    </tr>\n",
              "  </thead>\n",
              "  <tbody>\n",
              "    <tr>\n",
              "      <th>2010-06-01</th>\n",
              "      <td>1855.10</td>\n",
              "    </tr>\n",
              "    <tr>\n",
              "      <th>2010-06-02</th>\n",
              "      <td>1853.05</td>\n",
              "    </tr>\n",
              "    <tr>\n",
              "      <th>2010-06-03</th>\n",
              "      <td>1905.60</td>\n",
              "    </tr>\n",
              "    <tr>\n",
              "      <th>2010-06-04</th>\n",
              "      <td>1885.70</td>\n",
              "    </tr>\n",
              "    <tr>\n",
              "      <th>2010-06-05</th>\n",
              "      <td>1873.50</td>\n",
              "    </tr>\n",
              "    <tr>\n",
              "      <th>...</th>\n",
              "      <td>...</td>\n",
              "    </tr>\n",
              "    <tr>\n",
              "      <th>2011-07-30</th>\n",
              "      <td>490.04</td>\n",
              "    </tr>\n",
              "    <tr>\n",
              "      <th>2011-07-31</th>\n",
              "      <td>490.67</td>\n",
              "    </tr>\n",
              "    <tr>\n",
              "      <th>2011-08-01</th>\n",
              "      <td>488.00</td>\n",
              "    </tr>\n",
              "    <tr>\n",
              "      <th>2011-08-02</th>\n",
              "      <td>482.85</td>\n",
              "    </tr>\n",
              "    <tr>\n",
              "      <th>2011-08-03</th>\n",
              "      <td>482.05</td>\n",
              "    </tr>\n",
              "  </tbody>\n",
              "</table>\n",
              "<p>429 rows × 1 columns</p>\n",
              "</div>"
            ],
            "text/plain": [
              "            Close-Stock-1\n",
              "Date                     \n",
              "2010-06-01        1855.10\n",
              "2010-06-02        1853.05\n",
              "2010-06-03        1905.60\n",
              "2010-06-04        1885.70\n",
              "2010-06-05        1873.50\n",
              "...                   ...\n",
              "2011-07-30         490.04\n",
              "2011-07-31         490.67\n",
              "2011-08-01         488.00\n",
              "2011-08-02         482.85\n",
              "2011-08-03         482.05\n",
              "\n",
              "[429 rows x 1 columns]"
            ]
          },
          "metadata": {
            "tags": []
          },
          "execution_count": 28
        }
      ]
    },
    {
      "cell_type": "code",
      "metadata": {
        "colab": {
          "base_uri": "https://localhost:8080/"
        },
        "id": "frvJWzUVSnQM",
        "outputId": "1437650e-3cfa-4505-de95-f849d5e664dd"
      },
      "source": [
        "array = df2.to_numpy().reshape(-1,1)\r\n",
        "array.shape"
      ],
      "execution_count": null,
      "outputs": [
        {
          "output_type": "execute_result",
          "data": {
            "text/plain": [
              "(429, 1)"
            ]
          },
          "metadata": {
            "tags": []
          },
          "execution_count": 29
        }
      ]
    },
    {
      "cell_type": "code",
      "metadata": {
        "id": "93BAwOKQSnQP"
      },
      "source": [
        "#taking mean and standered deviation\r\n",
        "array_mean = array.mean()\r\n",
        "array_std = array.std()\r\n",
        "#normalizing the data\r\n",
        "array = (array-array_mean)/array_std"
      ],
      "execution_count": null,
      "outputs": []
    },
    {
      "cell_type": "code",
      "metadata": {
        "id": "AXNnxM88SnQR"
      },
      "source": [
        "def univariate_data(dataset, start_index, end_index, history_size, target_size):\r\n",
        "  data = []\r\n",
        "  labels = []\r\n",
        "\r\n",
        "  start_index = start_index + history_size\r\n",
        "  if end_index is None:\r\n",
        "    end_index = len(dataset) - target_size\r\n",
        "\r\n",
        "  for i in range(start_index, end_index):\r\n",
        "    indices = range(i-history_size, i)\r\n",
        "    # Reshape data from (history_size,) to (history_size, 1)\r\n",
        "    data.append(np.reshape(dataset[indices], (history_size, 1)))\r\n",
        "    labels.append(dataset[i+target_size])\r\n",
        "  return np.array(data), np.array(labels)"
      ],
      "execution_count": null,
      "outputs": []
    },
    {
      "cell_type": "code",
      "metadata": {
        "id": "GwG_1pB4SnQT"
      },
      "source": [
        "univariate_past_history = 12\r\n",
        "univariate_future_target = 0\r\n",
        "\r\n",
        "x, y = univariate_data(array, 0, None, univariate_past_history, univariate_future_target)"
      ],
      "execution_count": null,
      "outputs": []
    },
    {
      "cell_type": "code",
      "metadata": {
        "colab": {
          "base_uri": "https://localhost:8080/"
        },
        "id": "gZG8xt1oSnQV",
        "outputId": "2471a9b7-1191-4f3a-bea0-21737230c8ed"
      },
      "source": [
        "print('X Shape:',x.shape)\r\n",
        "print('Y Shape:',y.shape)"
      ],
      "execution_count": null,
      "outputs": [
        {
          "output_type": "stream",
          "text": [
            "X Shape: (417, 12, 1)\n",
            "Y Shape: (417, 1)\n"
          ],
          "name": "stdout"
        }
      ]
    },
    {
      "cell_type": "markdown",
      "metadata": {
        "id": "Z__WEKlsSnQY"
      },
      "source": [
        "**Learning Rate Scheduling**"
      ]
    },
    {
      "cell_type": "code",
      "metadata": {
        "colab": {
          "base_uri": "https://localhost:8080/"
        },
        "id": "lvzvjOT1SnQa",
        "outputId": "21d41a30-fc85-4985-f0be-c6ce5339528b"
      },
      "source": [
        "tf.keras.backend.clear_session()\n",
        "\n",
        "#creating model\n",
        "model= tf.keras.models.Sequential([\n",
        "                                   tf.keras.layers.Lambda(lambda x: tf.expand_dims(x,axis=-1), input_shape=[None]),\n",
        "                                   tf.keras.layers.Bidirectional(tf.keras.layers.LSTM(24, activation='relu', dropout=0.25, recurrent_dropout=0.3, return_sequences=True)),\n",
        "                                   tf.keras.layers.Bidirectional(tf.keras.layers.LSTM(12, activation='relu', dropout=0.25, recurrent_dropout=0.3, return_sequences=True)),\n",
        "                                   tf.keras.layers.LSTM(12, activation='relu', dropout=0.25, recurrent_dropout=0.1),\n",
        "                                   tf.keras.layers.LSTM(6, activation='relu', dropout=0.25, recurrent_dropout=0.1),\n",
        "                                   tf.keras.layers.Dropout(0.15),\n",
        "                                   tf.keras.layers.Dense(1),\n",
        "                                   ])\n",
        "lr_schedular= tf.keras.callbacks.LearningRateScheduler(lambda x: 1e-6*10**(x/20))\n",
        "\n",
        "adam= tf.keras.optimizers.Adam(lr=1e-6)\n",
        "model.compile(optimizer= adam, loss= 'mse')\n",
        "#Smodel.build(input_shape)\n",
        "model.summary()"
      ],
      "execution_count": null,
      "outputs": [
        {
          "output_type": "stream",
          "text": [
            "Model: \"sequential\"\n",
            "_________________________________________________________________\n",
            "Layer (type)                 Output Shape              Param #   \n",
            "=================================================================\n",
            "lambda (Lambda)              (None, None, 1)           0         \n",
            "_________________________________________________________________\n",
            "bidirectional (Bidirectional (None, None, 48)          4992      \n",
            "_________________________________________________________________\n",
            "bidirectional_1 (Bidirection (None, None, 24)          5856      \n",
            "_________________________________________________________________\n",
            "lstm_2 (LSTM)                (None, 12)                1776      \n",
            "_________________________________________________________________\n",
            "dropout (Dropout)            (None, 12)                0         \n",
            "_________________________________________________________________\n",
            "dense (Dense)                (None, 1)                 13        \n",
            "=================================================================\n",
            "Total params: 12,637\n",
            "Trainable params: 12,637\n",
            "Non-trainable params: 0\n",
            "_________________________________________________________________\n"
          ],
          "name": "stdout"
        }
      ]
    },
    {
      "cell_type": "code",
      "metadata": {
        "id": "3ij5BQxaSnQd"
      },
      "source": [
        "history= model.fit(x, y, epochs= 125, callbacks= [lr_schedular], verbose=0)"
      ],
      "execution_count": null,
      "outputs": []
    },
    {
      "cell_type": "code",
      "metadata": {
        "colab": {
          "base_uri": "https://localhost:8080/"
        },
        "id": "nwJJORr_SnQf",
        "outputId": "bec80c6f-1ced-43bc-8c70-85ccd7db699c"
      },
      "source": [
        "loss= min(history.history['loss'])\n",
        "losses= history.history['loss']\n",
        "index=losses.index(loss)\n",
        "lrs= history.history['lr']\n",
        "count=0\n",
        "for i in lrs:\n",
        "  if count==index:\n",
        "    lr=i\n",
        "    break\n",
        "  count+=1\n",
        "print(lr)\n",
        "print(loss)"
      ],
      "execution_count": null,
      "outputs": [
        {
          "output_type": "stream",
          "text": [
            "0.028183829\n",
            "0.1458841860294342\n"
          ],
          "name": "stdout"
        }
      ]
    },
    {
      "cell_type": "code",
      "metadata": {
        "colab": {
          "base_uri": "https://localhost:8080/",
          "height": 498
        },
        "id": "pW12rtkASnQh",
        "outputId": "3ec4ce1a-0536-4a9f-a27f-ed5cb28411c8"
      },
      "source": [
        "lrs= 1e-8*(10**(np.arange(125)/20))\n",
        "plt.semilogx(lrs, history.history[\"loss\"], label='Loss')\n",
        "plt.legend(loc='best')\n",
        "plt.grid(True)"
      ],
      "execution_count": null,
      "outputs": [
        {
          "output_type": "display_data",
          "data": {
            "image/png": "[encoded data removed]",
            "text/plain": [
              "<Figure size 720x576 with 1 Axes>"
            ]
          },
          "metadata": {
            "tags": [],
            "needs_background": "light"
          }
        }
      ]
    },
    {
      "cell_type": "markdown",
      "metadata": {
        "id": "_yw2H2UXSnQk"
      },
      "source": [
        "**Model Training**"
      ]
    },
    {
      "cell_type": "code",
      "metadata": {
        "colab": {
          "base_uri": "https://localhost:8080/"
        },
        "id": "y2Z2-MggSnQl",
        "outputId": "54f0f646-3e3a-4af7-d009-c2603786af88"
      },
      "source": [
        "tf.keras.backend.clear_session()\n",
        "\n",
        "#creating model\n",
        "model= tf.keras.models.Sequential([\n",
        "                                   tf.keras.layers.Lambda(lambda x: tf.expand_dims(x,axis=-1), input_shape=[None]),\n",
        "                                   tf.keras.layers.Bidirectional(tf.keras.layers.LSTM(24, activation='relu', dropout=0.25, recurrent_dropout=0.3, return_sequences=True)),\n",
        "                                   tf.keras.layers.Bidirectional(tf.keras.layers.LSTM(12, activation='relu', dropout=0.25, recurrent_dropout=0.3, return_sequences=True)),\n",
        "                                   tf.keras.layers.LSTM(12, activation='relu', dropout=0.25, recurrent_dropout=0.1),\n",
        "                                   tf.keras.layers.LSTM(12, activation='relu', dropout=0.25, recurrent_dropout=0.1),\n",
        "                                   tf.keras.layers.Dropout(0.15),\n",
        "                                   tf.keras.layers.Dense(1),\n",
        "                                   ])\n",
        "\n",
        "adam= tf.keras.optimizers.Adam(lr=lr)\n",
        "model.compile(optimizer= adam, loss= 'mse')\n",
        "#Smodel.build(input_shape)\n",
        "model.summary()"
      ],
      "execution_count": null,
      "outputs": [
        {
          "output_type": "stream",
          "text": [
            "Model: \"sequential\"\n",
            "_________________________________________________________________\n",
            "Layer (type)                 Output Shape              Param #   \n",
            "=================================================================\n",
            "lambda (Lambda)              (None, None, 1)           0         \n",
            "_________________________________________________________________\n",
            "bidirectional (Bidirectional (None, None, 48)          4992      \n",
            "_________________________________________________________________\n",
            "bidirectional_1 (Bidirection (None, None, 24)          5856      \n",
            "_________________________________________________________________\n",
            "lstm_2 (LSTM)                (None, 12)                1776      \n",
            "_________________________________________________________________\n",
            "dropout (Dropout)            (None, 12)                0         \n",
            "_________________________________________________________________\n",
            "dense (Dense)                (None, 1)                 13        \n",
            "=================================================================\n",
            "Total params: 12,637\n",
            "Trainable params: 12,637\n",
            "Non-trainable params: 0\n",
            "_________________________________________________________________\n"
          ],
          "name": "stdout"
        }
      ]
    },
    {
      "cell_type": "code",
      "metadata": {
        "id": "EYbSEBeASnQp"
      },
      "source": [
        "history= model.fit(x,y, epochs= 300, verbose=0)"
      ],
      "execution_count": null,
      "outputs": []
    },
    {
      "cell_type": "code",
      "metadata": {
        "colab": {
          "base_uri": "https://localhost:8080/",
          "height": 487
        },
        "id": "Vp7qJXDoSnQq",
        "outputId": "4464153a-a22c-49f4-b8d3-1967f2d065a9"
      },
      "source": [
        "epochs= range(1,301)\n",
        "plt.semilogx(epochs, history.history[\"loss\"], label='Loss')\n",
        "plt.legend(loc='best')\n",
        "plt.grid(True)"
      ],
      "execution_count": null,
      "outputs": [
        {
          "output_type": "display_data",
          "data": {
            "image/png": "[encoded data removed]",
            "text/plain": [
              "<Figure size 720x576 with 1 Axes>"
            ]
          },
          "metadata": {
            "tags": [],
            "needs_background": "light"
          }
        }
      ]
    },
    {
      "cell_type": "code",
      "metadata": {
        "colab": {
          "base_uri": "https://localhost:8080/",
          "height": 534
        },
        "id": "08H7t52ESnQs",
        "outputId": "3369c6ea-4f3c-4677-ee10-f41cb63ff63b"
      },
      "source": [
        "numbers=range(1, 430)\n",
        "num= range(13,430)\n",
        "plt.figure()\n",
        "print(x.shape)\n",
        "y_pred= model.predict(x)\n",
        "print(y_pred.shape)\n",
        "plt.plot(numbers,array)\n",
        "plt.plot(num,y_pred,'r')\n",
        "plt.plot()"
      ],
      "execution_count": null,
      "outputs": [
        {
          "output_type": "stream",
          "text": [
            "(417, 12, 1)\n",
            "(417, 1)\n"
          ],
          "name": "stdout"
        },
        {
          "output_type": "execute_result",
          "data": {
            "text/plain": [
              "[]"
            ]
          },
          "metadata": {
            "tags": []
          },
          "execution_count": 41
        },
        {
          "output_type": "display_data",
          "data": {
            "image/png": "[encoded data removed]",
            "text/plain": [
              "<Figure size 720x576 with 1 Axes>"
            ]
          },
          "metadata": {
            "tags": [],
            "needs_background": "light"
          }
        }
      ]
    },
    {
      "cell_type": "markdown",
      "metadata": {
        "id": "_PwoEWC7SnQv"
      },
      "source": [
        "**Test Phase**"
      ]
    },
    {
      "cell_type": "code",
      "metadata": {
        "colab": {
          "base_uri": "https://localhost:8080/",
          "height": 500
        },
        "id": "7wB4JwarSnQw",
        "outputId": "d3eec777-e6fc-4de3-cb37-8102a8617931"
      },
      "source": [
        "numbers=range(1, 430)\r\n",
        "num= range(13,430)\r\n",
        "pred= range(430,577)\r\n",
        "plot_pred=[]\r\n",
        "real_val=[]\r\n",
        "plt.figure()\r\n",
        "y_pred= model.predict(x)\r\n",
        "plt.plot(numbers,array)\r\n",
        "plt.plot(num,y_pred,'r')\r\n",
        "x_new= array[416: len(array)-1]\r\n",
        "for i in range(147):\r\n",
        "  x_new= x_new.reshape(1,12,1)\r\n",
        "  y_new= model.predict(x_new)\r\n",
        "  x_new= x_new[0][1:]\r\n",
        "  x_new= np.append(x_new, y_new)\r\n",
        "  y_new= y_new.reshape(1,)\r\n",
        "  real= y_new*array_std+array_mean\r\n",
        "  plot_pred.append(y_new)\r\n",
        "  real_val.append(real)\r\n",
        "\r\n",
        "plt.plot(pred, plot_pred, color='#00ff00')\r\n",
        "plt.plot()"
      ],
      "execution_count": null,
      "outputs": [
        {
          "output_type": "execute_result",
          "data": {
            "text/plain": [
              "[]"
            ]
          },
          "metadata": {
            "tags": []
          },
          "execution_count": 42
        },
        {
          "output_type": "display_data",
          "data": {
            "image/png": "[encoded data removed]",
            "text/plain": [
              "<Figure size 720x576 with 1 Axes>"
            ]
          },
          "metadata": {
            "tags": [],
            "needs_background": "light"
          }
        }
      ]
    },
    {
      "cell_type": "code",
      "metadata": {
        "colab": {
          "base_uri": "https://localhost:8080/"
        },
        "id": "buXyQb2pSnQz",
        "outputId": "4193cf9a-1d1f-41ca-913f-d6aa737759ea"
      },
      "source": [
        "pred_array = np.array(real_val)\r\n",
        "pred_array.shape"
      ],
      "execution_count": null,
      "outputs": [
        {
          "output_type": "execute_result",
          "data": {
            "text/plain": [
              "(147, 1)"
            ]
          },
          "metadata": {
            "tags": []
          },
          "execution_count": 43
        }
      ]
    },
    {
      "cell_type": "code",
      "metadata": {
        "colab": {
          "base_uri": "https://localhost:8080/",
          "height": 450
        },
        "id": "5kgS8GuMSnQ1",
        "outputId": "f98f9099-61be-485a-c9ea-a2c53d64d24a"
      },
      "source": [
        "answer['Close-Stock-2'] = pred_array.flatten()\r\n",
        "answer"
      ],
      "execution_count": null,
      "outputs": [
        {
          "output_type": "execute_result",
          "data": {
            "text/html": [
              "<div>\n",
              "<style scoped>\n",
              "    .dataframe tbody tr th:only-of-type {\n",
              "        vertical-align: middle;\n",
              "    }\n",
              "\n",
              "    .dataframe tbody tr th {\n",
              "        vertical-align: top;\n",
              "    }\n",
              "\n",
              "    .dataframe thead th {\n",
              "        text-align: right;\n",
              "    }\n",
              "</style>\n",
              "<table border=\"1\" class=\"dataframe\">\n",
              "  <thead>\n",
              "    <tr style=\"text-align: right;\">\n",
              "      <th></th>\n",
              "      <th>Close-Stock-1</th>\n",
              "    </tr>\n",
              "    <tr>\n",
              "      <th>Date</th>\n",
              "      <th></th>\n",
              "    </tr>\n",
              "  </thead>\n",
              "  <tbody>\n",
              "    <tr>\n",
              "      <th>2011-08-04</th>\n",
              "      <td>447.116699</td>\n",
              "    </tr>\n",
              "    <tr>\n",
              "      <th>2011-08-05</th>\n",
              "      <td>447.375732</td>\n",
              "    </tr>\n",
              "    <tr>\n",
              "      <th>2011-08-06</th>\n",
              "      <td>447.353271</td>\n",
              "    </tr>\n",
              "    <tr>\n",
              "      <th>2011-08-07</th>\n",
              "      <td>447.063232</td>\n",
              "    </tr>\n",
              "    <tr>\n",
              "      <th>2011-08-08</th>\n",
              "      <td>446.987183</td>\n",
              "    </tr>\n",
              "    <tr>\n",
              "      <th>...</th>\n",
              "      <td>...</td>\n",
              "    </tr>\n",
              "    <tr>\n",
              "      <th>2011-12-24</th>\n",
              "      <td>446.811157</td>\n",
              "    </tr>\n",
              "    <tr>\n",
              "      <th>2011-12-25</th>\n",
              "      <td>446.811157</td>\n",
              "    </tr>\n",
              "    <tr>\n",
              "      <th>2011-12-26</th>\n",
              "      <td>446.811279</td>\n",
              "    </tr>\n",
              "    <tr>\n",
              "      <th>2011-12-27</th>\n",
              "      <td>446.811157</td>\n",
              "    </tr>\n",
              "    <tr>\n",
              "      <th>2011-12-28</th>\n",
              "      <td>446.811157</td>\n",
              "    </tr>\n",
              "  </tbody>\n",
              "</table>\n",
              "<p>147 rows × 1 columns</p>\n",
              "</div>"
            ],
            "text/plain": [
              "            Close-Stock-1\n",
              "Date                     \n",
              "2011-08-04     447.116699\n",
              "2011-08-05     447.375732\n",
              "2011-08-06     447.353271\n",
              "2011-08-07     447.063232\n",
              "2011-08-08     446.987183\n",
              "...                   ...\n",
              "2011-12-24     446.811157\n",
              "2011-12-25     446.811157\n",
              "2011-12-26     446.811279\n",
              "2011-12-27     446.811157\n",
              "2011-12-28     446.811157\n",
              "\n",
              "[147 rows x 1 columns]"
            ]
          },
          "metadata": {
            "tags": []
          },
          "execution_count": 44
        }
      ]
    },
    {
      "cell_type": "markdown",
      "metadata": {
        "id": "ckq25sOEUKo1"
      },
      "source": [
        "# Stock 3"
      ]
    },
    {
      "cell_type": "code",
      "metadata": {
        "colab": {
          "base_uri": "https://localhost:8080/",
          "height": 204
        },
        "id": "QcnC5kY4UKp8",
        "outputId": "78d35af9-a809-491d-cb5d-ff8cf2752d73"
      },
      "source": [
        "df3= result.loc[:,['Date','Close-Stock-3']]\r\n",
        "df3.head()"
      ],
      "execution_count": null,
      "outputs": [
        {
          "output_type": "execute_result",
          "data": {
            "text/html": [
              "<div>\n",
              "<style scoped>\n",
              "    .dataframe tbody tr th:only-of-type {\n",
              "        vertical-align: middle;\n",
              "    }\n",
              "\n",
              "    .dataframe tbody tr th {\n",
              "        vertical-align: top;\n",
              "    }\n",
              "\n",
              "    .dataframe thead th {\n",
              "        text-align: right;\n",
              "    }\n",
              "</style>\n",
              "<table border=\"1\" class=\"dataframe\">\n",
              "  <thead>\n",
              "    <tr style=\"text-align: right;\">\n",
              "      <th></th>\n",
              "      <th>Date</th>\n",
              "      <th>Close-Stock-1</th>\n",
              "    </tr>\n",
              "  </thead>\n",
              "  <tbody>\n",
              "    <tr>\n",
              "      <th>0</th>\n",
              "      <td>2010-06-01</td>\n",
              "      <td>1855.10</td>\n",
              "    </tr>\n",
              "    <tr>\n",
              "      <th>1</th>\n",
              "      <td>2010-06-02</td>\n",
              "      <td>1853.05</td>\n",
              "    </tr>\n",
              "    <tr>\n",
              "      <th>2</th>\n",
              "      <td>2010-06-03</td>\n",
              "      <td>1905.60</td>\n",
              "    </tr>\n",
              "    <tr>\n",
              "      <th>3</th>\n",
              "      <td>2010-06-04</td>\n",
              "      <td>1885.70</td>\n",
              "    </tr>\n",
              "    <tr>\n",
              "      <th>4</th>\n",
              "      <td>2010-06-07</td>\n",
              "      <td>1876.65</td>\n",
              "    </tr>\n",
              "  </tbody>\n",
              "</table>\n",
              "</div>"
            ],
            "text/plain": [
              "        Date  Close-Stock-1\n",
              "0 2010-06-01        1855.10\n",
              "1 2010-06-02        1853.05\n",
              "2 2010-06-03        1905.60\n",
              "3 2010-06-04        1885.70\n",
              "4 2010-06-07        1876.65"
            ]
          },
          "metadata": {
            "tags": []
          },
          "execution_count": 26
        }
      ]
    },
    {
      "cell_type": "code",
      "metadata": {
        "id": "MLg87Pz9UKqF"
      },
      "source": [
        "idx = pd.date_range(df3.Date.min(), df3.Date.max())\r\n",
        "df3.set_index('Date', inplace=True)"
      ],
      "execution_count": null,
      "outputs": []
    },
    {
      "cell_type": "markdown",
      "metadata": {
        "id": "5DqOpTDXUKqH"
      },
      "source": [
        "**Cubic Spline interpolation**"
      ]
    },
    {
      "cell_type": "code",
      "metadata": {
        "colab": {
          "base_uri": "https://localhost:8080/",
          "height": 450
        },
        "id": "51j5JrvoUKqJ",
        "outputId": "c8ba7a8c-d836-4429-eeca-8c121a6f5aca"
      },
      "source": [
        "df3 = df3.reindex(idx)\r\n",
        "df3.index.name = 'Date'\r\n",
        "# df1= df1.replace({0:np.NaN})\r\n",
        "df3= df3.interpolate(method='spline', order=3, s=0.)\r\n",
        "df3 = df3.round(2)\r\n",
        "df3"
      ],
      "execution_count": null,
      "outputs": [
        {
          "output_type": "execute_result",
          "data": {
            "text/html": [
              "<div>\n",
              "<style scoped>\n",
              "    .dataframe tbody tr th:only-of-type {\n",
              "        vertical-align: middle;\n",
              "    }\n",
              "\n",
              "    .dataframe tbody tr th {\n",
              "        vertical-align: top;\n",
              "    }\n",
              "\n",
              "    .dataframe thead th {\n",
              "        text-align: right;\n",
              "    }\n",
              "</style>\n",
              "<table border=\"1\" class=\"dataframe\">\n",
              "  <thead>\n",
              "    <tr style=\"text-align: right;\">\n",
              "      <th></th>\n",
              "      <th>Close-Stock-1</th>\n",
              "    </tr>\n",
              "    <tr>\n",
              "      <th>Date</th>\n",
              "      <th></th>\n",
              "    </tr>\n",
              "  </thead>\n",
              "  <tbody>\n",
              "    <tr>\n",
              "      <th>2010-06-01</th>\n",
              "      <td>1855.10</td>\n",
              "    </tr>\n",
              "    <tr>\n",
              "      <th>2010-06-02</th>\n",
              "      <td>1853.05</td>\n",
              "    </tr>\n",
              "    <tr>\n",
              "      <th>2010-06-03</th>\n",
              "      <td>1905.60</td>\n",
              "    </tr>\n",
              "    <tr>\n",
              "      <th>2010-06-04</th>\n",
              "      <td>1885.70</td>\n",
              "    </tr>\n",
              "    <tr>\n",
              "      <th>2010-06-05</th>\n",
              "      <td>1873.50</td>\n",
              "    </tr>\n",
              "    <tr>\n",
              "      <th>...</th>\n",
              "      <td>...</td>\n",
              "    </tr>\n",
              "    <tr>\n",
              "      <th>2011-07-30</th>\n",
              "      <td>490.04</td>\n",
              "    </tr>\n",
              "    <tr>\n",
              "      <th>2011-07-31</th>\n",
              "      <td>490.67</td>\n",
              "    </tr>\n",
              "    <tr>\n",
              "      <th>2011-08-01</th>\n",
              "      <td>488.00</td>\n",
              "    </tr>\n",
              "    <tr>\n",
              "      <th>2011-08-02</th>\n",
              "      <td>482.85</td>\n",
              "    </tr>\n",
              "    <tr>\n",
              "      <th>2011-08-03</th>\n",
              "      <td>482.05</td>\n",
              "    </tr>\n",
              "  </tbody>\n",
              "</table>\n",
              "<p>429 rows × 1 columns</p>\n",
              "</div>"
            ],
            "text/plain": [
              "            Close-Stock-1\n",
              "Date                     \n",
              "2010-06-01        1855.10\n",
              "2010-06-02        1853.05\n",
              "2010-06-03        1905.60\n",
              "2010-06-04        1885.70\n",
              "2010-06-05        1873.50\n",
              "...                   ...\n",
              "2011-07-30         490.04\n",
              "2011-07-31         490.67\n",
              "2011-08-01         488.00\n",
              "2011-08-02         482.85\n",
              "2011-08-03         482.05\n",
              "\n",
              "[429 rows x 1 columns]"
            ]
          },
          "metadata": {
            "tags": []
          },
          "execution_count": 28
        }
      ]
    },
    {
      "cell_type": "code",
      "metadata": {
        "colab": {
          "base_uri": "https://localhost:8080/"
        },
        "id": "hrPj02oJUKqM",
        "outputId": "1437650e-3cfa-4505-de95-f849d5e664dd"
      },
      "source": [
        "array = df3.to_numpy().reshape(-1,1)\r\n",
        "array.shape"
      ],
      "execution_count": null,
      "outputs": [
        {
          "output_type": "execute_result",
          "data": {
            "text/plain": [
              "(429, 1)"
            ]
          },
          "metadata": {
            "tags": []
          },
          "execution_count": 29
        }
      ]
    },
    {
      "cell_type": "code",
      "metadata": {
        "id": "7axlHP7aUKqR"
      },
      "source": [
        "#taking mean and standered deviation\r\n",
        "array_mean = array.mean()\r\n",
        "array_std = array.std()\r\n",
        "#normalizing the data\r\n",
        "array = (array-array_mean)/array_std"
      ],
      "execution_count": null,
      "outputs": []
    },
    {
      "cell_type": "code",
      "metadata": {
        "id": "obnoFQdLUKqT"
      },
      "source": [
        "def univariate_data(dataset, start_index, end_index, history_size, target_size):\r\n",
        "  data = []\r\n",
        "  labels = []\r\n",
        "\r\n",
        "  start_index = start_index + history_size\r\n",
        "  if end_index is None:\r\n",
        "    end_index = len(dataset) - target_size\r\n",
        "\r\n",
        "  for i in range(start_index, end_index):\r\n",
        "    indices = range(i-history_size, i)\r\n",
        "    # Reshape data from (history_size,) to (history_size, 1)\r\n",
        "    data.append(np.reshape(dataset[indices], (history_size, 1)))\r\n",
        "    labels.append(dataset[i+target_size])\r\n",
        "  return np.array(data), np.array(labels)"
      ],
      "execution_count": null,
      "outputs": []
    },
    {
      "cell_type": "code",
      "metadata": {
        "id": "vlsYh8wVUKqV"
      },
      "source": [
        "univariate_past_history = 12\r\n",
        "univariate_future_target = 0\r\n",
        "\r\n",
        "x, y = univariate_data(array, 0, None, univariate_past_history, univariate_future_target)"
      ],
      "execution_count": null,
      "outputs": []
    },
    {
      "cell_type": "code",
      "metadata": {
        "colab": {
          "base_uri": "https://localhost:8080/"
        },
        "id": "qnsiV7p_UKqX",
        "outputId": "2471a9b7-1191-4f3a-bea0-21737230c8ed"
      },
      "source": [
        "print('X Shape:',x.shape)\r\n",
        "print('Y Shape:',y.shape)"
      ],
      "execution_count": null,
      "outputs": [
        {
          "output_type": "stream",
          "text": [
            "X Shape: (417, 12, 1)\n",
            "Y Shape: (417, 1)\n"
          ],
          "name": "stdout"
        }
      ]
    },
    {
      "cell_type": "markdown",
      "metadata": {
        "id": "SU21U7AjUKqa"
      },
      "source": [
        "**Learning Rate Scheduling**"
      ]
    },
    {
      "cell_type": "code",
      "metadata": {
        "colab": {
          "base_uri": "https://localhost:8080/"
        },
        "id": "9WHxltDLUKqc",
        "outputId": "21d41a30-fc85-4985-f0be-c6ce5339528b"
      },
      "source": [
        "tf.keras.backend.clear_session()\n",
        "\n",
        "#creating model\n",
        "model= tf.keras.models.Sequential([\n",
        "                                   tf.keras.layers.Lambda(lambda x: tf.expand_dims(x,axis=-1), input_shape=[None]),\n",
        "                                   tf.keras.layers.Bidirectional(tf.keras.layers.LSTM(24, activation='relu', dropout=0.25, recurrent_dropout=0.3, return_sequences=True)),\n",
        "                                   tf.keras.layers.Bidirectional(tf.keras.layers.LSTM(12, activation='relu', dropout=0.25, recurrent_dropout=0.3, return_sequences=True)),\n",
        "                                   tf.keras.layers.LSTM(12, activation='relu', dropout=0.25, recurrent_dropout=0.1),\n",
        "                                   tf.keras.layers.LSTM(6, activation='relu', dropout=0.25, recurrent_dropout=0.1),\n",
        "                                   tf.keras.layers.Dropout(0.15),\n",
        "                                   tf.keras.layers.Dense(1),\n",
        "                                   ])\n",
        "lr_schedular= tf.keras.callbacks.LearningRateScheduler(lambda x: 1e-6*10**(x/20))\n",
        "\n",
        "adam= tf.keras.optimizers.Adam(lr=1e-6)\n",
        "model.compile(optimizer= adam, loss= 'mse')\n",
        "#Smodel.build(input_shape)\n",
        "model.summary()"
      ],
      "execution_count": null,
      "outputs": [
        {
          "output_type": "stream",
          "text": [
            "Model: \"sequential\"\n",
            "_________________________________________________________________\n",
            "Layer (type)                 Output Shape              Param #   \n",
            "=================================================================\n",
            "lambda (Lambda)              (None, None, 1)           0         \n",
            "_________________________________________________________________\n",
            "bidirectional (Bidirectional (None, None, 48)          4992      \n",
            "_________________________________________________________________\n",
            "bidirectional_1 (Bidirection (None, None, 24)          5856      \n",
            "_________________________________________________________________\n",
            "lstm_2 (LSTM)                (None, 12)                1776      \n",
            "_________________________________________________________________\n",
            "dropout (Dropout)            (None, 12)                0         \n",
            "_________________________________________________________________\n",
            "dense (Dense)                (None, 1)                 13        \n",
            "=================================================================\n",
            "Total params: 12,637\n",
            "Trainable params: 12,637\n",
            "Non-trainable params: 0\n",
            "_________________________________________________________________\n"
          ],
          "name": "stdout"
        }
      ]
    },
    {
      "cell_type": "code",
      "metadata": {
        "id": "posJwd6jUKqf"
      },
      "source": [
        "history= model.fit(x, y, epochs= 125, callbacks= [lr_schedular], verbose=0)"
      ],
      "execution_count": null,
      "outputs": []
    },
    {
      "cell_type": "code",
      "metadata": {
        "colab": {
          "base_uri": "https://localhost:8080/"
        },
        "id": "aRc0W7z1UKqh",
        "outputId": "bec80c6f-1ced-43bc-8c70-85ccd7db699c"
      },
      "source": [
        "loss= min(history.history['loss'])\n",
        "losses= history.history['loss']\n",
        "index=losses.index(loss)\n",
        "lrs= history.history['lr']\n",
        "count=0\n",
        "for i in lrs:\n",
        "  if count==index:\n",
        "    lr=i\n",
        "    break\n",
        "  count+=1\n",
        "print(lr)\n",
        "print(loss)"
      ],
      "execution_count": null,
      "outputs": [
        {
          "output_type": "stream",
          "text": [
            "0.028183829\n",
            "0.1458841860294342\n"
          ],
          "name": "stdout"
        }
      ]
    },
    {
      "cell_type": "code",
      "metadata": {
        "colab": {
          "base_uri": "https://localhost:8080/",
          "height": 498
        },
        "id": "XDgoF4lGUKqk",
        "outputId": "3ec4ce1a-0536-4a9f-a27f-ed5cb28411c8"
      },
      "source": [
        "lrs= 1e-8*(10**(np.arange(125)/20))\n",
        "plt.semilogx(lrs, history.history[\"loss\"], label='Loss')\n",
        "plt.legend(loc='best')\n",
        "plt.grid(True)"
      ],
      "execution_count": null,
      "outputs": [
        {
          "output_type": "display_data",
          "data": {
            "image/png": "[encoded data removed]",
            "text/plain": [
              "<Figure size 720x576 with 1 Axes>"
            ]
          },
          "metadata": {
            "tags": [],
            "needs_background": "light"
          }
        }
      ]
    },
    {
      "cell_type": "markdown",
      "metadata": {
        "id": "iXA7yQKtUKqm"
      },
      "source": [
        "**Model Training**"
      ]
    },
    {
      "cell_type": "code",
      "metadata": {
        "colab": {
          "base_uri": "https://localhost:8080/"
        },
        "id": "2ToSYmJkUKqo",
        "outputId": "54f0f646-3e3a-4af7-d009-c2603786af88"
      },
      "source": [
        "tf.keras.backend.clear_session()\n",
        "\n",
        "#creating model\n",
        "model= tf.keras.models.Sequential([\n",
        "                                   tf.keras.layers.Lambda(lambda x: tf.expand_dims(x,axis=-1), input_shape=[None]),\n",
        "                                   tf.keras.layers.Bidirectional(tf.keras.layers.LSTM(24, activation='relu', dropout=0.25, recurrent_dropout=0.3, return_sequences=True)),\n",
        "                                   tf.keras.layers.Bidirectional(tf.keras.layers.LSTM(12, activation='relu', dropout=0.25, recurrent_dropout=0.3, return_sequences=True)),\n",
        "                                   tf.keras.layers.LSTM(12, activation='relu', dropout=0.25, recurrent_dropout=0.1),\n",
        "                                   tf.keras.layers.LSTM(12, activation='relu', dropout=0.25, recurrent_dropout=0.1),\n",
        "                                   tf.keras.layers.Dropout(0.15),\n",
        "                                   tf.keras.layers.Dense(1),\n",
        "                                   ])\n",
        "\n",
        "adam= tf.keras.optimizers.Adam(lr=lr)\n",
        "model.compile(optimizer= adam, loss= 'mse')\n",
        "#Smodel.build(input_shape)\n",
        "model.summary()"
      ],
      "execution_count": null,
      "outputs": [
        {
          "output_type": "stream",
          "text": [
            "Model: \"sequential\"\n",
            "_________________________________________________________________\n",
            "Layer (type)                 Output Shape              Param #   \n",
            "=================================================================\n",
            "lambda (Lambda)              (None, None, 1)           0         \n",
            "_________________________________________________________________\n",
            "bidirectional (Bidirectional (None, None, 48)          4992      \n",
            "_________________________________________________________________\n",
            "bidirectional_1 (Bidirection (None, None, 24)          5856      \n",
            "_________________________________________________________________\n",
            "lstm_2 (LSTM)                (None, 12)                1776      \n",
            "_________________________________________________________________\n",
            "dropout (Dropout)            (None, 12)                0         \n",
            "_________________________________________________________________\n",
            "dense (Dense)                (None, 1)                 13        \n",
            "=================================================================\n",
            "Total params: 12,637\n",
            "Trainable params: 12,637\n",
            "Non-trainable params: 0\n",
            "_________________________________________________________________\n"
          ],
          "name": "stdout"
        }
      ]
    },
    {
      "cell_type": "code",
      "metadata": {
        "id": "3TMKcJ0WUKqr"
      },
      "source": [
        "history= model.fit(x,y, epochs= 300, verbose=0)"
      ],
      "execution_count": null,
      "outputs": []
    },
    {
      "cell_type": "code",
      "metadata": {
        "colab": {
          "base_uri": "https://localhost:8080/",
          "height": 487
        },
        "id": "5j6-vM97UKqs",
        "outputId": "4464153a-a22c-49f4-b8d3-1967f2d065a9"
      },
      "source": [
        "epochs= range(1,301)\n",
        "plt.semilogx(epochs, history.history[\"loss\"], label='Loss')\n",
        "plt.legend(loc='best')\n",
        "plt.grid(True)"
      ],
      "execution_count": null,
      "outputs": [
        {
          "output_type": "display_data",
          "data": {
            "image/png": "[encoded data removed]",
            "text/plain": [
              "<Figure size 720x576 with 1 Axes>"
            ]
          },
          "metadata": {
            "tags": [],
            "needs_background": "light"
          }
        }
      ]
    },
    {
      "cell_type": "code",
      "metadata": {
        "colab": {
          "base_uri": "https://localhost:8080/",
          "height": 534
        },
        "id": "xCSLmD7nUKqu",
        "outputId": "3369c6ea-4f3c-4677-ee10-f41cb63ff63b"
      },
      "source": [
        "numbers=range(1, 430)\n",
        "num= range(13,430)\n",
        "plt.figure()\n",
        "print(x.shape)\n",
        "y_pred= model.predict(x)\n",
        "print(y_pred.shape)\n",
        "plt.plot(numbers,array)\n",
        "plt.plot(num,y_pred,'r')\n",
        "plt.plot()"
      ],
      "execution_count": null,
      "outputs": [
        {
          "output_type": "stream",
          "text": [
            "(417, 12, 1)\n",
            "(417, 1)\n"
          ],
          "name": "stdout"
        },
        {
          "output_type": "execute_result",
          "data": {
            "text/plain": [
              "[]"
            ]
          },
          "metadata": {
            "tags": []
          },
          "execution_count": 41
        },
        {
          "output_type": "display_data",
          "data": {
            "image/png": "[encoded data removed]",
            "text/plain": [
              "<Figure size 720x576 with 1 Axes>"
            ]
          },
          "metadata": {
            "tags": [],
            "needs_background": "light"
          }
        }
      ]
    },
    {
      "cell_type": "markdown",
      "metadata": {
        "id": "uTqpNBb8UKqw"
      },
      "source": [
        "**Test Phase**"
      ]
    },
    {
      "cell_type": "code",
      "metadata": {
        "colab": {
          "base_uri": "https://localhost:8080/",
          "height": 500
        },
        "id": "fDNbuhdiUKqx",
        "outputId": "d3eec777-e6fc-4de3-cb37-8102a8617931"
      },
      "source": [
        "numbers=range(1, 430)\r\n",
        "num= range(13,430)\r\n",
        "pred= range(430,577)\r\n",
        "plot_pred=[]\r\n",
        "real_val=[]\r\n",
        "plt.figure()\r\n",
        "y_pred= model.predict(x)\r\n",
        "plt.plot(numbers,array)\r\n",
        "plt.plot(num,y_pred,'r')\r\n",
        "x_new= array[416: len(array)-1]\r\n",
        "for i in range(147):\r\n",
        "  x_new= x_new.reshape(1,12,1)\r\n",
        "  y_new= model.predict(x_new)\r\n",
        "  x_new= x_new[0][1:]\r\n",
        "  x_new= np.append(x_new, y_new)\r\n",
        "  y_new= y_new.reshape(1,)\r\n",
        "  real= y_new*array_std+array_mean\r\n",
        "  plot_pred.append(y_new)\r\n",
        "  real_val.append(real)\r\n",
        "\r\n",
        "plt.plot(pred, plot_pred, color='#00ff00')\r\n",
        "plt.plot()"
      ],
      "execution_count": null,
      "outputs": [
        {
          "output_type": "execute_result",
          "data": {
            "text/plain": [
              "[]"
            ]
          },
          "metadata": {
            "tags": []
          },
          "execution_count": 42
        },
        {
          "output_type": "display_data",
          "data": {
            "image/png": "[encoded data removed]",
            "text/plain": [
              "<Figure size 720x576 with 1 Axes>"
            ]
          },
          "metadata": {
            "tags": [],
            "needs_background": "light"
          }
        }
      ]
    },
    {
      "cell_type": "code",
      "metadata": {
        "colab": {
          "base_uri": "https://localhost:8080/"
        },
        "id": "C7jwKMc1UKqz",
        "outputId": "4193cf9a-1d1f-41ca-913f-d6aa737759ea"
      },
      "source": [
        "pred_array = np.array(real_val)\r\n",
        "pred_array.shape"
      ],
      "execution_count": null,
      "outputs": [
        {
          "output_type": "execute_result",
          "data": {
            "text/plain": [
              "(147, 1)"
            ]
          },
          "metadata": {
            "tags": []
          },
          "execution_count": 43
        }
      ]
    },
    {
      "cell_type": "code",
      "metadata": {
        "colab": {
          "base_uri": "https://localhost:8080/",
          "height": 450
        },
        "id": "8_j_OyR7UKq1",
        "outputId": "f98f9099-61be-485a-c9ea-a2c53d64d24a"
      },
      "source": [
        "answer['Close-Stock-3'] = pred_array.flatten()\r\n",
        "answer"
      ],
      "execution_count": null,
      "outputs": [
        {
          "output_type": "execute_result",
          "data": {
            "text/html": [
              "<div>\n",
              "<style scoped>\n",
              "    .dataframe tbody tr th:only-of-type {\n",
              "        vertical-align: middle;\n",
              "    }\n",
              "\n",
              "    .dataframe tbody tr th {\n",
              "        vertical-align: top;\n",
              "    }\n",
              "\n",
              "    .dataframe thead th {\n",
              "        text-align: right;\n",
              "    }\n",
              "</style>\n",
              "<table border=\"1\" class=\"dataframe\">\n",
              "  <thead>\n",
              "    <tr style=\"text-align: right;\">\n",
              "      <th></th>\n",
              "      <th>Close-Stock-1</th>\n",
              "    </tr>\n",
              "    <tr>\n",
              "      <th>Date</th>\n",
              "      <th></th>\n",
              "    </tr>\n",
              "  </thead>\n",
              "  <tbody>\n",
              "    <tr>\n",
              "      <th>2011-08-04</th>\n",
              "      <td>447.116699</td>\n",
              "    </tr>\n",
              "    <tr>\n",
              "      <th>2011-08-05</th>\n",
              "      <td>447.375732</td>\n",
              "    </tr>\n",
              "    <tr>\n",
              "      <th>2011-08-06</th>\n",
              "      <td>447.353271</td>\n",
              "    </tr>\n",
              "    <tr>\n",
              "      <th>2011-08-07</th>\n",
              "      <td>447.063232</td>\n",
              "    </tr>\n",
              "    <tr>\n",
              "      <th>2011-08-08</th>\n",
              "      <td>446.987183</td>\n",
              "    </tr>\n",
              "    <tr>\n",
              "      <th>...</th>\n",
              "      <td>...</td>\n",
              "    </tr>\n",
              "    <tr>\n",
              "      <th>2011-12-24</th>\n",
              "      <td>446.811157</td>\n",
              "    </tr>\n",
              "    <tr>\n",
              "      <th>2011-12-25</th>\n",
              "      <td>446.811157</td>\n",
              "    </tr>\n",
              "    <tr>\n",
              "      <th>2011-12-26</th>\n",
              "      <td>446.811279</td>\n",
              "    </tr>\n",
              "    <tr>\n",
              "      <th>2011-12-27</th>\n",
              "      <td>446.811157</td>\n",
              "    </tr>\n",
              "    <tr>\n",
              "      <th>2011-12-28</th>\n",
              "      <td>446.811157</td>\n",
              "    </tr>\n",
              "  </tbody>\n",
              "</table>\n",
              "<p>147 rows × 1 columns</p>\n",
              "</div>"
            ],
            "text/plain": [
              "            Close-Stock-1\n",
              "Date                     \n",
              "2011-08-04     447.116699\n",
              "2011-08-05     447.375732\n",
              "2011-08-06     447.353271\n",
              "2011-08-07     447.063232\n",
              "2011-08-08     446.987183\n",
              "...                   ...\n",
              "2011-12-24     446.811157\n",
              "2011-12-25     446.811157\n",
              "2011-12-26     446.811279\n",
              "2011-12-27     446.811157\n",
              "2011-12-28     446.811157\n",
              "\n",
              "[147 rows x 1 columns]"
            ]
          },
          "metadata": {
            "tags": []
          },
          "execution_count": 44
        }
      ]
    },
    {
      "cell_type": "markdown",
      "metadata": {
        "id": "OBOCLJo8UOdf"
      },
      "source": [
        "# Stock 4"
      ]
    },
    {
      "cell_type": "code",
      "metadata": {
        "colab": {
          "base_uri": "https://localhost:8080/",
          "height": 204
        },
        "id": "VpFolYYwUOdi",
        "outputId": "78d35af9-a809-491d-cb5d-ff8cf2752d73"
      },
      "source": [
        "df4= result.loc[:,['Date','Close-Stock-4']]\r\n",
        "df4.head()"
      ],
      "execution_count": null,
      "outputs": [
        {
          "output_type": "execute_result",
          "data": {
            "text/html": [
              "<div>\n",
              "<style scoped>\n",
              "    .dataframe tbody tr th:only-of-type {\n",
              "        vertical-align: middle;\n",
              "    }\n",
              "\n",
              "    .dataframe tbody tr th {\n",
              "        vertical-align: top;\n",
              "    }\n",
              "\n",
              "    .dataframe thead th {\n",
              "        text-align: right;\n",
              "    }\n",
              "</style>\n",
              "<table border=\"1\" class=\"dataframe\">\n",
              "  <thead>\n",
              "    <tr style=\"text-align: right;\">\n",
              "      <th></th>\n",
              "      <th>Date</th>\n",
              "      <th>Close-Stock-1</th>\n",
              "    </tr>\n",
              "  </thead>\n",
              "  <tbody>\n",
              "    <tr>\n",
              "      <th>0</th>\n",
              "      <td>2010-06-01</td>\n",
              "      <td>1855.10</td>\n",
              "    </tr>\n",
              "    <tr>\n",
              "      <th>1</th>\n",
              "      <td>2010-06-02</td>\n",
              "      <td>1853.05</td>\n",
              "    </tr>\n",
              "    <tr>\n",
              "      <th>2</th>\n",
              "      <td>2010-06-03</td>\n",
              "      <td>1905.60</td>\n",
              "    </tr>\n",
              "    <tr>\n",
              "      <th>3</th>\n",
              "      <td>2010-06-04</td>\n",
              "      <td>1885.70</td>\n",
              "    </tr>\n",
              "    <tr>\n",
              "      <th>4</th>\n",
              "      <td>2010-06-07</td>\n",
              "      <td>1876.65</td>\n",
              "    </tr>\n",
              "  </tbody>\n",
              "</table>\n",
              "</div>"
            ],
            "text/plain": [
              "        Date  Close-Stock-1\n",
              "0 2010-06-01        1855.10\n",
              "1 2010-06-02        1853.05\n",
              "2 2010-06-03        1905.60\n",
              "3 2010-06-04        1885.70\n",
              "4 2010-06-07        1876.65"
            ]
          },
          "metadata": {
            "tags": []
          },
          "execution_count": 26
        }
      ]
    },
    {
      "cell_type": "code",
      "metadata": {
        "id": "L3YRtil2UOdk"
      },
      "source": [
        "idx = pd.date_range(df4.Date.min(), df4.Date.max())\r\n",
        "df4.set_index('Date', inplace=True)"
      ],
      "execution_count": null,
      "outputs": []
    },
    {
      "cell_type": "markdown",
      "metadata": {
        "id": "89-2N70sUOdm"
      },
      "source": [
        "**Cubic Spline interpolation**"
      ]
    },
    {
      "cell_type": "code",
      "metadata": {
        "colab": {
          "base_uri": "https://localhost:8080/",
          "height": 450
        },
        "id": "6B4KWVdBUOdn",
        "outputId": "c8ba7a8c-d836-4429-eeca-8c121a6f5aca"
      },
      "source": [
        "df4 = df4.reindex(idx)\r\n",
        "df4.index.name = 'Date'\r\n",
        "# df1= df1.replace({0:np.NaN})\r\n",
        "df4= df4.interpolate(method='spline', order=3, s=0.)\r\n",
        "df4 = df4.round(2)\r\n",
        "df4"
      ],
      "execution_count": null,
      "outputs": [
        {
          "output_type": "execute_result",
          "data": {
            "text/html": [
              "<div>\n",
              "<style scoped>\n",
              "    .dataframe tbody tr th:only-of-type {\n",
              "        vertical-align: middle;\n",
              "    }\n",
              "\n",
              "    .dataframe tbody tr th {\n",
              "        vertical-align: top;\n",
              "    }\n",
              "\n",
              "    .dataframe thead th {\n",
              "        text-align: right;\n",
              "    }\n",
              "</style>\n",
              "<table border=\"1\" class=\"dataframe\">\n",
              "  <thead>\n",
              "    <tr style=\"text-align: right;\">\n",
              "      <th></th>\n",
              "      <th>Close-Stock-1</th>\n",
              "    </tr>\n",
              "    <tr>\n",
              "      <th>Date</th>\n",
              "      <th></th>\n",
              "    </tr>\n",
              "  </thead>\n",
              "  <tbody>\n",
              "    <tr>\n",
              "      <th>2010-06-01</th>\n",
              "      <td>1855.10</td>\n",
              "    </tr>\n",
              "    <tr>\n",
              "      <th>2010-06-02</th>\n",
              "      <td>1853.05</td>\n",
              "    </tr>\n",
              "    <tr>\n",
              "      <th>2010-06-03</th>\n",
              "      <td>1905.60</td>\n",
              "    </tr>\n",
              "    <tr>\n",
              "      <th>2010-06-04</th>\n",
              "      <td>1885.70</td>\n",
              "    </tr>\n",
              "    <tr>\n",
              "      <th>2010-06-05</th>\n",
              "      <td>1873.50</td>\n",
              "    </tr>\n",
              "    <tr>\n",
              "      <th>...</th>\n",
              "      <td>...</td>\n",
              "    </tr>\n",
              "    <tr>\n",
              "      <th>2011-07-30</th>\n",
              "      <td>490.04</td>\n",
              "    </tr>\n",
              "    <tr>\n",
              "      <th>2011-07-31</th>\n",
              "      <td>490.67</td>\n",
              "    </tr>\n",
              "    <tr>\n",
              "      <th>2011-08-01</th>\n",
              "      <td>488.00</td>\n",
              "    </tr>\n",
              "    <tr>\n",
              "      <th>2011-08-02</th>\n",
              "      <td>482.85</td>\n",
              "    </tr>\n",
              "    <tr>\n",
              "      <th>2011-08-03</th>\n",
              "      <td>482.05</td>\n",
              "    </tr>\n",
              "  </tbody>\n",
              "</table>\n",
              "<p>429 rows × 1 columns</p>\n",
              "</div>"
            ],
            "text/plain": [
              "            Close-Stock-1\n",
              "Date                     \n",
              "2010-06-01        1855.10\n",
              "2010-06-02        1853.05\n",
              "2010-06-03        1905.60\n",
              "2010-06-04        1885.70\n",
              "2010-06-05        1873.50\n",
              "...                   ...\n",
              "2011-07-30         490.04\n",
              "2011-07-31         490.67\n",
              "2011-08-01         488.00\n",
              "2011-08-02         482.85\n",
              "2011-08-03         482.05\n",
              "\n",
              "[429 rows x 1 columns]"
            ]
          },
          "metadata": {
            "tags": []
          },
          "execution_count": 28
        }
      ]
    },
    {
      "cell_type": "code",
      "metadata": {
        "colab": {
          "base_uri": "https://localhost:8080/"
        },
        "id": "037S6Jm4UOdo",
        "outputId": "1437650e-3cfa-4505-de95-f849d5e664dd"
      },
      "source": [
        "array = df4.to_numpy().reshape(-1,1)\r\n",
        "array.shape"
      ],
      "execution_count": null,
      "outputs": [
        {
          "output_type": "execute_result",
          "data": {
            "text/plain": [
              "(429, 1)"
            ]
          },
          "metadata": {
            "tags": []
          },
          "execution_count": 29
        }
      ]
    },
    {
      "cell_type": "code",
      "metadata": {
        "id": "I6VjXnrGUOdq"
      },
      "source": [
        "#taking mean and standered deviation\r\n",
        "array_mean = array.mean()\r\n",
        "array_std = array.std()\r\n",
        "#normalizing the data\r\n",
        "array = (array-array_mean)/array_std"
      ],
      "execution_count": null,
      "outputs": []
    },
    {
      "cell_type": "code",
      "metadata": {
        "id": "U87FNXhiUOdr"
      },
      "source": [
        "def univariate_data(dataset, start_index, end_index, history_size, target_size):\r\n",
        "  data = []\r\n",
        "  labels = []\r\n",
        "\r\n",
        "  start_index = start_index + history_size\r\n",
        "  if end_index is None:\r\n",
        "    end_index = len(dataset) - target_size\r\n",
        "\r\n",
        "  for i in range(start_index, end_index):\r\n",
        "    indices = range(i-history_size, i)\r\n",
        "    # Reshape data from (history_size,) to (history_size, 1)\r\n",
        "    data.append(np.reshape(dataset[indices], (history_size, 1)))\r\n",
        "    labels.append(dataset[i+target_size])\r\n",
        "  return np.array(data), np.array(labels)"
      ],
      "execution_count": null,
      "outputs": []
    },
    {
      "cell_type": "code",
      "metadata": {
        "id": "sLGwIi-cUOdt"
      },
      "source": [
        "univariate_past_history = 12\r\n",
        "univariate_future_target = 0\r\n",
        "\r\n",
        "x, y = univariate_data(array, 0, None, univariate_past_history, univariate_future_target)"
      ],
      "execution_count": null,
      "outputs": []
    },
    {
      "cell_type": "code",
      "metadata": {
        "colab": {
          "base_uri": "https://localhost:8080/"
        },
        "id": "GNvlJPh-UOdu",
        "outputId": "2471a9b7-1191-4f3a-bea0-21737230c8ed"
      },
      "source": [
        "print('X Shape:',x.shape)\r\n",
        "print('Y Shape:',y.shape)"
      ],
      "execution_count": null,
      "outputs": [
        {
          "output_type": "stream",
          "text": [
            "X Shape: (417, 12, 1)\n",
            "Y Shape: (417, 1)\n"
          ],
          "name": "stdout"
        }
      ]
    },
    {
      "cell_type": "markdown",
      "metadata": {
        "id": "odtUxaM9UOdw"
      },
      "source": [
        "**Learning Rate Scheduling**"
      ]
    },
    {
      "cell_type": "code",
      "metadata": {
        "colab": {
          "base_uri": "https://localhost:8080/"
        },
        "id": "l8obBskMUOdx",
        "outputId": "21d41a30-fc85-4985-f0be-c6ce5339528b"
      },
      "source": [
        "tf.keras.backend.clear_session()\n",
        "\n",
        "#creating model\n",
        "model= tf.keras.models.Sequential([\n",
        "                                   tf.keras.layers.Lambda(lambda x: tf.expand_dims(x,axis=-1), input_shape=[None]),\n",
        "                                   tf.keras.layers.Bidirectional(tf.keras.layers.LSTM(24, activation='relu', dropout=0.25, recurrent_dropout=0.3, return_sequences=True)),\n",
        "                                   tf.keras.layers.Bidirectional(tf.keras.layers.LSTM(12, activation='relu', dropout=0.25, recurrent_dropout=0.3, return_sequences=True)),\n",
        "                                   tf.keras.layers.LSTM(12, activation='relu', dropout=0.25, recurrent_dropout=0.1),\n",
        "                                   tf.keras.layers.LSTM(6, activation='relu', dropout=0.25, recurrent_dropout=0.1),\n",
        "                                   tf.keras.layers.Dropout(0.15),\n",
        "                                   tf.keras.layers.Dense(1),\n",
        "                                   ])\n",
        "lr_schedular= tf.keras.callbacks.LearningRateScheduler(lambda x: 1e-6*10**(x/20))\n",
        "\n",
        "adam= tf.keras.optimizers.Adam(lr=1e-6)\n",
        "model.compile(optimizer= adam, loss= 'mse')\n",
        "#Smodel.build(input_shape)\n",
        "model.summary()"
      ],
      "execution_count": null,
      "outputs": [
        {
          "output_type": "stream",
          "text": [
            "Model: \"sequential\"\n",
            "_________________________________________________________________\n",
            "Layer (type)                 Output Shape              Param #   \n",
            "=================================================================\n",
            "lambda (Lambda)              (None, None, 1)           0         \n",
            "_________________________________________________________________\n",
            "bidirectional (Bidirectional (None, None, 48)          4992      \n",
            "_________________________________________________________________\n",
            "bidirectional_1 (Bidirection (None, None, 24)          5856      \n",
            "_________________________________________________________________\n",
            "lstm_2 (LSTM)                (None, 12)                1776      \n",
            "_________________________________________________________________\n",
            "dropout (Dropout)            (None, 12)                0         \n",
            "_________________________________________________________________\n",
            "dense (Dense)                (None, 1)                 13        \n",
            "=================================================================\n",
            "Total params: 12,637\n",
            "Trainable params: 12,637\n",
            "Non-trainable params: 0\n",
            "_________________________________________________________________\n"
          ],
          "name": "stdout"
        }
      ]
    },
    {
      "cell_type": "code",
      "metadata": {
        "id": "uw77wg8AUOd0"
      },
      "source": [
        "history= model.fit(x, y, epochs= 125, callbacks= [lr_schedular], verbose=0)"
      ],
      "execution_count": null,
      "outputs": []
    },
    {
      "cell_type": "code",
      "metadata": {
        "colab": {
          "base_uri": "https://localhost:8080/"
        },
        "id": "IxVTVQalUOd1",
        "outputId": "bec80c6f-1ced-43bc-8c70-85ccd7db699c"
      },
      "source": [
        "loss= min(history.history['loss'])\n",
        "losses= history.history['loss']\n",
        "index=losses.index(loss)\n",
        "lrs= history.history['lr']\n",
        "count=0\n",
        "for i in lrs:\n",
        "  if count==index:\n",
        "    lr=i\n",
        "    break\n",
        "  count+=1\n",
        "print(lr)\n",
        "print(loss)"
      ],
      "execution_count": null,
      "outputs": [
        {
          "output_type": "stream",
          "text": [
            "0.028183829\n",
            "0.1458841860294342\n"
          ],
          "name": "stdout"
        }
      ]
    },
    {
      "cell_type": "code",
      "metadata": {
        "colab": {
          "base_uri": "https://localhost:8080/",
          "height": 498
        },
        "id": "cQcZki_pUOd3",
        "outputId": "3ec4ce1a-0536-4a9f-a27f-ed5cb28411c8"
      },
      "source": [
        "lrs= 1e-8*(10**(np.arange(125)/20))\n",
        "plt.semilogx(lrs, history.history[\"loss\"], label='Loss')\n",
        "plt.legend(loc='best')\n",
        "plt.grid(True)"
      ],
      "execution_count": null,
      "outputs": [
        {
          "output_type": "display_data",
          "data": {
            "image/png": "[encoded data removed]",
            "text/plain": [
              "<Figure size 720x576 with 1 Axes>"
            ]
          },
          "metadata": {
            "tags": [],
            "needs_background": "light"
          }
        }
      ]
    },
    {
      "cell_type": "markdown",
      "metadata": {
        "id": "OLl2nKKZUOd4"
      },
      "source": [
        "**Model Training**"
      ]
    },
    {
      "cell_type": "code",
      "metadata": {
        "colab": {
          "base_uri": "https://localhost:8080/"
        },
        "id": "6r0q4EPNUOd6",
        "outputId": "54f0f646-3e3a-4af7-d009-c2603786af88"
      },
      "source": [
        "tf.keras.backend.clear_session()\n",
        "\n",
        "#creating model\n",
        "model= tf.keras.models.Sequential([\n",
        "                                   tf.keras.layers.Lambda(lambda x: tf.expand_dims(x,axis=-1), input_shape=[None]),\n",
        "                                   tf.keras.layers.Bidirectional(tf.keras.layers.LSTM(24, activation='relu', dropout=0.25, recurrent_dropout=0.3, return_sequences=True)),\n",
        "                                   tf.keras.layers.Bidirectional(tf.keras.layers.LSTM(12, activation='relu', dropout=0.25, recurrent_dropout=0.3, return_sequences=True)),\n",
        "                                   tf.keras.layers.LSTM(12, activation='relu', dropout=0.25, recurrent_dropout=0.1),\n",
        "                                   tf.keras.layers.LSTM(12, activation='relu', dropout=0.25, recurrent_dropout=0.1),\n",
        "                                   tf.keras.layers.Dropout(0.15),\n",
        "                                   tf.keras.layers.Dense(1),\n",
        "                                   ])\n",
        "\n",
        "adam= tf.keras.optimizers.Adam(lr=lr)\n",
        "model.compile(optimizer= adam, loss= 'mse')\n",
        "#Smodel.build(input_shape)\n",
        "model.summary()"
      ],
      "execution_count": null,
      "outputs": [
        {
          "output_type": "stream",
          "text": [
            "Model: \"sequential\"\n",
            "_________________________________________________________________\n",
            "Layer (type)                 Output Shape              Param #   \n",
            "=================================================================\n",
            "lambda (Lambda)              (None, None, 1)           0         \n",
            "_________________________________________________________________\n",
            "bidirectional (Bidirectional (None, None, 48)          4992      \n",
            "_________________________________________________________________\n",
            "bidirectional_1 (Bidirection (None, None, 24)          5856      \n",
            "_________________________________________________________________\n",
            "lstm_2 (LSTM)                (None, 12)                1776      \n",
            "_________________________________________________________________\n",
            "dropout (Dropout)            (None, 12)                0         \n",
            "_________________________________________________________________\n",
            "dense (Dense)                (None, 1)                 13        \n",
            "=================================================================\n",
            "Total params: 12,637\n",
            "Trainable params: 12,637\n",
            "Non-trainable params: 0\n",
            "_________________________________________________________________\n"
          ],
          "name": "stdout"
        }
      ]
    },
    {
      "cell_type": "code",
      "metadata": {
        "id": "rfKhOFUPUOd8"
      },
      "source": [
        "history= model.fit(x,y, epochs= 300, verbose=0)"
      ],
      "execution_count": null,
      "outputs": []
    },
    {
      "cell_type": "code",
      "metadata": {
        "colab": {
          "base_uri": "https://localhost:8080/",
          "height": 487
        },
        "id": "sbm7yd65UOd9",
        "outputId": "4464153a-a22c-49f4-b8d3-1967f2d065a9"
      },
      "source": [
        "epochs= range(1,301)\n",
        "plt.semilogx(epochs, history.history[\"loss\"], label='Loss')\n",
        "plt.legend(loc='best')\n",
        "plt.grid(True)"
      ],
      "execution_count": null,
      "outputs": [
        {
          "output_type": "display_data",
          "data": {
            "image/png": "[encoded data removed]",
            "text/plain": [
              "<Figure size 720x576 with 1 Axes>"
            ]
          },
          "metadata": {
            "tags": [],
            "needs_background": "light"
          }
        }
      ]
    },
    {
      "cell_type": "code",
      "metadata": {
        "colab": {
          "base_uri": "https://localhost:8080/",
          "height": 534
        },
        "id": "JCV_eqoYUOd_",
        "outputId": "3369c6ea-4f3c-4677-ee10-f41cb63ff63b"
      },
      "source": [
        "numbers=range(1, 430)\n",
        "num= range(13,430)\n",
        "plt.figure()\n",
        "print(x.shape)\n",
        "y_pred= model.predict(x)\n",
        "print(y_pred.shape)\n",
        "plt.plot(numbers,array)\n",
        "plt.plot(num,y_pred,'r')\n",
        "plt.plot()"
      ],
      "execution_count": null,
      "outputs": [
        {
          "output_type": "stream",
          "text": [
            "(417, 12, 1)\n",
            "(417, 1)\n"
          ],
          "name": "stdout"
        },
        {
          "output_type": "execute_result",
          "data": {
            "text/plain": [
              "[]"
            ]
          },
          "metadata": {
            "tags": []
          },
          "execution_count": 41
        },
        {
          "output_type": "display_data",
          "data": {
            "image/png": "[encoded data removed]",
            "text/plain": [
              "<Figure size 720x576 with 1 Axes>"
            ]
          },
          "metadata": {
            "tags": [],
            "needs_background": "light"
          }
        }
      ]
    },
    {
      "cell_type": "markdown",
      "metadata": {
        "id": "VyMSjG-EUOeB"
      },
      "source": [
        "**Test Phase**"
      ]
    },
    {
      "cell_type": "code",
      "metadata": {
        "colab": {
          "base_uri": "https://localhost:8080/",
          "height": 500
        },
        "id": "jNvbPOMDUOeG",
        "outputId": "d3eec777-e6fc-4de3-cb37-8102a8617931"
      },
      "source": [
        "numbers=range(1, 430)\r\n",
        "num= range(13,430)\r\n",
        "pred= range(430,577)\r\n",
        "plot_pred=[]\r\n",
        "real_val=[]\r\n",
        "plt.figure()\r\n",
        "y_pred= model.predict(x)\r\n",
        "plt.plot(numbers,array)\r\n",
        "plt.plot(num,y_pred,'r')\r\n",
        "x_new= array[416: len(array)-1]\r\n",
        "for i in range(147):\r\n",
        "  x_new= x_new.reshape(1,12,1)\r\n",
        "  y_new= model.predict(x_new)\r\n",
        "  x_new= x_new[0][1:]\r\n",
        "  x_new= np.append(x_new, y_new)\r\n",
        "  y_new= y_new.reshape(1,)\r\n",
        "  real= y_new*array_std+array_mean\r\n",
        "  plot_pred.append(y_new)\r\n",
        "  real_val.append(real)\r\n",
        "\r\n",
        "plt.plot(pred, plot_pred, color='#00ff00')\r\n",
        "plt.plot()"
      ],
      "execution_count": null,
      "outputs": [
        {
          "output_type": "execute_result",
          "data": {
            "text/plain": [
              "[]"
            ]
          },
          "metadata": {
            "tags": []
          },
          "execution_count": 42
        },
        {
          "output_type": "display_data",
          "data": {
            "image/png": "[encoded data removed]",
            "text/plain": [
              "<Figure size 720x576 with 1 Axes>"
            ]
          },
          "metadata": {
            "tags": [],
            "needs_background": "light"
          }
        }
      ]
    },
    {
      "cell_type": "code",
      "metadata": {
        "colab": {
          "base_uri": "https://localhost:8080/"
        },
        "id": "bJCYeDGyUOeJ",
        "outputId": "4193cf9a-1d1f-41ca-913f-d6aa737759ea"
      },
      "source": [
        "pred_array = np.array(real_val)\r\n",
        "pred_array.shape"
      ],
      "execution_count": null,
      "outputs": [
        {
          "output_type": "execute_result",
          "data": {
            "text/plain": [
              "(147, 1)"
            ]
          },
          "metadata": {
            "tags": []
          },
          "execution_count": 43
        }
      ]
    },
    {
      "cell_type": "code",
      "metadata": {
        "colab": {
          "base_uri": "https://localhost:8080/",
          "height": 450
        },
        "id": "iA1aoSNUUOeM",
        "outputId": "f98f9099-61be-485a-c9ea-a2c53d64d24a"
      },
      "source": [
        "answer['Close-Stock-4'] = pred_array.flatten()\r\n",
        "answer"
      ],
      "execution_count": null,
      "outputs": [
        {
          "output_type": "execute_result",
          "data": {
            "text/html": [
              "<div>\n",
              "<style scoped>\n",
              "    .dataframe tbody tr th:only-of-type {\n",
              "        vertical-align: middle;\n",
              "    }\n",
              "\n",
              "    .dataframe tbody tr th {\n",
              "        vertical-align: top;\n",
              "    }\n",
              "\n",
              "    .dataframe thead th {\n",
              "        text-align: right;\n",
              "    }\n",
              "</style>\n",
              "<table border=\"1\" class=\"dataframe\">\n",
              "  <thead>\n",
              "    <tr style=\"text-align: right;\">\n",
              "      <th></th>\n",
              "      <th>Close-Stock-1</th>\n",
              "    </tr>\n",
              "    <tr>\n",
              "      <th>Date</th>\n",
              "      <th></th>\n",
              "    </tr>\n",
              "  </thead>\n",
              "  <tbody>\n",
              "    <tr>\n",
              "      <th>2011-08-04</th>\n",
              "      <td>447.116699</td>\n",
              "    </tr>\n",
              "    <tr>\n",
              "      <th>2011-08-05</th>\n",
              "      <td>447.375732</td>\n",
              "    </tr>\n",
              "    <tr>\n",
              "      <th>2011-08-06</th>\n",
              "      <td>447.353271</td>\n",
              "    </tr>\n",
              "    <tr>\n",
              "      <th>2011-08-07</th>\n",
              "      <td>447.063232</td>\n",
              "    </tr>\n",
              "    <tr>\n",
              "      <th>2011-08-08</th>\n",
              "      <td>446.987183</td>\n",
              "    </tr>\n",
              "    <tr>\n",
              "      <th>...</th>\n",
              "      <td>...</td>\n",
              "    </tr>\n",
              "    <tr>\n",
              "      <th>2011-12-24</th>\n",
              "      <td>446.811157</td>\n",
              "    </tr>\n",
              "    <tr>\n",
              "      <th>2011-12-25</th>\n",
              "      <td>446.811157</td>\n",
              "    </tr>\n",
              "    <tr>\n",
              "      <th>2011-12-26</th>\n",
              "      <td>446.811279</td>\n",
              "    </tr>\n",
              "    <tr>\n",
              "      <th>2011-12-27</th>\n",
              "      <td>446.811157</td>\n",
              "    </tr>\n",
              "    <tr>\n",
              "      <th>2011-12-28</th>\n",
              "      <td>446.811157</td>\n",
              "    </tr>\n",
              "  </tbody>\n",
              "</table>\n",
              "<p>147 rows × 1 columns</p>\n",
              "</div>"
            ],
            "text/plain": [
              "            Close-Stock-1\n",
              "Date                     \n",
              "2011-08-04     447.116699\n",
              "2011-08-05     447.375732\n",
              "2011-08-06     447.353271\n",
              "2011-08-07     447.063232\n",
              "2011-08-08     446.987183\n",
              "...                   ...\n",
              "2011-12-24     446.811157\n",
              "2011-12-25     446.811157\n",
              "2011-12-26     446.811279\n",
              "2011-12-27     446.811157\n",
              "2011-12-28     446.811157\n",
              "\n",
              "[147 rows x 1 columns]"
            ]
          },
          "metadata": {
            "tags": []
          },
          "execution_count": 44
        }
      ]
    },
    {
      "cell_type": "markdown",
      "metadata": {
        "id": "qT5w12iyURnk"
      },
      "source": [
        "# Stock 5"
      ]
    },
    {
      "cell_type": "code",
      "metadata": {
        "colab": {
          "base_uri": "https://localhost:8080/",
          "height": 204
        },
        "id": "WgBPZENoURnm",
        "outputId": "78d35af9-a809-491d-cb5d-ff8cf2752d73"
      },
      "source": [
        "df5= result.loc[:,['Date','Close-Stock-5']]\r\n",
        "df5.head()"
      ],
      "execution_count": null,
      "outputs": [
        {
          "output_type": "execute_result",
          "data": {
            "text/html": [
              "<div>\n",
              "<style scoped>\n",
              "    .dataframe tbody tr th:only-of-type {\n",
              "        vertical-align: middle;\n",
              "    }\n",
              "\n",
              "    .dataframe tbody tr th {\n",
              "        vertical-align: top;\n",
              "    }\n",
              "\n",
              "    .dataframe thead th {\n",
              "        text-align: right;\n",
              "    }\n",
              "</style>\n",
              "<table border=\"1\" class=\"dataframe\">\n",
              "  <thead>\n",
              "    <tr style=\"text-align: right;\">\n",
              "      <th></th>\n",
              "      <th>Date</th>\n",
              "      <th>Close-Stock-1</th>\n",
              "    </tr>\n",
              "  </thead>\n",
              "  <tbody>\n",
              "    <tr>\n",
              "      <th>0</th>\n",
              "      <td>2010-06-01</td>\n",
              "      <td>1855.10</td>\n",
              "    </tr>\n",
              "    <tr>\n",
              "      <th>1</th>\n",
              "      <td>2010-06-02</td>\n",
              "      <td>1853.05</td>\n",
              "    </tr>\n",
              "    <tr>\n",
              "      <th>2</th>\n",
              "      <td>2010-06-03</td>\n",
              "      <td>1905.60</td>\n",
              "    </tr>\n",
              "    <tr>\n",
              "      <th>3</th>\n",
              "      <td>2010-06-04</td>\n",
              "      <td>1885.70</td>\n",
              "    </tr>\n",
              "    <tr>\n",
              "      <th>4</th>\n",
              "      <td>2010-06-07</td>\n",
              "      <td>1876.65</td>\n",
              "    </tr>\n",
              "  </tbody>\n",
              "</table>\n",
              "</div>"
            ],
            "text/plain": [
              "        Date  Close-Stock-1\n",
              "0 2010-06-01        1855.10\n",
              "1 2010-06-02        1853.05\n",
              "2 2010-06-03        1905.60\n",
              "3 2010-06-04        1885.70\n",
              "4 2010-06-07        1876.65"
            ]
          },
          "metadata": {
            "tags": []
          },
          "execution_count": 26
        }
      ]
    },
    {
      "cell_type": "code",
      "metadata": {
        "id": "kmxld2b3URnp"
      },
      "source": [
        "idx = pd.date_range(df5.Date.min(), df5.Date.max())\r\n",
        "df5.set_index('Date', inplace=True)"
      ],
      "execution_count": null,
      "outputs": []
    },
    {
      "cell_type": "markdown",
      "metadata": {
        "id": "nPI2jO5sURnq"
      },
      "source": [
        "**Cubic Spline interpolation**"
      ]
    },
    {
      "cell_type": "code",
      "metadata": {
        "colab": {
          "base_uri": "https://localhost:8080/",
          "height": 450
        },
        "id": "ONfme10sURnr",
        "outputId": "c8ba7a8c-d836-4429-eeca-8c121a6f5aca"
      },
      "source": [
        "df5 = df5.reindex(idx)\r\n",
        "df5.index.name = 'Date'\r\n",
        "# df1= df1.replace({0:np.NaN})\r\n",
        "df5= df5.interpolate(method='spline', order=3, s=0.)\r\n",
        "df5 = df5.round(2)\r\n",
        "df5"
      ],
      "execution_count": null,
      "outputs": [
        {
          "output_type": "execute_result",
          "data": {
            "text/html": [
              "<div>\n",
              "<style scoped>\n",
              "    .dataframe tbody tr th:only-of-type {\n",
              "        vertical-align: middle;\n",
              "    }\n",
              "\n",
              "    .dataframe tbody tr th {\n",
              "        vertical-align: top;\n",
              "    }\n",
              "\n",
              "    .dataframe thead th {\n",
              "        text-align: right;\n",
              "    }\n",
              "</style>\n",
              "<table border=\"1\" class=\"dataframe\">\n",
              "  <thead>\n",
              "    <tr style=\"text-align: right;\">\n",
              "      <th></th>\n",
              "      <th>Close-Stock-1</th>\n",
              "    </tr>\n",
              "    <tr>\n",
              "      <th>Date</th>\n",
              "      <th></th>\n",
              "    </tr>\n",
              "  </thead>\n",
              "  <tbody>\n",
              "    <tr>\n",
              "      <th>2010-06-01</th>\n",
              "      <td>1855.10</td>\n",
              "    </tr>\n",
              "    <tr>\n",
              "      <th>2010-06-02</th>\n",
              "      <td>1853.05</td>\n",
              "    </tr>\n",
              "    <tr>\n",
              "      <th>2010-06-03</th>\n",
              "      <td>1905.60</td>\n",
              "    </tr>\n",
              "    <tr>\n",
              "      <th>2010-06-04</th>\n",
              "      <td>1885.70</td>\n",
              "    </tr>\n",
              "    <tr>\n",
              "      <th>2010-06-05</th>\n",
              "      <td>1873.50</td>\n",
              "    </tr>\n",
              "    <tr>\n",
              "      <th>...</th>\n",
              "      <td>...</td>\n",
              "    </tr>\n",
              "    <tr>\n",
              "      <th>2011-07-30</th>\n",
              "      <td>490.04</td>\n",
              "    </tr>\n",
              "    <tr>\n",
              "      <th>2011-07-31</th>\n",
              "      <td>490.67</td>\n",
              "    </tr>\n",
              "    <tr>\n",
              "      <th>2011-08-01</th>\n",
              "      <td>488.00</td>\n",
              "    </tr>\n",
              "    <tr>\n",
              "      <th>2011-08-02</th>\n",
              "      <td>482.85</td>\n",
              "    </tr>\n",
              "    <tr>\n",
              "      <th>2011-08-03</th>\n",
              "      <td>482.05</td>\n",
              "    </tr>\n",
              "  </tbody>\n",
              "</table>\n",
              "<p>429 rows × 1 columns</p>\n",
              "</div>"
            ],
            "text/plain": [
              "            Close-Stock-1\n",
              "Date                     \n",
              "2010-06-01        1855.10\n",
              "2010-06-02        1853.05\n",
              "2010-06-03        1905.60\n",
              "2010-06-04        1885.70\n",
              "2010-06-05        1873.50\n",
              "...                   ...\n",
              "2011-07-30         490.04\n",
              "2011-07-31         490.67\n",
              "2011-08-01         488.00\n",
              "2011-08-02         482.85\n",
              "2011-08-03         482.05\n",
              "\n",
              "[429 rows x 1 columns]"
            ]
          },
          "metadata": {
            "tags": []
          },
          "execution_count": 28
        }
      ]
    },
    {
      "cell_type": "code",
      "metadata": {
        "colab": {
          "base_uri": "https://localhost:8080/"
        },
        "id": "A9eA_kTPURnt",
        "outputId": "1437650e-3cfa-4505-de95-f849d5e664dd"
      },
      "source": [
        "array = df5.to_numpy().reshape(-1,1)\r\n",
        "array.shape"
      ],
      "execution_count": null,
      "outputs": [
        {
          "output_type": "execute_result",
          "data": {
            "text/plain": [
              "(429, 1)"
            ]
          },
          "metadata": {
            "tags": []
          },
          "execution_count": 29
        }
      ]
    },
    {
      "cell_type": "code",
      "metadata": {
        "id": "K6EI5rrAURnv"
      },
      "source": [
        "#taking mean and standered deviation\r\n",
        "array_mean = array.mean()\r\n",
        "array_std = array.std()\r\n",
        "#normalizing the data\r\n",
        "array = (array-array_mean)/array_std"
      ],
      "execution_count": null,
      "outputs": []
    },
    {
      "cell_type": "code",
      "metadata": {
        "id": "dQoksYmjURnx"
      },
      "source": [
        "def univariate_data(dataset, start_index, end_index, history_size, target_size):\r\n",
        "  data = []\r\n",
        "  labels = []\r\n",
        "\r\n",
        "  start_index = start_index + history_size\r\n",
        "  if end_index is None:\r\n",
        "    end_index = len(dataset) - target_size\r\n",
        "\r\n",
        "  for i in range(start_index, end_index):\r\n",
        "    indices = range(i-history_size, i)\r\n",
        "    # Reshape data from (history_size,) to (history_size, 1)\r\n",
        "    data.append(np.reshape(dataset[indices], (history_size, 1)))\r\n",
        "    labels.append(dataset[i+target_size])\r\n",
        "  return np.array(data), np.array(labels)"
      ],
      "execution_count": null,
      "outputs": []
    },
    {
      "cell_type": "code",
      "metadata": {
        "id": "jaWnPqa5URny"
      },
      "source": [
        "univariate_past_history = 12\r\n",
        "univariate_future_target = 0\r\n",
        "\r\n",
        "x, y = univariate_data(array, 0, None, univariate_past_history, univariate_future_target)"
      ],
      "execution_count": null,
      "outputs": []
    },
    {
      "cell_type": "code",
      "metadata": {
        "colab": {
          "base_uri": "https://localhost:8080/"
        },
        "id": "BssXMtDJURnz",
        "outputId": "2471a9b7-1191-4f3a-bea0-21737230c8ed"
      },
      "source": [
        "print('X Shape:',x.shape)\r\n",
        "print('Y Shape:',y.shape)"
      ],
      "execution_count": null,
      "outputs": [
        {
          "output_type": "stream",
          "text": [
            "X Shape: (417, 12, 1)\n",
            "Y Shape: (417, 1)\n"
          ],
          "name": "stdout"
        }
      ]
    },
    {
      "cell_type": "markdown",
      "metadata": {
        "id": "oEkQVxw-URn1"
      },
      "source": [
        "**Learning Rate Scheduling**"
      ]
    },
    {
      "cell_type": "code",
      "metadata": {
        "colab": {
          "base_uri": "https://localhost:8080/"
        },
        "id": "MH-nlGUrURn2",
        "outputId": "21d41a30-fc85-4985-f0be-c6ce5339528b"
      },
      "source": [
        "tf.keras.backend.clear_session()\n",
        "\n",
        "#creating model\n",
        "model= tf.keras.models.Sequential([\n",
        "                                   tf.keras.layers.Lambda(lambda x: tf.expand_dims(x,axis=-1), input_shape=[None]),\n",
        "                                   tf.keras.layers.Bidirectional(tf.keras.layers.LSTM(24, activation='relu', dropout=0.25, recurrent_dropout=0.3, return_sequences=True)),\n",
        "                                   tf.keras.layers.Bidirectional(tf.keras.layers.LSTM(12, activation='relu', dropout=0.25, recurrent_dropout=0.3, return_sequences=True)),\n",
        "                                   tf.keras.layers.LSTM(12, activation='relu', dropout=0.25, recurrent_dropout=0.1),\n",
        "                                   tf.keras.layers.LSTM(6, activation='relu', dropout=0.25, recurrent_dropout=0.1),\n",
        "                                   tf.keras.layers.Dropout(0.15),\n",
        "                                   tf.keras.layers.Dense(1),\n",
        "                                   ])\n",
        "lr_schedular= tf.keras.callbacks.LearningRateScheduler(lambda x: 1e-6*10**(x/20))\n",
        "\n",
        "adam= tf.keras.optimizers.Adam(lr=1e-6)\n",
        "model.compile(optimizer= adam, loss= 'mse')\n",
        "#Smodel.build(input_shape)\n",
        "model.summary()"
      ],
      "execution_count": null,
      "outputs": [
        {
          "output_type": "stream",
          "text": [
            "Model: \"sequential\"\n",
            "_________________________________________________________________\n",
            "Layer (type)                 Output Shape              Param #   \n",
            "=================================================================\n",
            "lambda (Lambda)              (None, None, 1)           0         \n",
            "_________________________________________________________________\n",
            "bidirectional (Bidirectional (None, None, 48)          4992      \n",
            "_________________________________________________________________\n",
            "bidirectional_1 (Bidirection (None, None, 24)          5856      \n",
            "_________________________________________________________________\n",
            "lstm_2 (LSTM)                (None, 12)                1776      \n",
            "_________________________________________________________________\n",
            "dropout (Dropout)            (None, 12)                0         \n",
            "_________________________________________________________________\n",
            "dense (Dense)                (None, 1)                 13        \n",
            "=================================================================\n",
            "Total params: 12,637\n",
            "Trainable params: 12,637\n",
            "Non-trainable params: 0\n",
            "_________________________________________________________________\n"
          ],
          "name": "stdout"
        }
      ]
    },
    {
      "cell_type": "code",
      "metadata": {
        "id": "21EzKg3sURn3"
      },
      "source": [
        "history= model.fit(x, y, epochs= 125, callbacks= [lr_schedular], verbose=0)"
      ],
      "execution_count": null,
      "outputs": []
    },
    {
      "cell_type": "code",
      "metadata": {
        "colab": {
          "base_uri": "https://localhost:8080/"
        },
        "id": "Btj0YP0aURn4",
        "outputId": "bec80c6f-1ced-43bc-8c70-85ccd7db699c"
      },
      "source": [
        "loss= min(history.history['loss'])\n",
        "losses= history.history['loss']\n",
        "index=losses.index(loss)\n",
        "lrs= history.history['lr']\n",
        "count=0\n",
        "for i in lrs:\n",
        "  if count==index:\n",
        "    lr=i\n",
        "    break\n",
        "  count+=1\n",
        "print(lr)\n",
        "print(loss)"
      ],
      "execution_count": null,
      "outputs": [
        {
          "output_type": "stream",
          "text": [
            "0.028183829\n",
            "0.1458841860294342\n"
          ],
          "name": "stdout"
        }
      ]
    },
    {
      "cell_type": "code",
      "metadata": {
        "colab": {
          "base_uri": "https://localhost:8080/",
          "height": 498
        },
        "id": "RebGxzd6URn6",
        "outputId": "3ec4ce1a-0536-4a9f-a27f-ed5cb28411c8"
      },
      "source": [
        "lrs= 1e-8*(10**(np.arange(125)/20))\n",
        "plt.semilogx(lrs, history.history[\"loss\"], label='Loss')\n",
        "plt.legend(loc='best')\n",
        "plt.grid(True)"
      ],
      "execution_count": null,
      "outputs": [
        {
          "output_type": "display_data",
          "data": {
            "image/png": "[encoded data removed]",
            "text/plain": [
              "<Figure size 720x576 with 1 Axes>"
            ]
          },
          "metadata": {
            "tags": [],
            "needs_background": "light"
          }
        }
      ]
    },
    {
      "cell_type": "markdown",
      "metadata": {
        "id": "001aTOLgURn8"
      },
      "source": [
        "**Model Training**"
      ]
    },
    {
      "cell_type": "code",
      "metadata": {
        "colab": {
          "base_uri": "https://localhost:8080/"
        },
        "id": "irrpAYM2URn9",
        "outputId": "54f0f646-3e3a-4af7-d009-c2603786af88"
      },
      "source": [
        "tf.keras.backend.clear_session()\n",
        "\n",
        "#creating model\n",
        "model= tf.keras.models.Sequential([\n",
        "                                   tf.keras.layers.Lambda(lambda x: tf.expand_dims(x,axis=-1), input_shape=[None]),\n",
        "                                   tf.keras.layers.Bidirectional(tf.keras.layers.LSTM(24, activation='relu', dropout=0.25, recurrent_dropout=0.3, return_sequences=True)),\n",
        "                                   tf.keras.layers.Bidirectional(tf.keras.layers.LSTM(12, activation='relu', dropout=0.25, recurrent_dropout=0.3, return_sequences=True)),\n",
        "                                   tf.keras.layers.LSTM(12, activation='relu', dropout=0.25, recurrent_dropout=0.1),\n",
        "                                   tf.keras.layers.LSTM(12, activation='relu', dropout=0.25, recurrent_dropout=0.1),\n",
        "                                   tf.keras.layers.Dropout(0.15),\n",
        "                                   tf.keras.layers.Dense(1),\n",
        "                                   ])\n",
        "\n",
        "adam= tf.keras.optimizers.Adam(lr=lr)\n",
        "model.compile(optimizer= adam, loss= 'mse')\n",
        "#Smodel.build(input_shape)\n",
        "model.summary()"
      ],
      "execution_count": null,
      "outputs": [
        {
          "output_type": "stream",
          "text": [
            "Model: \"sequential\"\n",
            "_________________________________________________________________\n",
            "Layer (type)                 Output Shape              Param #   \n",
            "=================================================================\n",
            "lambda (Lambda)              (None, None, 1)           0         \n",
            "_________________________________________________________________\n",
            "bidirectional (Bidirectional (None, None, 48)          4992      \n",
            "_________________________________________________________________\n",
            "bidirectional_1 (Bidirection (None, None, 24)          5856      \n",
            "_________________________________________________________________\n",
            "lstm_2 (LSTM)                (None, 12)                1776      \n",
            "_________________________________________________________________\n",
            "dropout (Dropout)            (None, 12)                0         \n",
            "_________________________________________________________________\n",
            "dense (Dense)                (None, 1)                 13        \n",
            "=================================================================\n",
            "Total params: 12,637\n",
            "Trainable params: 12,637\n",
            "Non-trainable params: 0\n",
            "_________________________________________________________________\n"
          ],
          "name": "stdout"
        }
      ]
    },
    {
      "cell_type": "code",
      "metadata": {
        "id": "DMHZPTkAURn-"
      },
      "source": [
        "history= model.fit(x,y, epochs= 300, verbose=0)"
      ],
      "execution_count": null,
      "outputs": []
    },
    {
      "cell_type": "code",
      "metadata": {
        "colab": {
          "base_uri": "https://localhost:8080/",
          "height": 487
        },
        "id": "bNkV2Bd_URn_",
        "outputId": "4464153a-a22c-49f4-b8d3-1967f2d065a9"
      },
      "source": [
        "epochs= range(1,301)\n",
        "plt.semilogx(epochs, history.history[\"loss\"], label='Loss')\n",
        "plt.legend(loc='best')\n",
        "plt.grid(True)"
      ],
      "execution_count": null,
      "outputs": [
        {
          "output_type": "display_data",
          "data": {
            "image/png": "[encoded data removed]",
            "text/plain": [
              "<Figure size 720x576 with 1 Axes>"
            ]
          },
          "metadata": {
            "tags": [],
            "needs_background": "light"
          }
        }
      ]
    },
    {
      "cell_type": "code",
      "metadata": {
        "colab": {
          "base_uri": "https://localhost:8080/",
          "height": 534
        },
        "id": "jot0UXqdURoC",
        "outputId": "3369c6ea-4f3c-4677-ee10-f41cb63ff63b"
      },
      "source": [
        "numbers=range(1, 430)\n",
        "num= range(13,430)\n",
        "plt.figure()\n",
        "print(x.shape)\n",
        "y_pred= model.predict(x)\n",
        "print(y_pred.shape)\n",
        "plt.plot(numbers,array)\n",
        "plt.plot(num,y_pred,'r')\n",
        "plt.plot()"
      ],
      "execution_count": null,
      "outputs": [
        {
          "output_type": "stream",
          "text": [
            "(417, 12, 1)\n",
            "(417, 1)\n"
          ],
          "name": "stdout"
        },
        {
          "output_type": "execute_result",
          "data": {
            "text/plain": [
              "[]"
            ]
          },
          "metadata": {
            "tags": []
          },
          "execution_count": 41
        },
        {
          "output_type": "display_data",
          "data": {
            "image/png": "[encoded data removed]",
            "text/plain": [
              "<Figure size 720x576 with 1 Axes>"
            ]
          },
          "metadata": {
            "tags": [],
            "needs_background": "light"
          }
        }
      ]
    },
    {
      "cell_type": "markdown",
      "metadata": {
        "id": "KAZAs7CoURoE"
      },
      "source": [
        "**Test Phase**"
      ]
    },
    {
      "cell_type": "code",
      "metadata": {
        "colab": {
          "base_uri": "https://localhost:8080/",
          "height": 500
        },
        "id": "rYFE7zinURoF",
        "outputId": "d3eec777-e6fc-4de3-cb37-8102a8617931"
      },
      "source": [
        "numbers=range(1, 430)\r\n",
        "num= range(13,430)\r\n",
        "pred= range(430,577)\r\n",
        "plot_pred=[]\r\n",
        "real_val=[]\r\n",
        "plt.figure()\r\n",
        "y_pred= model.predict(x)\r\n",
        "plt.plot(numbers,array)\r\n",
        "plt.plot(num,y_pred,'r')\r\n",
        "x_new= array[416: len(array)-1]\r\n",
        "for i in range(147):\r\n",
        "  x_new= x_new.reshape(1,12,1)\r\n",
        "  y_new= model.predict(x_new)\r\n",
        "  x_new= x_new[0][1:]\r\n",
        "  x_new= np.append(x_new, y_new)\r\n",
        "  y_new= y_new.reshape(1,)\r\n",
        "  real= y_new*array_std+array_mean\r\n",
        "  plot_pred.append(y_new)\r\n",
        "  real_val.append(real)\r\n",
        "\r\n",
        "plt.plot(pred, plot_pred, color='#00ff00')\r\n",
        "plt.plot()"
      ],
      "execution_count": null,
      "outputs": [
        {
          "output_type": "execute_result",
          "data": {
            "text/plain": [
              "[]"
            ]
          },
          "metadata": {
            "tags": []
          },
          "execution_count": 42
        },
        {
          "output_type": "display_data",
          "data": {
            "image/png": "[encoded data removed]",
            "text/plain": [
              "<Figure size 720x576 with 1 Axes>"
            ]
          },
          "metadata": {
            "tags": [],
            "needs_background": "light"
          }
        }
      ]
    },
    {
      "cell_type": "code",
      "metadata": {
        "colab": {
          "base_uri": "https://localhost:8080/"
        },
        "id": "vD4sLbD8URoH",
        "outputId": "4193cf9a-1d1f-41ca-913f-d6aa737759ea"
      },
      "source": [
        "pred_array = np.array(real_val)\r\n",
        "pred_array.shape"
      ],
      "execution_count": null,
      "outputs": [
        {
          "output_type": "execute_result",
          "data": {
            "text/plain": [
              "(147, 1)"
            ]
          },
          "metadata": {
            "tags": []
          },
          "execution_count": 43
        }
      ]
    },
    {
      "cell_type": "code",
      "metadata": {
        "colab": {
          "base_uri": "https://localhost:8080/",
          "height": 450
        },
        "id": "_sDa1pOfURoJ",
        "outputId": "f98f9099-61be-485a-c9ea-a2c53d64d24a"
      },
      "source": [
        "answer['Close-Stock-5'] = pred_array.flatten()\r\n",
        "answer"
      ],
      "execution_count": null,
      "outputs": [
        {
          "output_type": "execute_result",
          "data": {
            "text/html": [
              "<div>\n",
              "<style scoped>\n",
              "    .dataframe tbody tr th:only-of-type {\n",
              "        vertical-align: middle;\n",
              "    }\n",
              "\n",
              "    .dataframe tbody tr th {\n",
              "        vertical-align: top;\n",
              "    }\n",
              "\n",
              "    .dataframe thead th {\n",
              "        text-align: right;\n",
              "    }\n",
              "</style>\n",
              "<table border=\"1\" class=\"dataframe\">\n",
              "  <thead>\n",
              "    <tr style=\"text-align: right;\">\n",
              "      <th></th>\n",
              "      <th>Close-Stock-1</th>\n",
              "    </tr>\n",
              "    <tr>\n",
              "      <th>Date</th>\n",
              "      <th></th>\n",
              "    </tr>\n",
              "  </thead>\n",
              "  <tbody>\n",
              "    <tr>\n",
              "      <th>2011-08-04</th>\n",
              "      <td>447.116699</td>\n",
              "    </tr>\n",
              "    <tr>\n",
              "      <th>2011-08-05</th>\n",
              "      <td>447.375732</td>\n",
              "    </tr>\n",
              "    <tr>\n",
              "      <th>2011-08-06</th>\n",
              "      <td>447.353271</td>\n",
              "    </tr>\n",
              "    <tr>\n",
              "      <th>2011-08-07</th>\n",
              "      <td>447.063232</td>\n",
              "    </tr>\n",
              "    <tr>\n",
              "      <th>2011-08-08</th>\n",
              "      <td>446.987183</td>\n",
              "    </tr>\n",
              "    <tr>\n",
              "      <th>...</th>\n",
              "      <td>...</td>\n",
              "    </tr>\n",
              "    <tr>\n",
              "      <th>2011-12-24</th>\n",
              "      <td>446.811157</td>\n",
              "    </tr>\n",
              "    <tr>\n",
              "      <th>2011-12-25</th>\n",
              "      <td>446.811157</td>\n",
              "    </tr>\n",
              "    <tr>\n",
              "      <th>2011-12-26</th>\n",
              "      <td>446.811279</td>\n",
              "    </tr>\n",
              "    <tr>\n",
              "      <th>2011-12-27</th>\n",
              "      <td>446.811157</td>\n",
              "    </tr>\n",
              "    <tr>\n",
              "      <th>2011-12-28</th>\n",
              "      <td>446.811157</td>\n",
              "    </tr>\n",
              "  </tbody>\n",
              "</table>\n",
              "<p>147 rows × 1 columns</p>\n",
              "</div>"
            ],
            "text/plain": [
              "            Close-Stock-1\n",
              "Date                     \n",
              "2011-08-04     447.116699\n",
              "2011-08-05     447.375732\n",
              "2011-08-06     447.353271\n",
              "2011-08-07     447.063232\n",
              "2011-08-08     446.987183\n",
              "...                   ...\n",
              "2011-12-24     446.811157\n",
              "2011-12-25     446.811157\n",
              "2011-12-26     446.811279\n",
              "2011-12-27     446.811157\n",
              "2011-12-28     446.811157\n",
              "\n",
              "[147 rows x 1 columns]"
            ]
          },
          "metadata": {
            "tags": []
          },
          "execution_count": 44
        }
      ]
    },
    {
      "cell_type": "markdown",
      "metadata": {
        "id": "mqJdpc-eWidO"
      },
      "source": [
        "# Data Cleaning"
      ]
    },
    {
      "cell_type": "code",
      "metadata": {
        "id": "zUseg19PL2Ay"
      },
      "source": [
        "cond = ~answer['Date'].isin(test['Email'])\r\n",
        "final_answer = answer.drop(answer[cond].index)\r\n",
        "final_answer"
      ],
      "execution_count": null,
      "outputs": []
    },
    {
      "cell_type": "code",
      "metadata": {
        "id": "yvZRS2VKYCa7"
      },
      "source": [
        "final_answer.set_index('Date', inplace=True)\r\n",
        "final_answer.to_csv('output.csv')\r\n",
        "final_answer"
      ],
      "execution_count": null,
      "outputs": []
    }
  ]
}