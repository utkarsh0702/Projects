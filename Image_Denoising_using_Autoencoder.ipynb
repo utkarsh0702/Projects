{
  "nbformat": 4,
  "nbformat_minor": 0,
  "metadata": {
    "colab": {
      "name": "Image Denoising using Autoencoder.ipynb",
      "provenance": [],
      "collapsed_sections": [],
      "authorship_tag": "ABX9TyMcP0n3U2zid6MAcQ/11wGp",
      "include_colab_link": true
    },
    "kernelspec": {
      "name": "python3",
      "display_name": "Python 3"
    },
    "accelerator": "GPU"
  },
  "cells": [
    {
      "cell_type": "markdown",
      "metadata": {
        "id": "view-in-github",
        "colab_type": "text"
      },
      "source": [
        "<a href=\"https://colab.research.google.com/github/utkarsh0702/Projects/blob/master/Image_Denoising_using_Autoencoder.ipynb\" target=\"_parent\"><img src=\"https://colab.research.google.com/assets/colab-badge.svg\" alt=\"Open In Colab\"/></a>"
      ]
    },
    {
      "cell_type": "code",
      "metadata": {
        "id": "RCeLkoGi4s2S",
        "colab_type": "code",
        "colab": {}
      },
      "source": [
        "import tensorflow as tf\n",
        "import pandas as pd\n",
        "import numpy as np\n",
        "import matplotlib.pyplot as plt\n",
        "import seaborn as sns\n",
        "import random"
      ],
      "execution_count": 13,
      "outputs": []
    },
    {
      "cell_type": "code",
      "metadata": {
        "id": "p-GR6813APuk",
        "colab_type": "code",
        "colab": {
          "base_uri": "https://localhost:8080/",
          "height": 299
        },
        "outputId": "6ccd539f-cfd0-46a5-e0c8-66161197ebca"
      },
      "source": [
        "(x_train, y_train), (x_test, y_test)= tf.keras.datasets.fashion_mnist.load_data()\n",
        "\n",
        "plt.imshow(x_train[0], cmap='gray')\n",
        "print(x_train.shape)\n",
        "print(x_test.shape)"
      ],
      "execution_count": 14,
      "outputs": [
        {
          "output_type": "stream",
          "text": [
            "(60000, 28, 28)\n",
            "(10000, 28, 28)\n"
          ],
          "name": "stdout"
        },
        {
          "output_type": "display_data",
          "data": {
            "image/png": "[encoded data removed]",
            "text/plain": [
              "<Figure size 432x288 with 1 Axes>"
            ]
          },
          "metadata": {
            "tags": [],
            "needs_background": "light"
          }
        }
      ]
    },
    {
      "cell_type": "markdown",
      "metadata": {
        "id": "TV1qqm3JBEBA",
        "colab_type": "text"
      },
      "source": [
        "# Preprocessing data to create a noise dataset"
      ]
    },
    {
      "cell_type": "code",
      "metadata": {
        "id": "cYfl5f3MA90G",
        "colab_type": "code",
        "colab": {}
      },
      "source": [
        "x_train= x_train/ 255.\n",
        "x_test= x_test/ 255.\n",
        "\n",
        "#for training data\n",
        "noise =0.3\n",
        "noise_train_dataset=[]\n",
        "noise_test_dataset=[]\n",
        "\n",
        "for i in x_train:\n",
        "  noisy_image= i+ noise*np.random.randn(*i.shape)\n",
        "  noisy_image= np.clip(noisy_image, 0, 1)\n",
        "  noise_train_dataset.append(noisy_image)\n",
        "\n",
        "for i in x_test:\n",
        "  noisy_image= i+ noise*np.random.randn(*i.shape)\n",
        "  noisy_image= np.clip(noisy_image, 0, 1)\n",
        "  noise_test_dataset.append(noisy_image)"
      ],
      "execution_count": 15,
      "outputs": []
    },
    {
      "cell_type": "code",
      "metadata": {
        "id": "seNSiTTokIbz",
        "colab_type": "code",
        "colab": {
          "base_uri": "https://localhost:8080/",
          "height": 265
        },
        "outputId": "863718dc-16c2-4d75-ce52-a449df8831c8"
      },
      "source": [
        "#images of noise data set\n",
        "plt.imshow(noise_train_dataset[50], cmap='gray')\n",
        "plt.show()"
      ],
      "execution_count": 16,
      "outputs": [
        {
          "output_type": "display_data",
          "data": {
            "image/png": "[encoded data removed]",
            "text/plain": [
              "<Figure size 432x288 with 1 Axes>"
            ]
          },
          "metadata": {
            "tags": [],
            "needs_background": "light"
          }
        }
      ]
    },
    {
      "cell_type": "code",
      "metadata": {
        "id": "9wQQtL1XaGU5",
        "colab_type": "code",
        "colab": {}
      },
      "source": [
        "noise_train_dataset= np.array(noise_train_dataset)\n",
        "noise_test_dataset= np.array(noise_test_dataset)"
      ],
      "execution_count": 17,
      "outputs": []
    },
    {
      "cell_type": "markdown",
      "metadata": {
        "id": "u3hjK6DJCij9",
        "colab_type": "text"
      },
      "source": [
        "# Building the model"
      ]
    },
    {
      "cell_type": "code",
      "metadata": {
        "id": "PyG5SXc-CbRY",
        "colab_type": "code",
        "colab": {
          "base_uri": "https://localhost:8080/",
          "height": 323
        },
        "outputId": "ed76a6f8-617a-45a5-ba29-38569b508939"
      },
      "source": [
        "tf.keras.backend.clear_session()\n",
        "autoencoder= tf.keras.models.Sequential([\n",
        "                                         # encoder part\n",
        "                                         tf.keras.layers.Conv2D(16, (3,3), strides=2, padding='same', input_shape=(28,28,1)),\n",
        "                                         tf.keras.layers.Conv2D(8, (3,3), strides=2, padding='same'),\n",
        "                                         tf.keras.layers.Conv2D(8, (3,3), padding='same'),\n",
        "\n",
        "                                         # decoder part\n",
        "                                         tf.keras.layers.Conv2DTranspose(16, (3,3), strides=2, padding='same'),\n",
        "                                         tf.keras.layers.Conv2DTranspose(1, (3,3), strides=2, padding='same', activation='sigmoid')\n",
        "])\n",
        "\n",
        "#compiling the model\n",
        "autoencoder.compile(loss='binary_crossentropy', optimizer= tf.keras.optimizers.Adam())\n",
        "\n",
        "#summary of the model\n",
        "autoencoder.summary()"
      ],
      "execution_count": 18,
      "outputs": [
        {
          "output_type": "stream",
          "text": [
            "Model: \"sequential\"\n",
            "_________________________________________________________________\n",
            "Layer (type)                 Output Shape              Param #   \n",
            "=================================================================\n",
            "conv2d (Conv2D)              (None, 14, 14, 16)        160       \n",
            "_________________________________________________________________\n",
            "conv2d_1 (Conv2D)            (None, 7, 7, 8)           1160      \n",
            "_________________________________________________________________\n",
            "conv2d_2 (Conv2D)            (None, 7, 7, 8)           584       \n",
            "_________________________________________________________________\n",
            "conv2d_transpose (Conv2DTran (None, 14, 14, 16)        1168      \n",
            "_________________________________________________________________\n",
            "conv2d_transpose_1 (Conv2DTr (None, 28, 28, 1)         145       \n",
            "=================================================================\n",
            "Total params: 3,217\n",
            "Trainable params: 3,217\n",
            "Non-trainable params: 0\n",
            "_________________________________________________________________\n"
          ],
          "name": "stdout"
        }
      ]
    },
    {
      "cell_type": "code",
      "metadata": {
        "id": "6pOejDbAEIEM",
        "colab_type": "code",
        "colab": {
          "base_uri": "https://localhost:8080/",
          "height": 374
        },
        "outputId": "5fb2d81a-8a58-4194-ecf3-2f8186b852c2"
      },
      "source": [
        "autoencoder.fit(noise_train_dataset.reshape(-1, 28, 28, 1),\n",
        "                x_train.reshape(-1, 28, 28, 1), \n",
        "                epochs=10, batch_size=200, \n",
        "                validation_data= (noise_test_dataset.reshape(-1, 28, 28, 1), x_test.reshape(-1, 28, 28, 1)))"
      ],
      "execution_count": 19,
      "outputs": [
        {
          "output_type": "stream",
          "text": [
            "Epoch 1/10\n",
            "300/300 [==============================] - 2s 8ms/step - loss: 0.3962 - val_loss: 0.3251\n",
            "Epoch 2/10\n",
            "300/300 [==============================] - 2s 7ms/step - loss: 0.3159 - val_loss: 0.3133\n",
            "Epoch 3/10\n",
            "300/300 [==============================] - 2s 7ms/step - loss: 0.3087 - val_loss: 0.3091\n",
            "Epoch 4/10\n",
            "300/300 [==============================] - 2s 7ms/step - loss: 0.3058 - val_loss: 0.3074\n",
            "Epoch 5/10\n",
            "300/300 [==============================] - 2s 7ms/step - loss: 0.3044 - val_loss: 0.3062\n",
            "Epoch 6/10\n",
            "300/300 [==============================] - 2s 7ms/step - loss: 0.3035 - val_loss: 0.3054\n",
            "Epoch 7/10\n",
            "300/300 [==============================] - 2s 7ms/step - loss: 0.3029 - val_loss: 0.3051\n",
            "Epoch 8/10\n",
            "300/300 [==============================] - 2s 7ms/step - loss: 0.3024 - val_loss: 0.3044\n",
            "Epoch 9/10\n",
            "300/300 [==============================] - 2s 7ms/step - loss: 0.3019 - val_loss: 0.3038\n",
            "Epoch 10/10\n",
            "300/300 [==============================] - 2s 7ms/step - loss: 0.3013 - val_loss: 0.3033\n"
          ],
          "name": "stdout"
        },
        {
          "output_type": "execute_result",
          "data": {
            "text/plain": [
              "<tensorflow.python.keras.callbacks.History at 0x7fe078595208>"
            ]
          },
          "metadata": {
            "tags": []
          },
          "execution_count": 19
        }
      ]
    },
    {
      "cell_type": "code",
      "metadata": {
        "id": "d0zKiRT1TPfU",
        "colab_type": "code",
        "colab": {
          "base_uri": "https://localhost:8080/",
          "height": 51
        },
        "outputId": "3a6c2abd-1abe-41a9-d8e9-57c4a640594d"
      },
      "source": [
        "autoencoder.evaluate(noise_test_dataset.reshape(-1, 28, 28, 1), x_test.reshape(-1, 28, 28, 1))"
      ],
      "execution_count": 20,
      "outputs": [
        {
          "output_type": "stream",
          "text": [
            "313/313 [==============================] - 1s 3ms/step - loss: 0.3033\n"
          ],
          "name": "stdout"
        },
        {
          "output_type": "execute_result",
          "data": {
            "text/plain": [
              "0.3033200800418854"
            ]
          },
          "metadata": {
            "tags": []
          },
          "execution_count": 20
        }
      ]
    },
    {
      "cell_type": "markdown",
      "metadata": {
        "id": "G1he5K5GkZWw",
        "colab_type": "text"
      },
      "source": [
        "# Prediction"
      ]
    },
    {
      "cell_type": "code",
      "metadata": {
        "id": "MQzeTom8a6CV",
        "colab_type": "code",
        "colab": {
          "base_uri": "https://localhost:8080/",
          "height": 216
        },
        "outputId": "193b0f21-88c7-489b-dfdf-6fc893b86959"
      },
      "source": [
        "def predict_fun(n):\n",
        "  image= noise_test_dataset[n]\n",
        "  pred= autoencoder.predict(image.reshape(-1,28,28,1))\n",
        "  fig, (ax1, ax2)= plt.subplots( 1 , 2 )\n",
        "  ax1.imshow(image, cmap='gray')\n",
        "  ax1.set_title('Original image')\n",
        "  pred= pred.reshape(28,28)\n",
        "  ax2.imshow(pred, cmap='gray')\n",
        "  ax2.set_title('Predicted image')\n",
        "  plt.show()\n",
        "\n",
        "predict_fun(1000)"
      ],
      "execution_count": 21,
      "outputs": [
        {
          "output_type": "display_data",
          "data": {
            "image/png": "[encoded data removed]",
            "text/plain": [
              "<Figure size 432x288 with 2 Axes>"
            ]
          },
          "metadata": {
            "tags": [],
            "needs_background": "light"
          }
        }
      ]
    },
    {
      "cell_type": "code",
      "metadata": {
        "id": "7nH6yAZZcLRm",
        "colab_type": "code",
        "colab": {}
      },
      "source": [
        ""
      ],
      "execution_count": null,
      "outputs": []
    }
  ]
}