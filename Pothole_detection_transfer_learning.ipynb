{
  "nbformat": 4,
  "nbformat_minor": 0,
  "metadata": {
    "colab": {
      "name": "Pothole_detection_transfer_learning.ipynb",
      "provenance": [],
      "collapsed_sections": [],
      "include_colab_link": true
    },
    "kernelspec": {
      "name": "python3",
      "display_name": "Python 3"
    },
    "accelerator": "GPU"
  },
  "cells": [
    {
      "cell_type": "markdown",
      "metadata": {
        "id": "view-in-github",
        "colab_type": "text"
      },
      "source": [
        "<a href=\"https://colab.research.google.com/github/utkarsh0702/Projects/blob/master/Pothole_detection_transfer_learning.ipynb\" target=\"_parent\"><img src=\"https://colab.research.google.com/assets/colab-badge.svg\" alt=\"Open In Colab\"/></a>"
      ]
    },
    {
      "cell_type": "code",
      "metadata": {
        "id": "MQpX_thnzKSU",
        "colab_type": "code",
        "colab": {}
      },
      "source": [
        "import tensorflow as tf\n",
        "import os\n",
        "from tensorflow import keras\n",
        "import zipfile\n",
        "from google.colab import files"
      ],
      "execution_count": 0,
      "outputs": []
    },
    {
      "cell_type": "code",
      "metadata": {
        "id": "1IlEa-aBzXy1",
        "colab_type": "code",
        "outputId": "0d962244-731d-48b4-b158-d270dc5d63d1",
        "colab": {
          "base_uri": "https://localhost:8080/",
          "height": 34
        }
      },
      "source": [
        "device_name = tf.test.gpu_device_name()\n",
        "if device_name != '/device:GPU:0':\n",
        "  raise SystemError('GPU device not found')\n",
        "print('Found GPU at: {}'.format(device_name))"
      ],
      "execution_count": 16,
      "outputs": [
        {
          "output_type": "stream",
          "text": [
            "Found GPU at: /device:GPU:0\n"
          ],
          "name": "stdout"
        }
      ]
    },
    {
      "cell_type": "code",
      "metadata": {
        "id": "1ycn50Ekzbqo",
        "colab_type": "code",
        "outputId": "8ca8c3d3-86ce-4947-c15b-3bddb363c868",
        "colab": {
          "base_uri": "https://localhost:8080/",
          "height": 54
        }
      },
      "source": [
        "from google.colab import drive\n",
        "drive.mount('/content/drive')"
      ],
      "execution_count": 17,
      "outputs": [
        {
          "output_type": "stream",
          "text": [
            "Drive already mounted at /content/drive; to attempt to forcibly remount, call drive.mount(\"/content/drive\", force_remount=True).\n"
          ],
          "name": "stdout"
        }
      ]
    },
    {
      "cell_type": "code",
      "metadata": {
        "id": "6hR9Xy48zbpy",
        "colab_type": "code",
        "colab": {}
      },
      "source": [
        "local_zip= '/content/drive/My Drive/datasets/Pothole Dataset.zip'\n",
        "zip_ref= zipfile.ZipFile(local_zip, 'r')\n",
        "zip_ref.extractall('/content')\n",
        "zip_ref.close()"
      ],
      "execution_count": 0,
      "outputs": []
    },
    {
      "cell_type": "code",
      "metadata": {
        "id": "4uvkrG_czbo0",
        "colab_type": "code",
        "colab": {}
      },
      "source": [
        "train_pos_dir= os.path.join('/content/Pothole Dataset/Train/Positive')\n",
        "train_neg_dir= os.path.join('/content/Pothole Dataset/Train/Negative')\n",
        "test_pos_dir= os.path.join('/content/Pothole Dataset/Test/Positive')\n",
        "test_neg_dir= os.path.join('/content/Pothole Dataset/Test/Negative')"
      ],
      "execution_count": 0,
      "outputs": []
    },
    {
      "cell_type": "code",
      "metadata": {
        "id": "z5Up7j6Mzbne",
        "colab_type": "code",
        "outputId": "da51925e-5a62-43b3-f5bc-01a34ef89503",
        "colab": {
          "base_uri": "https://localhost:8080/",
          "height": 85
        }
      },
      "source": [
        "print('Total train Positive images: ',len(os.listdir(train_pos_dir)))\n",
        "print('Total train Negative images: ',len(os.listdir(train_neg_dir)))\n",
        "print('Total test Positive images: ',len(os.listdir(test_pos_dir)))\n",
        "print('Total test Negative images: ',len(os.listdir(test_neg_dir)))"
      ],
      "execution_count": 20,
      "outputs": [
        {
          "output_type": "stream",
          "text": [
            "Total train Positive images:  597\n",
            "Total train Negative images:  606\n",
            "Total test Positive images:  183\n",
            "Total test Negative images:  148\n"
          ],
          "name": "stdout"
        }
      ]
    },
    {
      "cell_type": "code",
      "metadata": {
        "id": "IYLCd4zSzbkQ",
        "colab_type": "code",
        "outputId": "b4a9113b-ec07-4276-e332-bc85e098cfb5",
        "colab": {
          "base_uri": "https://localhost:8080/",
          "height": 1000
        }
      },
      "source": [
        "feature_extractor = keras.applications.MobileNet(input_shape=(300,300,3),\n",
        "                                      include_top=False,\n",
        "                                      weights='imagenet')\n",
        "feature_extractor.summary()"
      ],
      "execution_count": 21,
      "outputs": [
        {
          "output_type": "stream",
          "text": [
            "/usr/local/lib/python3.6/dist-packages/keras_applications/mobilenet.py:207: UserWarning: `input_shape` is undefined or non-square, or `rows` is not in [128, 160, 192, 224]. Weights for input shape (224, 224) will be loaded as the default.\n",
            "  warnings.warn('`input_shape` is undefined or non-square, '\n"
          ],
          "name": "stderr"
        },
        {
          "output_type": "stream",
          "text": [
            "Model: \"mobilenet_1.00_224\"\n",
            "_________________________________________________________________\n",
            "Layer (type)                 Output Shape              Param #   \n",
            "=================================================================\n",
            "input_2 (InputLayer)         [(None, 300, 300, 3)]     0         \n",
            "_________________________________________________________________\n",
            "conv1_pad (ZeroPadding2D)    (None, 301, 301, 3)       0         \n",
            "_________________________________________________________________\n",
            "conv1 (Conv2D)               (None, 150, 150, 32)      864       \n",
            "_________________________________________________________________\n",
            "conv1_bn (BatchNormalization (None, 150, 150, 32)      128       \n",
            "_________________________________________________________________\n",
            "conv1_relu (ReLU)            (None, 150, 150, 32)      0         \n",
            "_________________________________________________________________\n",
            "conv_dw_1 (DepthwiseConv2D)  (None, 150, 150, 32)      288       \n",
            "_________________________________________________________________\n",
            "conv_dw_1_bn (BatchNormaliza (None, 150, 150, 32)      128       \n",
            "_________________________________________________________________\n",
            "conv_dw_1_relu (ReLU)        (None, 150, 150, 32)      0         \n",
            "_________________________________________________________________\n",
            "conv_pw_1 (Conv2D)           (None, 150, 150, 64)      2048      \n",
            "_________________________________________________________________\n",
            "conv_pw_1_bn (BatchNormaliza (None, 150, 150, 64)      256       \n",
            "_________________________________________________________________\n",
            "conv_pw_1_relu (ReLU)        (None, 150, 150, 64)      0         \n",
            "_________________________________________________________________\n",
            "conv_pad_2 (ZeroPadding2D)   (None, 151, 151, 64)      0         \n",
            "_________________________________________________________________\n",
            "conv_dw_2 (DepthwiseConv2D)  (None, 75, 75, 64)        576       \n",
            "_________________________________________________________________\n",
            "conv_dw_2_bn (BatchNormaliza (None, 75, 75, 64)        256       \n",
            "_________________________________________________________________\n",
            "conv_dw_2_relu (ReLU)        (None, 75, 75, 64)        0         \n",
            "_________________________________________________________________\n",
            "conv_pw_2 (Conv2D)           (None, 75, 75, 128)       8192      \n",
            "_________________________________________________________________\n",
            "conv_pw_2_bn (BatchNormaliza (None, 75, 75, 128)       512       \n",
            "_________________________________________________________________\n",
            "conv_pw_2_relu (ReLU)        (None, 75, 75, 128)       0         \n",
            "_________________________________________________________________\n",
            "conv_dw_3 (DepthwiseConv2D)  (None, 75, 75, 128)       1152      \n",
            "_________________________________________________________________\n",
            "conv_dw_3_bn (BatchNormaliza (None, 75, 75, 128)       512       \n",
            "_________________________________________________________________\n",
            "conv_dw_3_relu (ReLU)        (None, 75, 75, 128)       0         \n",
            "_________________________________________________________________\n",
            "conv_pw_3 (Conv2D)           (None, 75, 75, 128)       16384     \n",
            "_________________________________________________________________\n",
            "conv_pw_3_bn (BatchNormaliza (None, 75, 75, 128)       512       \n",
            "_________________________________________________________________\n",
            "conv_pw_3_relu (ReLU)        (None, 75, 75, 128)       0         \n",
            "_________________________________________________________________\n",
            "conv_pad_4 (ZeroPadding2D)   (None, 76, 76, 128)       0         \n",
            "_________________________________________________________________\n",
            "conv_dw_4 (DepthwiseConv2D)  (None, 37, 37, 128)       1152      \n",
            "_________________________________________________________________\n",
            "conv_dw_4_bn (BatchNormaliza (None, 37, 37, 128)       512       \n",
            "_________________________________________________________________\n",
            "conv_dw_4_relu (ReLU)        (None, 37, 37, 128)       0         \n",
            "_________________________________________________________________\n",
            "conv_pw_4 (Conv2D)           (None, 37, 37, 256)       32768     \n",
            "_________________________________________________________________\n",
            "conv_pw_4_bn (BatchNormaliza (None, 37, 37, 256)       1024      \n",
            "_________________________________________________________________\n",
            "conv_pw_4_relu (ReLU)        (None, 37, 37, 256)       0         \n",
            "_________________________________________________________________\n",
            "conv_dw_5 (DepthwiseConv2D)  (None, 37, 37, 256)       2304      \n",
            "_________________________________________________________________\n",
            "conv_dw_5_bn (BatchNormaliza (None, 37, 37, 256)       1024      \n",
            "_________________________________________________________________\n",
            "conv_dw_5_relu (ReLU)        (None, 37, 37, 256)       0         \n",
            "_________________________________________________________________\n",
            "conv_pw_5 (Conv2D)           (None, 37, 37, 256)       65536     \n",
            "_________________________________________________________________\n",
            "conv_pw_5_bn (BatchNormaliza (None, 37, 37, 256)       1024      \n",
            "_________________________________________________________________\n",
            "conv_pw_5_relu (ReLU)        (None, 37, 37, 256)       0         \n",
            "_________________________________________________________________\n",
            "conv_pad_6 (ZeroPadding2D)   (None, 38, 38, 256)       0         \n",
            "_________________________________________________________________\n",
            "conv_dw_6 (DepthwiseConv2D)  (None, 18, 18, 256)       2304      \n",
            "_________________________________________________________________\n",
            "conv_dw_6_bn (BatchNormaliza (None, 18, 18, 256)       1024      \n",
            "_________________________________________________________________\n",
            "conv_dw_6_relu (ReLU)        (None, 18, 18, 256)       0         \n",
            "_________________________________________________________________\n",
            "conv_pw_6 (Conv2D)           (None, 18, 18, 512)       131072    \n",
            "_________________________________________________________________\n",
            "conv_pw_6_bn (BatchNormaliza (None, 18, 18, 512)       2048      \n",
            "_________________________________________________________________\n",
            "conv_pw_6_relu (ReLU)        (None, 18, 18, 512)       0         \n",
            "_________________________________________________________________\n",
            "conv_dw_7 (DepthwiseConv2D)  (None, 18, 18, 512)       4608      \n",
            "_________________________________________________________________\n",
            "conv_dw_7_bn (BatchNormaliza (None, 18, 18, 512)       2048      \n",
            "_________________________________________________________________\n",
            "conv_dw_7_relu (ReLU)        (None, 18, 18, 512)       0         \n",
            "_________________________________________________________________\n",
            "conv_pw_7 (Conv2D)           (None, 18, 18, 512)       262144    \n",
            "_________________________________________________________________\n",
            "conv_pw_7_bn (BatchNormaliza (None, 18, 18, 512)       2048      \n",
            "_________________________________________________________________\n",
            "conv_pw_7_relu (ReLU)        (None, 18, 18, 512)       0         \n",
            "_________________________________________________________________\n",
            "conv_dw_8 (DepthwiseConv2D)  (None, 18, 18, 512)       4608      \n",
            "_________________________________________________________________\n",
            "conv_dw_8_bn (BatchNormaliza (None, 18, 18, 512)       2048      \n",
            "_________________________________________________________________\n",
            "conv_dw_8_relu (ReLU)        (None, 18, 18, 512)       0         \n",
            "_________________________________________________________________\n",
            "conv_pw_8 (Conv2D)           (None, 18, 18, 512)       262144    \n",
            "_________________________________________________________________\n",
            "conv_pw_8_bn (BatchNormaliza (None, 18, 18, 512)       2048      \n",
            "_________________________________________________________________\n",
            "conv_pw_8_relu (ReLU)        (None, 18, 18, 512)       0         \n",
            "_________________________________________________________________\n",
            "conv_dw_9 (DepthwiseConv2D)  (None, 18, 18, 512)       4608      \n",
            "_________________________________________________________________\n",
            "conv_dw_9_bn (BatchNormaliza (None, 18, 18, 512)       2048      \n",
            "_________________________________________________________________\n",
            "conv_dw_9_relu (ReLU)        (None, 18, 18, 512)       0         \n",
            "_________________________________________________________________\n",
            "conv_pw_9 (Conv2D)           (None, 18, 18, 512)       262144    \n",
            "_________________________________________________________________\n",
            "conv_pw_9_bn (BatchNormaliza (None, 18, 18, 512)       2048      \n",
            "_________________________________________________________________\n",
            "conv_pw_9_relu (ReLU)        (None, 18, 18, 512)       0         \n",
            "_________________________________________________________________\n",
            "conv_dw_10 (DepthwiseConv2D) (None, 18, 18, 512)       4608      \n",
            "_________________________________________________________________\n",
            "conv_dw_10_bn (BatchNormaliz (None, 18, 18, 512)       2048      \n",
            "_________________________________________________________________\n",
            "conv_dw_10_relu (ReLU)       (None, 18, 18, 512)       0         \n",
            "_________________________________________________________________\n",
            "conv_pw_10 (Conv2D)          (None, 18, 18, 512)       262144    \n",
            "_________________________________________________________________\n",
            "conv_pw_10_bn (BatchNormaliz (None, 18, 18, 512)       2048      \n",
            "_________________________________________________________________\n",
            "conv_pw_10_relu (ReLU)       (None, 18, 18, 512)       0         \n",
            "_________________________________________________________________\n",
            "conv_dw_11 (DepthwiseConv2D) (None, 18, 18, 512)       4608      \n",
            "_________________________________________________________________\n",
            "conv_dw_11_bn (BatchNormaliz (None, 18, 18, 512)       2048      \n",
            "_________________________________________________________________\n",
            "conv_dw_11_relu (ReLU)       (None, 18, 18, 512)       0         \n",
            "_________________________________________________________________\n",
            "conv_pw_11 (Conv2D)          (None, 18, 18, 512)       262144    \n",
            "_________________________________________________________________\n",
            "conv_pw_11_bn (BatchNormaliz (None, 18, 18, 512)       2048      \n",
            "_________________________________________________________________\n",
            "conv_pw_11_relu (ReLU)       (None, 18, 18, 512)       0         \n",
            "_________________________________________________________________\n",
            "conv_pad_12 (ZeroPadding2D)  (None, 19, 19, 512)       0         \n",
            "_________________________________________________________________\n",
            "conv_dw_12 (DepthwiseConv2D) (None, 9, 9, 512)         4608      \n",
            "_________________________________________________________________\n",
            "conv_dw_12_bn (BatchNormaliz (None, 9, 9, 512)         2048      \n",
            "_________________________________________________________________\n",
            "conv_dw_12_relu (ReLU)       (None, 9, 9, 512)         0         \n",
            "_________________________________________________________________\n",
            "conv_pw_12 (Conv2D)          (None, 9, 9, 1024)        524288    \n",
            "_________________________________________________________________\n",
            "conv_pw_12_bn (BatchNormaliz (None, 9, 9, 1024)        4096      \n",
            "_________________________________________________________________\n",
            "conv_pw_12_relu (ReLU)       (None, 9, 9, 1024)        0         \n",
            "_________________________________________________________________\n",
            "conv_dw_13 (DepthwiseConv2D) (None, 9, 9, 1024)        9216      \n",
            "_________________________________________________________________\n",
            "conv_dw_13_bn (BatchNormaliz (None, 9, 9, 1024)        4096      \n",
            "_________________________________________________________________\n",
            "conv_dw_13_relu (ReLU)       (None, 9, 9, 1024)        0         \n",
            "_________________________________________________________________\n",
            "conv_pw_13 (Conv2D)          (None, 9, 9, 1024)        1048576   \n",
            "_________________________________________________________________\n",
            "conv_pw_13_bn (BatchNormaliz (None, 9, 9, 1024)        4096      \n",
            "_________________________________________________________________\n",
            "conv_pw_13_relu (ReLU)       (None, 9, 9, 1024)        0         \n",
            "=================================================================\n",
            "Total params: 3,228,864\n",
            "Trainable params: 3,206,976\n",
            "Non-trainable params: 21,888\n",
            "_________________________________________________________________\n"
          ],
          "name": "stdout"
        }
      ]
    },
    {
      "cell_type": "code",
      "metadata": {
        "id": "wYj6iiKwzbjY",
        "colab_type": "code",
        "outputId": "ab660d69-2069-4cf0-a8aa-df59a185a4d7",
        "colab": {
          "base_uri": "https://localhost:8080/",
          "height": 425
        }
      },
      "source": [
        "model2= keras.Sequential([\n",
        "                         feature_extractor,\n",
        "                         keras.layers.GlobalAveragePooling2D(),\n",
        "                         keras.layers.Flatten(),\n",
        "                         keras.layers.Dense(256, activation=\"relu\"),\n",
        "                         keras.layers.Dropout(0.4),\n",
        "                         keras.layers.Dense(512, activation=\"relu\", activity_regularizer= keras.regularizers.l1(0.01)),\n",
        "                         keras.layers.Dropout(0.4),\n",
        "                         keras.layers.Dense(2, activation= \"sigmoid\")\n",
        "])\n",
        "model2.summary()"
      ],
      "execution_count": 37,
      "outputs": [
        {
          "output_type": "stream",
          "text": [
            "Model: \"sequential_4\"\n",
            "_________________________________________________________________\n",
            "Layer (type)                 Output Shape              Param #   \n",
            "=================================================================\n",
            "mobilenet_1.00_224 (Model)   (None, 9, 9, 1024)        3228864   \n",
            "_________________________________________________________________\n",
            "global_average_pooling2d_4 ( (None, 1024)              0         \n",
            "_________________________________________________________________\n",
            "flatten_4 (Flatten)          (None, 1024)              0         \n",
            "_________________________________________________________________\n",
            "dense_12 (Dense)             (None, 256)               262400    \n",
            "_________________________________________________________________\n",
            "dropout_2 (Dropout)          (None, 256)               0         \n",
            "_________________________________________________________________\n",
            "dense_13 (Dense)             (None, 512)               131584    \n",
            "_________________________________________________________________\n",
            "dropout_3 (Dropout)          (None, 512)               0         \n",
            "_________________________________________________________________\n",
            "dense_14 (Dense)             (None, 2)                 1026      \n",
            "=================================================================\n",
            "Total params: 3,623,874\n",
            "Trainable params: 3,601,986\n",
            "Non-trainable params: 21,888\n",
            "_________________________________________________________________\n"
          ],
          "name": "stdout"
        }
      ]
    },
    {
      "cell_type": "code",
      "metadata": {
        "id": "bNBzOe0Yzbh-",
        "colab_type": "code",
        "colab": {}
      },
      "source": [
        "num_layers= 10\n",
        "feature_extractor.trainable= True;\n",
        "for Layers in model2.layers[-num_layers:]:\n",
        "  Layers.trainable= True"
      ],
      "execution_count": 0,
      "outputs": []
    },
    {
      "cell_type": "code",
      "metadata": {
        "id": "5XW6L1F2zbg7",
        "colab_type": "code",
        "colab": {}
      },
      "source": [
        "model2.compile(\n",
        "    optimizer= keras.optimizers.Adam(learning_rate=0.01, name='Adam'),\n",
        "    loss= keras.losses.CategoricalCrossentropy(),\n",
        "    metrics=['accuracy']\n",
        ")"
      ],
      "execution_count": 0,
      "outputs": []
    },
    {
      "cell_type": "code",
      "metadata": {
        "id": "F65ckswwzbfv",
        "colab_type": "code",
        "outputId": "83d6fea1-d3dc-4378-a6a0-89c43a5969b4",
        "colab": {
          "base_uri": "https://localhost:8080/",
          "height": 51
        }
      },
      "source": [
        "from tensorflow.keras.preprocessing.image import ImageDataGenerator\n",
        "\n",
        "train_datagen= ImageDataGenerator(\n",
        "    rescale= 1./255,\n",
        "    rotation_range=40,\n",
        "    width_shift_range=0.2,\n",
        "    height_shift_range=0.2,\n",
        "    shear_range=0.2,\n",
        "    zoom_range=0.2,\n",
        "    horizontal_flip=True,\n",
        "    fill_mode='nearest'\n",
        ")\n",
        "train_gen= train_datagen.flow_from_directory( '/content/Pothole Dataset/Train',\n",
        "                                             target_size=(300,300),\n",
        "                                            batch_size=25,\n",
        "                                            class_mode='categorical',\n",
        "                                             shuffle= True)\n",
        "\n",
        "test_datagen= ImageDataGenerator(\n",
        "    rescale= 1./255,\n",
        "    rotation_range=40,\n",
        "    width_shift_range=0.2,\n",
        "    height_shift_range=0.2,\n",
        "    shear_range=0.2,\n",
        "    zoom_range=0.2,\n",
        "    horizontal_flip=True,\n",
        "    fill_mode='nearest'\n",
        ")\n",
        "test_gen= test_datagen.flow_from_directory( '/content/Pothole Dataset/Test',\n",
        "                                           target_size=(300,300),\n",
        "                                            batch_size=7,\n",
        "                                            class_mode='categorical',\n",
        "                                           shuffle=True)"
      ],
      "execution_count": 40,
      "outputs": [
        {
          "output_type": "stream",
          "text": [
            "Found 1203 images belonging to 2 classes.\n",
            "Found 331 images belonging to 2 classes.\n"
          ],
          "name": "stdout"
        }
      ]
    },
    {
      "cell_type": "code",
      "metadata": {
        "id": "6Qs7VGXL5Z9e",
        "colab_type": "code",
        "colab": {}
      },
      "source": [
        "class myCall(keras.callbacks.Callback):\n",
        "  def on_epoch_end(self, epoch, logs={}):\n",
        "    if(logs.get('val_acc')>0.8 and logs.get('val_loss')<0.5):\n",
        "      print('\\nThe Training is Cancelled.....')\n",
        "      self.model.stop_training= True\n",
        "\n",
        "callback= myCall()"
      ],
      "execution_count": 0,
      "outputs": []
    },
    {
      "cell_type": "code",
      "metadata": {
        "id": "vhcvYrPxzbIx",
        "colab_type": "code",
        "outputId": "1ee61819-1df9-4fdd-ad38-0097a6c8a451",
        "colab": {
          "base_uri": "https://localhost:8080/",
          "height": 1000
        }
      },
      "source": [
        "history1= model2.fit_generator( train_gen,\n",
        "                   steps_per_epoch=50,\n",
        "                   epochs=20,\n",
        "                   validation_data= test_gen,\n",
        "                   validation_steps= 50,\n",
        "                   verbose=2,\n",
        "                   callbacks=[callback])"
      ],
      "execution_count": 45,
      "outputs": [
        {
          "output_type": "stream",
          "text": [
            "Epoch 1/20\n",
            "Epoch 1/20\n",
            "50/50 - 62s - loss: 3.0566 - acc: 0.6609\n",
            "50/50 - 206s - loss: 0.3515 - acc: 0.8795 - val_loss: 3.0566 - val_acc: 0.6609\n",
            "Epoch 2/20\n",
            "Epoch 1/20\n",
            "50/50 - 62s - loss: 1.0119 - acc: 0.7188\n",
            "50/50 - 177s - loss: 0.2515 - acc: 0.9544 - val_loss: 1.0119 - val_acc: 0.7188\n",
            "Epoch 3/20\n",
            "Epoch 1/20\n",
            "50/50 - 62s - loss: 3.8332 - acc: 0.5826\n",
            "50/50 - 172s - loss: 0.2625 - acc: 0.9502 - val_loss: 3.8332 - val_acc: 0.5826\n",
            "Epoch 4/20\n",
            "Epoch 1/20\n",
            "50/50 - 62s - loss: 1.6111 - acc: 0.6841\n",
            "50/50 - 178s - loss: 0.1777 - acc: 0.9688 - val_loss: 1.6111 - val_acc: 0.6841\n",
            "Epoch 5/20\n",
            "Epoch 1/20\n",
            "50/50 - 61s - loss: 0.6625 - acc: 0.6841\n",
            "50/50 - 175s - loss: 0.1436 - acc: 0.9739 - val_loss: 0.6625 - val_acc: 0.6841\n",
            "Epoch 6/20\n",
            "Epoch 1/20\n",
            "50/50 - 62s - loss: 0.6850 - acc: 0.6899\n",
            "50/50 - 176s - loss: 0.1934 - acc: 0.9577 - val_loss: 0.6850 - val_acc: 0.6899\n",
            "Epoch 7/20\n",
            "Epoch 1/20\n",
            "50/50 - 63s - loss: 0.9168 - acc: 0.6551\n",
            "50/50 - 176s - loss: 0.1387 - acc: 0.9756 - val_loss: 0.9168 - val_acc: 0.6551\n",
            "Epoch 8/20\n",
            "Epoch 1/20\n",
            "50/50 - 60s - loss: 0.9934 - acc: 0.6464\n",
            "50/50 - 172s - loss: 0.1358 - acc: 0.9739 - val_loss: 0.9934 - val_acc: 0.6464\n",
            "Epoch 9/20\n",
            "Epoch 1/20\n",
            "50/50 - 62s - loss: 0.6615 - acc: 0.5449\n",
            "50/50 - 180s - loss: 0.1544 - acc: 0.9609 - val_loss: 0.6615 - val_acc: 0.5449\n",
            "Epoch 10/20\n",
            "Epoch 1/20\n",
            "50/50 - 62s - loss: 0.6384 - acc: 0.7594\n",
            "50/50 - 175s - loss: 0.1611 - acc: 0.9544 - val_loss: 0.6384 - val_acc: 0.7594\n",
            "Epoch 11/20\n",
            "Epoch 1/20\n",
            "50/50 - 59s - loss: 0.6067 - acc: 0.8116\n",
            "50/50 - 175s - loss: 0.1743 - acc: 0.9503 - val_loss: 0.6067 - val_acc: 0.8116\n",
            "Epoch 12/20\n",
            "Epoch 1/20\n",
            "50/50 - 63s - loss: 1.4462 - acc: 0.7246\n",
            "50/50 - 178s - loss: 0.1636 - acc: 0.9634 - val_loss: 1.4462 - val_acc: 0.7246\n",
            "Epoch 13/20\n",
            "Epoch 1/20\n",
            "50/50 - 60s - loss: 1.4864 - acc: 0.6870\n",
            "50/50 - 173s - loss: 0.1356 - acc: 0.9723 - val_loss: 1.4864 - val_acc: 0.6870\n",
            "Epoch 14/20\n",
            "Epoch 1/20\n",
            "50/50 - 62s - loss: 0.9448 - acc: 0.5826\n",
            "50/50 - 180s - loss: 0.1205 - acc: 0.9723 - val_loss: 0.9448 - val_acc: 0.5826\n",
            "Epoch 15/20\n",
            "Epoch 1/20\n",
            "50/50 - 61s - loss: 0.6078 - acc: 0.5652\n",
            "50/50 - 175s - loss: 0.1727 - acc: 0.9487 - val_loss: 0.6078 - val_acc: 0.5652\n",
            "Epoch 16/20\n",
            "Epoch 1/20\n",
            "50/50 - 62s - loss: 0.6965 - acc: 0.6029\n",
            "50/50 - 174s - loss: 0.1821 - acc: 0.9610 - val_loss: 0.6965 - val_acc: 0.6029\n",
            "Epoch 17/20\n",
            "Epoch 1/20\n",
            "50/50 - 64s - loss: 0.7351 - acc: 0.7362\n",
            "50/50 - 179s - loss: 0.1386 - acc: 0.9664 - val_loss: 0.7351 - val_acc: 0.7362\n",
            "Epoch 18/20\n",
            "Epoch 1/20\n",
            "50/50 - 62s - loss: 0.7731 - acc: 0.5971\n",
            "50/50 - 174s - loss: 0.1326 - acc: 0.9685 - val_loss: 0.7731 - val_acc: 0.5971\n",
            "Epoch 19/20\n",
            "Epoch 1/20\n",
            "50/50 - 62s - loss: 0.8040 - acc: 0.6348\n",
            "50/50 - 177s - loss: 0.1635 - acc: 0.9576 - val_loss: 0.8040 - val_acc: 0.6348\n",
            "Epoch 20/20\n",
            "Epoch 1/20\n",
            "50/50 - 59s - loss: 0.4901 - acc: 0.7449\n",
            "50/50 - 174s - loss: 0.1215 - acc: 0.9739 - val_loss: 0.4901 - val_acc: 0.7449\n"
          ],
          "name": "stdout"
        }
      ]
    },
    {
      "cell_type": "code",
      "metadata": {
        "id": "HPuqDFtbx0qp",
        "colab_type": "code",
        "colab": {}
      },
      "source": [
        "import matplotlib.pyplot as plt\n"
      ],
      "execution_count": 0,
      "outputs": []
    },
    {
      "cell_type": "code",
      "metadata": {
        "id": "VvdfYWKz5xZg",
        "colab_type": "code",
        "outputId": "fe33d068-1237-4c22-d0e6-3214e71ea9fb",
        "colab": {
          "base_uri": "https://localhost:8080/",
          "height": 545
        }
      },
      "source": [
        "acc= history1.history['acc']\n",
        "val_acc= history1.history['val_acc']\n",
        "loss= history1.history['loss']\n",
        "val_loss= history1.history['val_loss']\n",
        "\n",
        "epochs= range(len(acc))\n",
        "plt.plot(epochs, acc, label='Accuracy')\n",
        "plt.plot(epochs, val_acc, label=' Test Accuracy')\n",
        "plt.title('Training and validation accuracy')\n",
        "plt.legend(loc='best')\n",
        "plt.show()\n",
        "\n",
        "plt.plot(epochs, loss, label='Loss')\n",
        "plt.plot(epochs, val_loss, label='Test Loss')\n",
        "plt.title('Training and validation loss')\n",
        "plt.legend(loc='best')\n",
        "plt.show()"
      ],
      "execution_count": 47,
      "outputs": [
        {
          "output_type": "display_data",
          "data": {
            "image/png": "[encoded data removed]",
            "text/plain": [
              "<Figure size 432x288 with 1 Axes>"
            ]
          },
          "metadata": {
            "tags": []
          }
        },
        {
          "output_type": "display_data",
          "data": {
            "image/png": "[encoded data removed]",
            "text/plain": [
              "<Figure size 432x288 with 1 Axes>"
            ]
          },
          "metadata": {
            "tags": []
          }
        }
      ]
    },
    {
      "cell_type": "code",
      "metadata": {
        "id": "ts8EBq4E55fu",
        "colab_type": "code",
        "colab": {}
      },
      "source": [
        "import pathlib\n",
        "import tensorflow as tf"
      ],
      "execution_count": 0,
      "outputs": []
    },
    {
      "cell_type": "code",
      "metadata": {
        "id": "B6kO7X3B6BGj",
        "colab_type": "code",
        "outputId": "fd628dca-14eb-4455-93d6-2b6c7f8b8138",
        "colab": {
          "base_uri": "https://localhost:8080/",
          "height": 34
        }
      },
      "source": [
        "export_dir= '/content/saved_model'\n",
        "tf.saved_model.save(model2, export_dir)"
      ],
      "execution_count": 49,
      "outputs": [
        {
          "output_type": "stream",
          "text": [
            "INFO:tensorflow:Assets written to: /content/saved_model/assets\n"
          ],
          "name": "stdout"
        }
      ]
    },
    {
      "cell_type": "code",
      "metadata": {
        "id": "U9R2K8Wo6Fad",
        "colab_type": "code",
        "outputId": "51135d80-2b34-40e7-da38-84126377c1fa",
        "colab": {
          "base_uri": "https://localhost:8080/",
          "height": 394
        }
      },
      "source": [
        "#converting and quantizing the model\n",
        "converter= tf.lite.TFLiteConverter.from_saved_model(export_dir)\n",
        "converter.allow_custom_ops= True\n",
        "converter.optimization=[tf.lite.Optimize.DEFAULT]\n",
        "tflite_model= converter.convert()"
      ],
      "execution_count": 50,
      "outputs": [
        {
          "output_type": "stream",
          "text": [
            "WARNING:tensorflow:From /usr/local/lib/python3.6/dist-packages/tensorflow_core/lite/python/convert_saved_model.py:60: load (from tensorflow.python.saved_model.loader_impl) is deprecated and will be removed in a future version.\n",
            "Instructions for updating:\n",
            "This function will only be available through the v1 compatibility library as tf.compat.v1.saved_model.loader.load or tf.compat.v1.saved_model.load. There will be a new function for importing SavedModels in Tensorflow 2.0.\n",
            "INFO:tensorflow:Restoring parameters from /content/saved_model/variables/variables\n",
            "INFO:tensorflow:The given SavedModel MetaGraphDef contains SignatureDefs with the following keys: {'__saved_model_init_op', 'serving_default'}\n",
            "INFO:tensorflow:input tensors info: \n",
            "INFO:tensorflow:Tensor's key in saved_model's tensor_map: mobilenet_1.00_224_input\n",
            "INFO:tensorflow: tensor name: serving_default_mobilenet_1.00_224_input:0, shape: (-1, 300, 300, 3), type: DT_FLOAT\n",
            "INFO:tensorflow:output tensors info: \n",
            "INFO:tensorflow:Tensor's key in saved_model's tensor_map: dense_14\n",
            "INFO:tensorflow: tensor name: StatefulPartitionedCall:0, shape: (-1, 2), type: DT_FLOAT\n",
            "INFO:tensorflow:Restoring parameters from /content/saved_model/variables/variables\n",
            "WARNING:tensorflow:From /usr/local/lib/python3.6/dist-packages/tensorflow_core/lite/python/util.py:249: convert_variables_to_constants (from tensorflow.python.framework.graph_util_impl) is deprecated and will be removed in a future version.\n",
            "Instructions for updating:\n",
            "Use `tf.compat.v1.graph_util.convert_variables_to_constants`\n",
            "WARNING:tensorflow:From /usr/local/lib/python3.6/dist-packages/tensorflow_core/python/framework/graph_util_impl.py:277: extract_sub_graph (from tensorflow.python.framework.graph_util_impl) is deprecated and will be removed in a future version.\n",
            "Instructions for updating:\n",
            "Use `tf.compat.v1.graph_util.extract_sub_graph`\n",
            "INFO:tensorflow:Froze 141 variables.\n",
            "INFO:tensorflow:Converted 141 variables to const ops.\n"
          ],
          "name": "stdout"
        },
        {
          "output_type": "stream",
          "text": [
            "Use '@tf.function' or '@defun' to decorate the function.Use '@tf.function' or '@defun' to decorate the function.Use '@tf.function' or '@defun' to decorate the function.Use '@tf.function' or '@defun' to decorate the function.Use '@tf.function' or '@defun' to decorate the function.Use '@tf.function' or '@defun' to decorate the function.Use '@tf.function' or '@defun' to decorate the function.Use '@tf.function' or '@defun' to decorate the function.Use '@tf.function' or '@defun' to decorate the function.Use '@tf.function' or '@defun' to decorate the function.Use '@tf.function' or '@defun' to decorate the function.Use '@tf.function' or '@defun' to decorate the function.Use '@tf.function' or '@defun' to decorate the function.Use '@tf.function' or '@defun' to decorate the function.Use '@tf.function' or '@defun' to decorate the function.Use '@tf.function' or '@defun' to decorate the function.Use '@tf.function' or '@defun' to decorate the function.Use '@tf.function' or '@defun' to decorate the function.Use '@tf.function' or '@defun' to decorate the function.Use '@tf.function' or '@defun' to decorate the function.Use '@tf.function' or '@defun' to decorate the function.Use '@tf.function' or '@defun' to decorate the function.Use '@tf.function' or '@defun' to decorate the function.Use '@tf.function' or '@defun' to decorate the function.Use '@tf.function' or '@defun' to decorate the function.Use '@tf.function' or '@defun' to decorate the function.Use '@tf.function' or '@defun' to decorate the function.Use '@tf.function' or '@defun' to decorate the function.Use '@tf.function' or '@defun' to decorate the function.Use '@tf.function' or '@defun' to decorate the function.Use '@tf.function' or '@defun' to decorate the function.Use '@tf.function' or '@defun' to decorate the function.Use '@tf.function' or '@defun' to decorate the function.Use '@tf.function' or '@defun' to decorate the function.Use '@tf.function' or '@defun' to decorate the function.Use '@tf.function' or '@defun' to decorate the function.Use '@tf.function' or '@defun' to decorate the function.Use '@tf.function' or '@defun' to decorate the function.Use '@tf.function' or '@defun' to decorate the function.Use '@tf.function' or '@defun' to decorate the function.Use '@tf.function' or '@defun' to decorate the function.Use '@tf.function' or '@defun' to decorate the function.Use '@tf.function' or '@defun' to decorate the function.Use '@tf.function' or '@defun' to decorate the function.Use '@tf.function' or '@defun' to decorate the function.Use '@tf.function' or '@defun' to decorate the function.Use '@tf.function' or '@defun' to decorate the function.Use '@tf.function' or '@defun' to decorate the function.Use '@tf.function' or '@defun' to decorate the function.Use '@tf.function' or '@defun' to decorate the function.Use '@tf.function' or '@defun' to decorate the function.Use '@tf.function' or '@defun' to decorate the function.Use '@tf.function' or '@defun' to decorate the function.Use '@tf.function' or '@defun' to decorate the function.Use '@tf.function' or '@defun' to decorate the function.Use '@tf.function' or '@defun' to decorate the function.Use '@tf.function' or '@defun' to decorate the function.Use '@tf.function' or '@defun' to decorate the function.Use '@tf.function' or '@defun' to decorate the function.Use '@tf.function' or '@defun' to decorate the function.Use '@tf.function' or '@defun' to decorate the function.Use '@tf.function' or '@defun' to decorate the function.Use '@tf.function' or '@defun' to decorate the function.Use '@tf.function' or '@defun' to decorate the function.Use '@tf.function' or '@defun' to decorate the function.Use '@tf.function' or '@defun' to decorate the function.Use '@tf.function' or '@defun' to decorate the function.Use '@tf.function' or '@defun' to decorate the function.Use '@tf.function' or '@defun' to decorate the function.Use '@tf.function' or '@defun' to decorate the function.Use '@tf.function' or '@defun' to decorate the function.Use '@tf.function' or '@defun' to decorate the function.Use '@tf.function' or '@defun' to decorate the function.Use '@tf.function' or '@defun' to decorate the function.Use '@tf.function' or '@defun' to decorate the function.Use '@tf.function' or '@defun' to decorate the function.Use '@tf.function' or '@defun' to decorate the function.Use '@tf.function' or '@defun' to decorate the function.Use '@tf.function' or '@defun' to decorate the function.Use '@tf.function' or '@defun' to decorate the function.Use '@tf.function' or '@defun' to decorate the function.Use '@tf.function' or '@defun' to decorate the function.Use '@tf.function' or '@defun' to decorate the function.Use '@tf.function' or '@defun' to decorate the function.Use '@tf.function' or '@defun' to decorate the function.Use '@tf.function' or '@defun' to decorate the function.Use '@tf.function' or '@defun' to decorate the function.Use '@tf.function' or '@defun' to decorate the function.Use '@tf.function' or '@defun' to decorate the function.Use '@tf.function' or '@defun' to decorate the function.Use '@tf.function' or '@defun' to decorate the function.Use '@tf.function' or '@defun' to decorate the function.Use '@tf.function' or '@defun' to decorate the function.Use '@tf.function' or '@defun' to decorate the function.Use '@tf.function' or '@defun' to decorate the function.Use '@tf.function' or '@defun' to decorate the function.Use '@tf.function' or '@defun' to decorate the function.Use '@tf.function' or '@defun' to decorate the function.Use '@tf.function' or '@defun' to decorate the function.Use '@tf.function' or '@defun' to decorate the function.Use '@tf.function' or '@defun' to decorate the function.Use '@tf.function' or '@defun' to decorate the function.Use '@tf.function' or '@defun' to decorate the function.Use '@tf.function' or '@defun' to decorate the function.Use '@tf.function' or '@defun' to decorate the function.Use '@tf.function' or '@defun' to decorate the function.Use '@tf.function' or '@defun' to decorate the function.Use '@tf.function' or '@defun' to decorate the function.Use '@tf.function' or '@defun' to decorate the function.Use '@tf.function' or '@defun' to decorate the function.Use '@tf.function' or '@defun' to decorate the function.Use '@tf.function' or '@defun' to decorate the function.Use '@tf.function' or '@defun' to decorate the function.Use '@tf.function' or '@defun' to decorate the function."
          ],
          "name": "stderr"
        }
      ]
    },
    {
      "cell_type": "code",
      "metadata": {
        "id": "WH-DV0da6LEf",
        "colab_type": "code",
        "outputId": "e39dc44d-08fe-4208-9dc4-24d8296bfd12",
        "colab": {
          "base_uri": "https://localhost:8080/",
          "height": 34
        }
      },
      "source": [
        "#save the model\n",
        "tflite_model_file= pathlib.Path('/content/drive/My Drive/PD_transfer_learning_latest.tflite')\n",
        "tflite_model_file.write_bytes( tflite_model )"
      ],
      "execution_count": 51,
      "outputs": [
        {
          "output_type": "execute_result",
          "data": {
            "text/plain": [
              "14382464"
            ]
          },
          "metadata": {
            "tags": []
          },
          "execution_count": 51
        }
      ]
    },
    {
      "cell_type": "code",
      "metadata": {
        "id": "_GFH51yQ6Piw",
        "colab_type": "code",
        "outputId": "1430c01f-c099-4915-f6c1-3fac8427db07",
        "colab": {
          "base_uri": "https://localhost:8080/",
          "height": 34
        }
      },
      "source": [
        "print(model)"
      ],
      "execution_count": 52,
      "outputs": [
        {
          "output_type": "stream",
          "text": [
            "<tensorflow.python.keras.engine.sequential.Sequential object at 0x7f94bf8ad240>\n"
          ],
          "name": "stdout"
        }
      ]
    }
  ]
}